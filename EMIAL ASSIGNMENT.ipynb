{
 "cells": [
  {
   "cell_type": "code",
   "execution_count": 10,
   "id": "45cf840d",
   "metadata": {},
   "outputs": [
    {
     "name": "stdout",
     "output_type": "stream",
     "text": [
      "First names are : ['Santhanam', ' Bhattacharjee', ' Bansal', ' Chandra Shekhar', ' J Doshi', ' Shimoga Prakash', ' Akhouri', ' Nath', ' Ponna', ' Singhal', ' Gorai', ' Valdez', ' Cancel', ' BONDALAKUNTA', ' priyanka uppala', ' Nitin SHINDE', ' Chidre', ' Sahu', ' Sikka', ' Dara', ' Pattanshetti', ' Sharma', ' Latorena', ' Abhimanyu Pradhan', ' Jaiswal', ' Gupta', ' Satti', ' Kumar', ' Balakrishnan', ' M S', ' Cheerala', ' G D', ' Nikhil Reddy', ' Santos', ' Milan', ' Gupta', ' Mandal', ' Prakash Shukla', ' Naganathan', ' GAHLOT', ' Kanjilal', ' Nallagoni', ' Sahajan', ' Nelluri']\n",
      "--------------*************************************--------------\n",
      "Last names are :['Jayendhran', 'Sankalan', 'Vaishnavi', 'Pavuluri', 'Hiren', 'Jeevan', 'Shreyash', 'Nupanga', 'Ramesh', 'Aditya', 'Sumit', 'Mariele Dyan Francely', 'Abigail Kyle', 'POOJITHA', 'sai', 'NIKHIL', 'Swapna', 'Swastik', 'Ankit', 'Sai Madhukar', 'Sampreet', 'Ayush', 'Zairous Jay', 'Roshankumar', 'Lehar', 'Retik', 'Phanindra Reddy', 'Manish', 'Devi Priya', 'Roshni Priya', 'Vanaja', 'Chandrashekhar', 'Madithati', 'Jeroshelle V.', 'Gerald John', 'Vivek', 'Sumit', 'Ashok', 'Siva', 'NIKHIL', 'Sourav', 'Omkar', 'Sandra', 'Chaitanya'] \n",
      "--------------*************************************--------------\n",
      "Email is :['jayendhran.ms@accenture.com', 's.t.bhattacharjee@accenture.com', 'vaishnavi.a.bansal@accenture.com', 'p.a.chandra.shekhar@accenture.com', 'hiren.j.doshi@accenture.com', 'j.shimoga.prakash@accenture.com', 'shreyash.akhouri@accenture.com', 'nupanga.nath@accenture.com', 'r.ponna@accenture.com', 'aditya.d.singhal@accenture.com', 'sumit.gorai@accenture.com', 'mariele.dyan.valdez@accenture.com', 'abigail.kyle.cancel@accenture.com', 'p.bondalakunta@accenture.com', 'sai.priyanka.uppala@accenture.com', 'nikhil.nitin.shinde@accenture.com', 'swapna.chidre@accenture.com', 's.satyapragyan.sahu@accenture.com', 'ankit.sikka@accenture.com', 'sai.madhukar.dara@accenture.com', 's.pattanshetti@accenture.com', 'ayush.ad.sharma@accenture.com', 'zairous.jay.latorena@accenture.com', 'r.abhimanyu.pradhan@accenture.com', 'lehar.jaiswal@accenture.com', 'retik.gupta@accenture.com', 'phanindra.r.satti@accenture.com', 'manish.dw.kumar@accenture.com', 'devi.p.balakrishnan@accenture.com', 'roshni.priya.m.s@accenture.com', 'vanaja.cheerala@accenture.com', 'chandrashekhar.g.d@accenture.com', 'm.nikhil.reddy@accenture.com', 'jeroshelle.v.santos@accenture.com', 'gerald.john.milan@accenture.com', 'vivek.u.gupta@accenture.com', 's.sunilkumar.mandal@accenture.com', 'ashok.prakash.shukla@accenture.com', 'sivakumar.naganathan@accenture.com', 'nikhil.gahlot@accenture.com', 's.a.kanti.kanjilal@accenture.com', 'omkar.nallagoni@accenture.com', 'sandra.sahajan@accenture.com', 'chaitanya.nelluri@accenture.com']\n",
      "--------------*************************************--------------\n",
      "{'accenture'}\n"
     ]
    }
   ],
   "source": [
    "file_path=\"email.txt\"\n",
    "file=open('emails.txt',encoding='utf-8-sig')\n",
    "str1=str(file.read())\n",
    "new_file=str1.split(';')\n",
    "first_name=[]\n",
    "Last_name=[]\n",
    "email=[]\n",
    "Company_name=[]\n",
    "for i in new_file:\n",
    "    fn=i[:i.find(',')]\n",
    "    first_name.append(fn)\n",
    "    sn=i[i.find(',')+2:i.find('<')-1]\n",
    "    Last_name.append(sn)\n",
    "    email_id=i[i.find('<')+1:i.find('>')]\n",
    "    email.append(email_id)\n",
    "    company_name=i[i.find('@')+1:i.find('.com')]\n",
    "    Company_name.append(company_name)\n",
    "    \n",
    "print(f\"First names are : {first_name}\")\n",
    "print('--------------*************************************--------------')\n",
    "print(f\"Last names are :{Last_name} \")\n",
    "print('--------------*************************************--------------')\n",
    "print(f\"Email is :{email}\")\n",
    "print('--------------*************************************--------------')\n",
    "print(set(Company_name))"
   ]
  },
  {
   "cell_type": "code",
   "execution_count": 11,
   "id": "300592e6",
   "metadata": {},
   "outputs": [
    {
     "name": "stdout",
     "output_type": "stream",
     "text": [
      "First names are : - ['Santhanam', ' Bhattacharjee', ' Bansal', ' Chandra Shekhar', ' J Doshi', ' Shimoga Prakash', ' Akhouri', ' Nath', ' Ponna', ' Singhal', ' Gorai', ' Valdez', ' Cancel', ' BONDALAKUNTA', ' priyanka uppala', ' Nitin SHINDE', ' Chidre', ' Sahu', ' Sikka', ' Dara', ' Pattanshetti', ' Sharma', ' Latorena', ' Abhimanyu Pradhan', ' Jaiswal', ' Gupta', ' Satti', ' Kumar', ' Balakrishnan', ' M S', ' Cheerala', ' G D', ' Nikhil Reddy', ' Santos', ' Milan', ' Gupta', ' Mandal', ' Prakash Shukla', ' Naganathan', ' GAHLOT', ' Kanjilal', ' Nallagoni', ' Sahajan', ' Nelluri']\n",
      "--------------*************************************--------------\n",
      "Last names are : ['jayendhran.ms@accenture.com', 's.t.bhattacharjee@accenture.com', 'vaishnavi.a.bansal@accenture.com', 'p.a.chandra.shekhar@accenture.com', 'hiren.j.doshi@accenture.com', 'j.shimoga.prakash@accenture.com', 'shreyash.akhouri@accenture.com', 'nupanga.nath@accenture.com', 'r.ponna@accenture.com', 'aditya.d.singhal@accenture.com', 'sumit.gorai@accenture.com', 'mariele.dyan.valdez@accenture.com', 'abigail.kyle.cancel@accenture.com', 'p.bondalakunta@accenture.com', 'sai.priyanka.uppala@accenture.com', 'nikhil.nitin.shinde@accenture.com', 'swapna.chidre@accenture.com', 's.satyapragyan.sahu@accenture.com', 'ankit.sikka@accenture.com', 'sai.madhukar.dara@accenture.com', 's.pattanshetti@accenture.com', 'ayush.ad.sharma@accenture.com', 'zairous.jay.latorena@accenture.com', 'r.abhimanyu.pradhan@accenture.com', 'lehar.jaiswal@accenture.com', 'retik.gupta@accenture.com', 'phanindra.r.satti@accenture.com', 'manish.dw.kumar@accenture.com', 'devi.p.balakrishnan@accenture.com', 'roshni.priya.m.s@accenture.com', 'vanaja.cheerala@accenture.com', 'chandrashekhar.g.d@accenture.com', 'm.nikhil.reddy@accenture.com', 'jeroshelle.v.santos@accenture.com', 'gerald.john.milan@accenture.com', 'vivek.u.gupta@accenture.com', 's.sunilkumar.mandal@accenture.com', 'ashok.prakash.shukla@accenture.com', 'sivakumar.naganathan@accenture.com', 'nikhil.gahlot@accenture.com', 's.a.kanti.kanjilal@accenture.com', 'omkar.nallagoni@accenture.com', 'sandra.sahajan@accenture.com', 'chaitanya.nelluri@accenture.com']\n",
      "--------------*************************************--------------\n",
      "Email Id are : ['jayendhran.ms@accenture.com', 's.t.bhattacharjee@accenture.com', 'vaishnavi.a.bansal@accenture.com', 'p.a.chandra.shekhar@accenture.com', 'hiren.j.doshi@accenture.com', 'j.shimoga.prakash@accenture.com', 'shreyash.akhouri@accenture.com', 'nupanga.nath@accenture.com', 'r.ponna@accenture.com', 'aditya.d.singhal@accenture.com', 'sumit.gorai@accenture.com', 'mariele.dyan.valdez@accenture.com', 'abigail.kyle.cancel@accenture.com', 'p.bondalakunta@accenture.com', 'sai.priyanka.uppala@accenture.com', 'nikhil.nitin.shinde@accenture.com', 'swapna.chidre@accenture.com', 's.satyapragyan.sahu@accenture.com', 'ankit.sikka@accenture.com', 'sai.madhukar.dara@accenture.com', 's.pattanshetti@accenture.com', 'ayush.ad.sharma@accenture.com', 'zairous.jay.latorena@accenture.com', 'r.abhimanyu.pradhan@accenture.com', 'lehar.jaiswal@accenture.com', 'retik.gupta@accenture.com', 'phanindra.r.satti@accenture.com', 'manish.dw.kumar@accenture.com', 'devi.p.balakrishnan@accenture.com', 'roshni.priya.m.s@accenture.com', 'vanaja.cheerala@accenture.com', 'chandrashekhar.g.d@accenture.com', 'm.nikhil.reddy@accenture.com', 'jeroshelle.v.santos@accenture.com', 'gerald.john.milan@accenture.com', 'vivek.u.gupta@accenture.com', 's.sunilkumar.mandal@accenture.com', 'ashok.prakash.shukla@accenture.com', 'sivakumar.naganathan@accenture.com', 'nikhil.gahlot@accenture.com', 's.a.kanti.kanjilal@accenture.com', 'omkar.nallagoni@accenture.com', 'sandra.sahajan@accenture.com', 'chaitanya.nelluri@accenture.com']\n",
      "--------------*************************************--------------\n",
      "Company names are : {'accenture'}\n"
     ]
    }
   ],
   "source": [
    "FN=[i[:i.find(',')] for i in new_file]\n",
    "LN=[i[i.find('<')+1:i.find('>')] for i in new_file]\n",
    "Email_ID=[i[i.find('<')+1:i.find('>')] for i in new_file]\n",
    "CN=[i[i.find('@')+1:i.find('.com')] for i in new_file]\n",
    "print(f\"First names are : - {FN}\")\n",
    "print('--------------*************************************--------------')\n",
    "print(f\"Last names are : {LN}\")\n",
    "print('--------------*************************************--------------')\n",
    "print(f\"Email Id are : {Email_ID}\")\n",
    "print('--------------*************************************--------------')\n",
    "print(\"Company names are :\",set(CN))"
   ]
  },
  {
   "cell_type": "code",
   "execution_count": null,
   "id": "c3bee093",
   "metadata": {},
   "outputs": [],
   "source": []
  }
 ],
 "metadata": {
  "kernelspec": {
   "display_name": "Python 3 (ipykernel)",
   "language": "python",
   "name": "python3"
  },
  "language_info": {
   "codemirror_mode": {
    "name": "ipython",
    "version": 3
   },
   "file_extension": ".py",
   "mimetype": "text/x-python",
   "name": "python",
   "nbconvert_exporter": "python",
   "pygments_lexer": "ipython3",
   "version": "3.11.5"
  }
 },
 "nbformat": 4,
 "nbformat_minor": 5
}
