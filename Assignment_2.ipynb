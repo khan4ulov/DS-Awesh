{
 "cells": [
  {
   "cell_type": "markdown",
   "id": "c4bf6d9e",
   "metadata": {},
   "source": [
    "***Q1 Ramesh’s basic salary is input through the keyboard. His dearness allowance is 40% of\n",
    "basic salary, and house rent allowance is 20% of basic salary. Write a program to calculate his gross salary***"
   ]
  },
  {
   "cell_type": "code",
   "execution_count": 43,
   "id": "752ca66a",
   "metadata": {},
   "outputs": [
    {
     "name": "stdout",
     "output_type": "stream",
     "text": [
      "please enter you basic salary :43344\n",
      "Ramesh Gross Salary is : 69350.4\n"
     ]
    }
   ],
   "source": [
    "try:\n",
    "    basic_salary=eval(input(\"please enter you basic salary :\"))\n",
    "    da=round(basic_salary*0.4,2)\n",
    "    hra=basic_salary*0.2\n",
    "    gross_salary=hra+da+basic_salary\n",
    "    print(\"Ramesh Gross Salary is :\",gross_salary)\n",
    "except Exception as e:\n",
    "    print(e)"
   ]
  },
  {
   "cell_type": "markdown",
   "id": "df256147",
   "metadata": {},
   "source": [
    "***Q.2 The distance between two cities (in km.) is input through the keyboard. Write a program\n",
    "to convert and print this distance in meters, feet, inches and centimeters.***"
   ]
  },
  {
   "cell_type": "code",
   "execution_count": 44,
   "id": "119f2539",
   "metadata": {},
   "outputs": [
    {
     "name": "stdout",
     "output_type": "stream",
     "text": [
      "Enter the distance between two city in KM :13\n",
      "Distance in KM is 13KM, in Meters is 13000meters, in Feet is 42640.0feet, in Inches is 511811.3inches and in Centimeter is 1300000centimeter\n"
     ]
    }
   ],
   "source": [
    "try:\n",
    "    dkm = eval(input(\"Enter the distance between two city in KM :\"))    #Distance in KM as DKM\n",
    "    dm=dkm*1000 #Distance in meter\n",
    "    df= round(dm*3.280,2) #Distance in Feet\n",
    "    di=round(dm*39.3701,2) #Distance in Inches\n",
    "    dc=dm*100 #Distance in Centimeter\n",
    "    print(\"Distance in KM is {}KM, in Meters is {}meters, in Feet is {}feet, in Inches is {}inches and in Centimeter is {}centimeter\".format(dkm,dm,df,di,dc))\n",
    "except Exception as e:\n",
    "    print(e)"
   ]
  },
  {
   "cell_type": "markdown",
   "id": "86594f0c",
   "metadata": {},
   "source": [
    "***Q. 3 If the marks obtained by a student in five different subjects are input through the\n",
    "keyboard, find out the aggregate marks and percentage marks obtained by the student.\n",
    "Assume that the maximum marks that can be obtained by a student in each subject is\n",
    "100.***"
   ]
  },
  {
   "cell_type": "code",
   "execution_count": 45,
   "id": "7422e5ac",
   "metadata": {},
   "outputs": [
    {
     "name": "stdout",
     "output_type": "stream",
     "text": [
      "Enter subject 1 marks :84\n",
      "Enter subject 2 marks :78\n",
      "Enter subject 3 marks :76\n",
      "Enter subject 4 marks :62\n",
      "Enter subject 5 marks :59\n",
      "Total aggregate marks is 359 and percentage obtained 71.8\n"
     ]
    }
   ],
   "source": [
    "try:\n",
    "    subject1=eval(input(\"Enter subject 1 marks :\"))\n",
    "    subject2=eval(input(\"Enter subject 2 marks :\"))\n",
    "    subject3=eval(input(\"Enter subject 3 marks :\"))\n",
    "    subject4=eval(input(\"Enter subject 4 marks :\"))\n",
    "    subject5=eval(input(\"Enter subject 5 marks :\"))\n",
    "    if 0<=subject1<=100 and 0<=subject2<=100 and 0<=subject3<=100 and 0<=subject4<=100 and 0<=subject5<=100:\n",
    "        aggregate_marks=subject1+subject2+subject3+subject4+subject5\n",
    "        percentage=round((aggregate_marks/500)*100,2)\n",
    "        print(\"Total aggregate marks is {} and percentage obtained {}\".format(aggregate_marks,percentage))\n",
    "    else:\n",
    "        print(\"Marks should be between 0 and 100.\")\n",
    "except Exception as e:\n",
    "    print(e)"
   ]
  },
  {
   "cell_type": "markdown",
   "id": "9aa73574",
   "metadata": {},
   "source": [
    "***Q.4 Temperature of a city in Fahrenheit degrees is input through the keyboard. Write a\n",
    "program to convert this temperature into Centigrade degrees.***"
   ]
  },
  {
   "cell_type": "code",
   "execution_count": 46,
   "id": "9aa02222",
   "metadata": {},
   "outputs": [
    {
     "name": "stdout",
     "output_type": "stream",
     "text": [
      "Enter a temprature in Fahrenheit :212\n",
      "Temprature in Centigrade degrees is 100.0\n"
     ]
    }
   ],
   "source": [
    "temp_far=eval(input(\"Enter a temprature in Fahrenheit :\")) #Temprature in fahrenheit \n",
    "temp_cel= round((temp_far-32)*5/9,2)  #Temprature in Centigrade degrees with formula °C = [(°F-32)×5]/9\n",
    "print(\"Temprature in Centigrade degrees is {}\".format(temp_cel))"
   ]
  },
  {
   "cell_type": "markdown",
   "id": "e638f131",
   "metadata": {},
   "source": [
    "***Q.5 The length & breadth of a rectangle and radius of a circle are input through the\n",
    "keyboard. Write a program to calculate the area & perimeter of the rectangle, and the\n",
    "area & circumference of the circle***"
   ]
  },
  {
   "cell_type": "code",
   "execution_count": 47,
   "id": "9ff40e1d",
   "metadata": {},
   "outputs": [
    {
     "name": "stdout",
     "output_type": "stream",
     "text": [
      "Enter a length of rectangle :23\n",
      "Enter a breadth of rectangle :34\n",
      "Enter a radius of circle :30\n",
      "Area of rectangle is 782, Perimeter of rectangle is 114, \n",
      "Area of circle is 2828.57 and Circumference of circle is 188.57\n"
     ]
    }
   ],
   "source": [
    "try:\n",
    "    length=eval(input(\"Enter a length of rectangle :\"))     #Length of rectangle\n",
    "    breadth=eval(input(\"Enter a breadth of rectangle :\"))  #Breadth of rectangle\n",
    "    radius=eval(input(\"Enter a radius of circle :\"))     #Radius of circle\n",
    "    area_rect = round(length*breadth,2)     #Area of rectangle\n",
    "    perimeter_rect = 2*(length+breadth)      #Perimeter of rectangle\n",
    "    area_circle= round(22/7*(radius*radius),2)       #Area of circle\n",
    "    circumference_circle=round((2*radius)*22/7,2)    #Circumference of circle\n",
    "    print(\"Area of rectangle is {}, Perimeter of rectangle is {}, \".format(area_rect, perimeter_rect))\n",
    "    print(\"Area of circle is {} and Circumference of circle is {}\".format(area_circle, circumference_circle))\n",
    "except Exception as e:\n",
    "    print(e)"
   ]
  },
  {
   "cell_type": "markdown",
   "id": "59186d36",
   "metadata": {},
   "source": [
    "***Q.6 Two numbers are input through the keyboard into two locations C and D. Write a\n",
    "program to interchange the contents of C and D.***"
   ]
  },
  {
   "cell_type": "code",
   "execution_count": 59,
   "id": "aae751e7",
   "metadata": {},
   "outputs": [
    {
     "name": "stdout",
     "output_type": "stream",
     "text": [
      "Enter the value for C: 45\n",
      "Enter the value for D: 46\n",
      "after interchange, the value of C is: 46\n",
      "after interchange, the value of D is: 45\n"
     ]
    }
   ],
   "source": [
    "try:\n",
    "    C = eval(input(\"Enter the value for C: \"))\n",
    "    D = eval(input(\"Enter the value for D: \"))\n",
    "    a = C   #C Value Stored in a\n",
    "    b = D   #D value Stroed in b\n",
    "    D = a   #a value stored in D that is C\n",
    "    C = b   #C value stored in C that is D\n",
    "    print(\"after interchange, the value of C is: {}\".format(C))\n",
    "    print(\"after interchange, the value of D is: {}\".format(D))\n",
    "except Exception as e:\n",
    "    print(e)"
   ]
  },
  {
   "cell_type": "markdown",
   "id": "d29c4ec2",
   "metadata": {},
   "source": [
    "***Q.7 If a five-digit number is input through the keyboard, write a program to reverse the\n",
    "number***"
   ]
  },
  {
   "cell_type": "code",
   "execution_count": 60,
   "id": "d94e1bbd",
   "metadata": {},
   "outputs": [
    {
     "name": "stdout",
     "output_type": "stream",
     "text": [
      "Enter a 5 digit number :46375\n",
      "You entered a 46375 and it reversed number is 57364\n"
     ]
    }
   ],
   "source": [
    "try:\n",
    "    n=eval(input(\"Enter a 5 digit number :\"))\n",
    "    if 10000<n<99999:\n",
    "        ln1=n%10       #Last digit of the number\n",
    "        n1=n//10       #Four digit number\n",
    "        ln2=n1%10      #2nd last digit of the number\n",
    "        n2=n1//10      #Three digit of the number\n",
    "        ln3=n2%10      #Third digit of number\n",
    "        n3=n2//10      #Two digit of the number\n",
    "        ln4=n3%10      #2nd digit of the number\n",
    "        n4=n3//10      #First digit of the number\n",
    "        print(\"You entered a {} and it reversed number is {}{}{}{}{}\".format(n,ln1,ln2,ln3,ln4,n4))\n",
    "    else:\n",
    "        print(\"Please enter a 5 digit number\")\n",
    "except Exception as e:\n",
    "    print(e)"
   ]
  },
  {
   "cell_type": "markdown",
   "id": "25986542",
   "metadata": {},
   "source": [
    "***Q.8 If a four-digit number is input through the keyboard, write a program to obtain the sum of \n",
    "the first and last digit of this number.***"
   ]
  },
  {
   "cell_type": "code",
   "execution_count": 61,
   "id": "4ca4d4ae",
   "metadata": {},
   "outputs": [
    {
     "name": "stdout",
     "output_type": "stream",
     "text": [
      "Enter a 4 digit number :9759\n",
      "You entered a 9759 and and its first digit is (9) and last digit is (9) its sum is = 18\n"
     ]
    }
   ],
   "source": [
    "try:\n",
    "    n=eval(input(\"Enter a 4 digit number :\"))\n",
    "    if 1000<n<9999:\n",
    "        fd=n//1000     #First digit of  number\n",
    "        ld=n%10        #Last digit of number\n",
    "        print(\"You entered a {} and and its first digit is ({}) and last digit is ({}) its sum is = {}\".format(n,fd,ld,fd+ld))\n",
    "    else:\n",
    "        print(\"Please enter a Four digit number\")\n",
    "except Exception as e:\n",
    "    print(e)"
   ]
  },
  {
   "cell_type": "markdown",
   "id": "7128aedc",
   "metadata": {},
   "source": [
    "***Q.9 In a town, the percentage of men is 52. The percentage of total literacy is 48. If total \n",
    "percentage of literate men is 35 of the total population, write a program to find the total \n",
    "number of illiterate men and women if the population of the town is 80,000***"
   ]
  },
  {
   "cell_type": "code",
   "execution_count": 62,
   "id": "0c2d267c",
   "metadata": {},
   "outputs": [
    {
     "name": "stdout",
     "output_type": "stream",
     "text": [
      "Total number of illiterate men: 13600\n",
      "Total number of illiterate women: 13600\n"
     ]
    }
   ],
   "source": [
    "try:\n",
    "    total_population = 80000\n",
    "    percentage_men = 52\n",
    "    percentage_total_literacy = 48\n",
    "    percentage_literate_men = 35\n",
    "\n",
    "    total_men = (percentage_men / 100) * total_population #Mans population\n",
    "\n",
    "    total_literate = (percentage_total_literacy / 100) * total_population #Literate people in town\n",
    "\n",
    "    literate_men = (percentage_literate_men / 100) * total_population   #Litrate man\n",
    "\n",
    "    total_women = total_population - total_men     #Woman Population in town\n",
    "\n",
    "    illiterate_men = total_men - literate_men    #Illitrate man population\n",
    "\n",
    "    literate_woman = total_literate - literate_men   #Litrate woman in town\n",
    "\n",
    "    illiterate_women = total_women - literate_woman    #illitrate man in town\n",
    "\n",
    "    print(\"Total number of illiterate men: {}\".format(round(illiterate_men)))\n",
    "    print(\"Total number of illiterate women: {}\".format(round(illiterate_men)))\n",
    "except Exception as e:\n",
    "    print(e)"
   ]
  },
  {
   "cell_type": "markdown",
   "id": "3caea097",
   "metadata": {},
   "source": [
    "***Q.10 A cashier has currency notes of denominations 10, 50 and 100. If the amount to be \n",
    "withdrawn is input through the keyboard in hundreds, find the total number of currency \n",
    "notes of each denomination the cashier will have to give to the withdrawer.***"
   ]
  },
  {
   "cell_type": "code",
   "execution_count": 2,
   "id": "9c54d5c1",
   "metadata": {},
   "outputs": [
    {
     "name": "stdout",
     "output_type": "stream",
     "text": [
      "Enter a Ammount to withrawl :5970\n",
      "You Need 59 Hundred rupees notes, 1 fifty rupees notes and 2 ten rupees notes \n"
     ]
    }
   ],
   "source": [
    "try:\n",
    "    cash=eval(input(\"Enter a Ammount to withrawl :\"))\n",
    "    if cash%10==0:\n",
    "        hund=cash//100    #100 note to be given\n",
    "        rmng=cash%100      #Remaing Ammount\n",
    "        fifty=rmng//50     #Fifty Rupees note to given \n",
    "        remng2=rmng%50     #Remaning Ammount\n",
    "        ten=remng2//10     #Ten rupess note to be given\n",
    "        print(\"You Need {} Hundred rupees notes, {} fifty rupees notes and {} ten rupees notes \".format(hund,fifty,ten))\n",
    "    else:\n",
    "        print(\"Enter a number in pultipication of 10\")\n",
    "except Exception as e:\n",
    "    print(e)"
   ]
  },
  {
   "cell_type": "code",
   "execution_count": 63,
   "id": "185d8f9d",
   "metadata": {},
   "outputs": [
    {
     "name": "stdout",
     "output_type": "stream",
     "text": [
      "Enter the amount to be withdrawn in hundreds: 1000\n",
      "Number of 100s: 1000\n",
      "Number of 50s: 2000\n",
      "Number of 10s: 0\n"
     ]
    }
   ],
   "source": [
    "# Input the amount to be withdrawn in hundreds\n",
    "amount_in_hundreds = int(input(\"Enter the amount to be withdrawn in hundreds: \"))\n",
    "\n",
    "# Calculate the number of 100s, 50s, and 10s\n",
    "num_100s = amount_in_hundreds\n",
    "num_50s = (amount_in_hundreds * 100) // 50\n",
    "num_10s = ((amount_in_hundreds * 100) % 50) // 10\n",
    "\n",
    "# Print the result\n",
    "print(\"Number of 100s:\", num_100s)\n",
    "print(\"Number of 50s:\", num_50s)\n",
    "print(\"Number of 10s:\", num_10s)\n"
   ]
  },
  {
   "cell_type": "code",
   "execution_count": 64,
   "id": "cb602c4c",
   "metadata": {},
   "outputs": [
    {
     "name": "stdout",
     "output_type": "stream",
     "text": [
      "Enter the amount to be withdrawn in hundreds: 3200\n",
      "Number of 100s: 3200\n",
      "Number of 50s: 64\n",
      "Number of 10s: 0\n"
     ]
    }
   ],
   "source": [
    "# Input the amount to be withdrawn in hundreds\n",
    "amount_in_hundreds = int(input(\"Enter the amount to be withdrawn in hundreds: \"))\n",
    "\n",
    "# Calculate the number of 100s, 50s, and 10s\n",
    "num_100s = amount_in_hundreds\n",
    "amount_remaining = amount_in_hundreds * 100\n",
    "\n",
    "if amount_remaining >= 5000:\n",
    "    num_50s = amount_remaining // 5000\n",
    "    amount_remaining %= 5000\n",
    "else:\n",
    "    num_50s = 0\n",
    "\n",
    "num_10s = amount_remaining // 100\n",
    "\n",
    "# Print the result\n",
    "print(\"Number of 100s:\", num_100s)\n",
    "print(\"Number of 50s:\", num_50s)\n",
    "print(\"Number of 10s:\", num_10s)\n"
   ]
  },
  {
   "cell_type": "code",
   "execution_count": 1,
   "id": "a0a50f4a",
   "metadata": {},
   "outputs": [
    {
     "name": "stdout",
     "output_type": "stream",
     "text": [
      "Enter the amount to be withdrawn in hundreds: 480\n"
     ]
    },
    {
     "ename": "NameError",
     "evalue": "name 'amount' is not defined",
     "output_type": "error",
     "traceback": [
      "\u001b[1;31m---------------------------------------------------------------------------\u001b[0m",
      "\u001b[1;31mNameError\u001b[0m                                 Traceback (most recent call last)",
      "Cell \u001b[1;32mIn[1], line 4\u001b[0m\n\u001b[0;32m      1\u001b[0m \u001b[38;5;66;03m# Input the amount to be withdrawn in hundreds\u001b[39;00m\n\u001b[0;32m      2\u001b[0m amount_in_hundreds \u001b[38;5;241m=\u001b[39m \u001b[38;5;28mint\u001b[39m(\u001b[38;5;28minput\u001b[39m(\u001b[38;5;124m\"\u001b[39m\u001b[38;5;124mEnter the amount to be withdrawn in hundreds: \u001b[39m\u001b[38;5;124m\"\u001b[39m))\n\u001b[1;32m----> 4\u001b[0m num_100s \u001b[38;5;241m=\u001b[39m amount \u001b[38;5;241m/\u001b[39m\u001b[38;5;241m/\u001b[39m \u001b[38;5;241m100\u001b[39m\n\u001b[0;32m      5\u001b[0m amount_remaining \u001b[38;5;241m=\u001b[39m amount_in_hundreds \u001b[38;5;241m*\u001b[39m \u001b[38;5;241m100\u001b[39m\n\u001b[0;32m      7\u001b[0m \u001b[38;5;28;01mif\u001b[39;00m amount_remaining \u001b[38;5;241m>\u001b[39m\u001b[38;5;241m=\u001b[39m \u001b[38;5;241m5000\u001b[39m:\n",
      "\u001b[1;31mNameError\u001b[0m: name 'amount' is not defined"
     ]
    }
   ],
   "source": [
    "# Input the amount to be withdrawn in hundreds\n",
    "amount_in_hundreds = int(input(\"Enter the amount to be withdrawn in hundreds: \"))\n",
    "\n",
    "num_100s = amount // 100\n",
    "amount_remaining = amount_in_hundreds * 100\n",
    "\n",
    "if amount_remaining >= 5000:\n",
    "    num_50s = amount_remaining // 5000\n",
    "    amount_remaining %= 5000\n",
    "else:\n",
    "    num_50s = 0\n",
    "\n",
    "num_10s = amount_remaining // 100\n",
    "\n",
    "# Print the result\n",
    "print(\"Number of 100s:\", num_100s)\n",
    "print(\"Number of 50s:\", num_50s)\n",
    "print(\"Number of 10s:\", num_10s)\n"
   ]
  },
  {
   "cell_type": "code",
   "execution_count": null,
   "id": "a2b2fbbd",
   "metadata": {},
   "outputs": [],
   "source": []
  }
 ],
 "metadata": {
  "kernelspec": {
   "display_name": "Python 3 (ipykernel)",
   "language": "python",
   "name": "python3"
  },
  "language_info": {
   "codemirror_mode": {
    "name": "ipython",
    "version": 3
   },
   "file_extension": ".py",
   "mimetype": "text/x-python",
   "name": "python",
   "nbconvert_exporter": "python",
   "pygments_lexer": "ipython3",
   "version": "3.11.5"
  }
 },
 "nbformat": 4,
 "nbformat_minor": 5
}
