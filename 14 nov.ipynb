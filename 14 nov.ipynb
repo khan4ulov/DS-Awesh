{
 "cells": [
  {
   "cell_type": "code",
   "execution_count": 2,
   "id": "635c604f",
   "metadata": {},
   "outputs": [
    {
     "name": "stdout",
     "output_type": "stream",
     "text": [
      "3\n"
     ]
    }
   ],
   "source": [
    "string1='ola ola ola'\n",
    "count = 0\n",
    "for i in string1:\n",
    "    if i =='a':\n",
    "        count+=1\n",
    "print(count)"
   ]
  },
  {
   "cell_type": "code",
   "execution_count": 9,
   "id": "ebcd7a28",
   "metadata": {},
   "outputs": [
    {
     "name": "stdout",
     "output_type": "stream",
     "text": [
      "0\n"
     ]
    }
   ],
   "source": [
    "string1='ola ola ola'\n",
    "count = 0\n",
    "a = \" \"\n",
    "for i in string1:\n",
    "    if i=='o':\n",
    "        a = a+'o'\n",
    "    if i=="
   ]
  },
  {
   "cell_type": "code",
   "execution_count": 14,
   "id": "6e02462f",
   "metadata": {},
   "outputs": [
    {
     "name": "stdout",
     "output_type": "stream",
     "text": [
      "3\n"
     ]
    }
   ],
   "source": [
    "countt=0\n",
    "for i in range(len(string1)):\n",
    "    if string1[i:i+3]== \"ola\":\n",
    "        countt=countt+1\n",
    "print(countt)"
   ]
  },
  {
   "cell_type": "code",
   "execution_count": 16,
   "id": "afaf73ea",
   "metadata": {},
   "outputs": [
    {
     "name": "stdout",
     "output_type": "stream",
     "text": [
      "3\n"
     ]
    }
   ],
   "source": [
    "strr='ola ola ola'\n",
    "cnt=0\n",
    "for i in range(len(strr)):\n",
    "    if strr[i:i+3]=='ola':\n",
    "        cnt+=1\n",
    "print(cnt)"
   ]
  },
  {
   "cell_type": "code",
   "execution_count": null,
   "id": "8c96e4f0",
   "metadata": {},
   "outputs": [],
   "source": [
    "strr='ola ola ola'\n",
    "word=\"\"\n",
    "for i in strr:\n",
    "    if i!=\"\":\n",
    "        "
   ]
  },
  {
   "cell_type": "markdown",
   "id": "4aa5f25e",
   "metadata": {},
   "source": [
    "**Replace**"
   ]
  },
  {
   "cell_type": "code",
   "execution_count": 22,
   "id": "31ab2638",
   "metadata": {},
   "outputs": [
    {
     "name": "stdout",
     "output_type": "stream",
     "text": [
      "Welcome\n"
     ]
    }
   ],
   "source": [
    "#Only first letter\n",
    "\n",
    "string1='welcome'\n",
    "a=string1.capitalize()\n",
    "print(a)"
   ]
  },
  {
   "cell_type": "code",
   "execution_count": null,
   "id": "1d6429d2",
   "metadata": {},
   "outputs": [],
   "source": [
    "#Replace any letter"
   ]
  },
  {
   "cell_type": "code",
   "execution_count": 24,
   "id": "a9c23d2d",
   "metadata": {},
   "outputs": [
    {
     "data": {
      "text/plain": [
       "'weLLcome'"
      ]
     },
     "execution_count": 24,
     "metadata": {},
     "output_type": "execute_result"
    }
   ],
   "source": [
    "string1='welcome'\n",
    "string1.replace('l','LL')"
   ]
  },
  {
   "cell_type": "code",
   "execution_count": 26,
   "id": "b193cafe",
   "metadata": {},
   "outputs": [
    {
     "data": {
      "text/plain": [
       "'$esta$t'"
      ]
     },
     "execution_count": 26,
     "metadata": {},
     "output_type": "execute_result"
    }
   ],
   "source": [
    "string1=\"restart\"\n",
    "string1.replace('r','$')"
   ]
  },
  {
   "cell_type": "code",
   "execution_count": 27,
   "id": "a8747486",
   "metadata": {},
   "outputs": [
    {
     "data": {
      "text/plain": [
       "'Restart'"
      ]
     },
     "execution_count": 27,
     "metadata": {},
     "output_type": "execute_result"
    }
   ],
   "source": [
    "string1='restart'\n",
    "string1.replace('r',\"R\",1)"
   ]
  },
  {
   "cell_type": "code",
   "execution_count": 32,
   "id": "c951a796",
   "metadata": {},
   "outputs": [
    {
     "data": {
      "text/plain": [
       "'RestaRt RRR'"
      ]
     },
     "execution_count": 32,
     "metadata": {},
     "output_type": "execute_result"
    }
   ],
   "source": [
    "string1='restart rrr'\n",
    "string1.replace('r',\"R\",-1)   #if we provide it will take all arguments"
   ]
  },
  {
   "cell_type": "code",
   "execution_count": 46,
   "id": "1c2a5a5e",
   "metadata": {},
   "outputs": [],
   "source": [
    "string3='restart'"
   ]
  },
  {
   "cell_type": "code",
   "execution_count": 47,
   "id": "92688461",
   "metadata": {},
   "outputs": [
    {
     "data": {
      "text/plain": [
       "7"
      ]
     },
     "execution_count": 47,
     "metadata": {},
     "output_type": "execute_result"
    }
   ],
   "source": [
    "len(string3)"
   ]
  },
  {
   "cell_type": "code",
   "execution_count": 55,
   "id": "a775631e",
   "metadata": {},
   "outputs": [],
   "source": [
    "a=string3[0]"
   ]
  },
  {
   "cell_type": "code",
   "execution_count": 57,
   "id": "cb9fb266",
   "metadata": {},
   "outputs": [
    {
     "name": "stdout",
     "output_type": "stream",
     "text": [
      "resta$t\n"
     ]
    }
   ],
   "source": [
    "b = string3[1:]\n",
    "\n",
    "print(a+b.replace('r',\"$\"))"
   ]
  },
  {
   "cell_type": "code",
   "execution_count": 59,
   "id": "623e4a7f",
   "metadata": {},
   "outputs": [
    {
     "data": {
      "text/plain": [
       "'resta$t'"
      ]
     },
     "execution_count": 59,
     "metadata": {},
     "output_type": "execute_result"
    }
   ],
   "source": [
    "string1=\"restart\"\n",
    "string1[::-1].replace('r','$',1)[::-1]"
   ]
  },
  {
   "cell_type": "code",
   "execution_count": 66,
   "id": "4e2aa877",
   "metadata": {},
   "outputs": [
    {
     "data": {
      "text/plain": [
       "3"
      ]
     },
     "execution_count": 66,
     "metadata": {},
     "output_type": "execute_result"
    }
   ],
   "source": [
    "string1='welcome python'\n",
    "string1.index('c')"
   ]
  },
  {
   "cell_type": "code",
   "execution_count": 67,
   "id": "e0b1a4ae",
   "metadata": {},
   "outputs": [
    {
     "ename": "ValueError",
     "evalue": "substring not found",
     "output_type": "error",
     "traceback": [
      "\u001b[1;31m---------------------------------------------------------------------------\u001b[0m",
      "\u001b[1;31mValueError\u001b[0m                                Traceback (most recent call last)",
      "Cell \u001b[1;32mIn[67], line 1\u001b[0m\n\u001b[1;32m----> 1\u001b[0m string1\u001b[38;5;241m.\u001b[39mindex(\u001b[38;5;124m'\u001b[39m\u001b[38;5;124mz\u001b[39m\u001b[38;5;124m'\u001b[39m)\n",
      "\u001b[1;31mValueError\u001b[0m: substring not found"
     ]
    }
   ],
   "source": [
    "string1.index('z')"
   ]
  },
  {
   "cell_type": "code",
   "execution_count": 68,
   "id": "57c8fbc2",
   "metadata": {},
   "outputs": [
    {
     "data": {
      "text/plain": [
       "0"
      ]
     },
     "execution_count": 68,
     "metadata": {},
     "output_type": "execute_result"
    }
   ],
   "source": [
    "string1.index('')"
   ]
  },
  {
   "cell_type": "code",
   "execution_count": 69,
   "id": "8cd6d125",
   "metadata": {},
   "outputs": [
    {
     "data": {
      "text/plain": [
       "4"
      ]
     },
     "execution_count": 69,
     "metadata": {},
     "output_type": "execute_result"
    }
   ],
   "source": [
    "string1.index('o')"
   ]
  },
  {
   "cell_type": "code",
   "execution_count": 73,
   "id": "2044a88c",
   "metadata": {},
   "outputs": [
    {
     "name": "stdout",
     "output_type": "stream",
     "text": [
      "the postion of a is 1 and total a is  1\n",
      "the postion of a is 8 and total a is  2\n",
      "the postion of a is 16 and total a is  3\n",
      "the postion of a 18 and total a is  3\n"
     ]
    }
   ],
   "source": [
    "string1='hai how are you and'\n",
    "count=0\n",
    "for i in range(len(string1)):\n",
    "    if string1[i]=='a':\n",
    "        count+=1\n",
    "        print(\"the postion of a is\",i,\"and total a is \",count)\n",
    "print(\"the postion of a\",i,\"and total a is \",count)\n"
   ]
  },
  {
   "cell_type": "code",
   "execution_count": 80,
   "id": "3432210c",
   "metadata": {},
   "outputs": [
    {
     "name": "stdout",
     "output_type": "stream",
     "text": [
      "1\n",
      "5\n",
      "9\n",
      "13\n"
     ]
    }
   ],
   "source": [
    "string1='hai hai hai hai'\n",
    "print(string1.index('a'))\n",
    "print(string1.index('a',1+1))\n",
    "print(string1.index('a',5+1))\n",
    "print(string1.index('a',9+1))"
   ]
  },
  {
   "cell_type": "code",
   "execution_count": 87,
   "id": "03859e93",
   "metadata": {},
   "outputs": [
    {
     "name": "stdout",
     "output_type": "stream",
     "text": [
      "1\n",
      "5\n",
      "5\n",
      "5\n"
     ]
    }
   ],
   "source": [
    "b=0\n",
    "for i in range(len(string1)):\n",
    "    if string1[i]=='a': \n",
    "        print(string1.index('a',b+1))\n",
    "        b=b+1"
   ]
  },
  {
   "cell_type": "code",
   "execution_count": 2,
   "id": "3511afbd",
   "metadata": {},
   "outputs": [
    {
     "name": "stdout",
     "output_type": "stream",
     "text": [
      "8\n",
      "1 5 9 13\n"
     ]
    }
   ],
   "source": [
    "string1='hai hai hai hai hai hai hai hai'\n",
    "print(string1.count('a'))\n",
    "i1=string1.index('a')\n",
    "i2=string1.index('a',i1+1)\n",
    "i3=string1.index('a',i2+1)\n",
    "i4=string1.index('a',i3+1)\n",
    "i5=string1.index('a',i4+1)\n",
    "print(i1,i2,i3,i4)"
   ]
  },
  {
   "cell_type": "code",
   "execution_count": 2,
   "id": "e203178b",
   "metadata": {},
   "outputs": [
    {
     "name": "stdout",
     "output_type": "stream",
     "text": [
      "1 5 9 9 13\n"
     ]
    }
   ],
   "source": [
    "string1='hai hai hai hai hai hai'\n",
    "for i in string1:\n",
    "    if i =='a':\n",
    "        i1=string1.index('a')\n",
    "        i2=string1.index('a',i1+1)\n",
    "        i3=string1.index('a',i2+1)\n",
    "        i4=string1.index('a',i3+1)\n",
    "print(i1,i2,i3,i4)\n",
    "        "
   ]
  },
  {
   "cell_type": "code",
   "execution_count": 3,
   "id": "b7f59571",
   "metadata": {},
   "outputs": [],
   "source": [
    "string1='welcome helo'\n"
   ]
  },
  {
   "cell_type": "markdown",
   "id": "6de6a8a8",
   "metadata": {},
   "source": [
    "$find$"
   ]
  },
  {
   "cell_type": "code",
   "execution_count": 8,
   "id": "515669ee",
   "metadata": {},
   "outputs": [],
   "source": [
    "string1='hai how are you'\n",
    "D="
   ]
  },
  {
   "cell_type": "code",
   "execution_count": 11,
   "id": "d6bfad9c",
   "metadata": {},
   "outputs": [
    {
     "name": "stdout",
     "output_type": "stream",
     "text": [
      "4\n"
     ]
    }
   ],
   "source": [
    "string1='hai how are you'\n",
    "print(string1.find('h',string1.find('h')+1))"
   ]
  },
  {
   "cell_type": "code",
   "execution_count": 122,
   "id": "df0736d7",
   "metadata": {},
   "outputs": [
    {
     "data": {
      "text/plain": [
       "-1"
      ]
     },
     "execution_count": 122,
     "metadata": {},
     "output_type": "execute_result"
    }
   ],
   "source": [
    "string1='hai how are you'\n",
    "string1.find('z',2)   #if substring is not fount it will give -1 as out put no error"
   ]
  },
  {
   "cell_type": "code",
   "execution_count": 124,
   "id": "b4287665",
   "metadata": {},
   "outputs": [
    {
     "ename": "ValueError",
     "evalue": "substring not found",
     "output_type": "error",
     "traceback": [
      "\u001b[1;31m---------------------------------------------------------------------------\u001b[0m",
      "\u001b[1;31mValueError\u001b[0m                                Traceback (most recent call last)",
      "Cell \u001b[1;32mIn[124], line 7\u001b[0m\n\u001b[0;32m      4\u001b[0m string1\u001b[38;5;241m.\u001b[39mcount(\u001b[38;5;124m'\u001b[39m\u001b[38;5;124mz\u001b[39m\u001b[38;5;124m'\u001b[39m)  \u001b[38;5;66;03m#No error\u001b[39;00m\n\u001b[0;32m      5\u001b[0m \u001b[38;5;66;03m#it will give zero \u001b[39;00m\n\u001b[1;32m----> 7\u001b[0m string1\u001b[38;5;241m.\u001b[39mindex(\u001b[38;5;124m'\u001b[39m\u001b[38;5;124mz\u001b[39m\u001b[38;5;124m'\u001b[39m)\n",
      "\u001b[1;31mValueError\u001b[0m: substring not found"
     ]
    }
   ],
   "source": [
    "string1.find('z')   #No error\n",
    "#if substring is not fount it will give -1 as out put no error\n",
    "\n",
    "string1.count('z')  #No error\n",
    "#it will give zero \n",
    "\n",
    "string1.index('z') #Error\n",
    "#Substring not found"
   ]
  },
  {
   "cell_type": "code",
   "execution_count": 117,
   "id": "0f6bef9a",
   "metadata": {},
   "outputs": [
    {
     "ename": "ValueError",
     "evalue": "substring not found",
     "output_type": "error",
     "traceback": [
      "\u001b[1;31m---------------------------------------------------------------------------\u001b[0m",
      "\u001b[1;31mValueError\u001b[0m                                Traceback (most recent call last)",
      "Cell \u001b[1;32mIn[117], line 1\u001b[0m\n\u001b[1;32m----> 1\u001b[0m string1\u001b[38;5;241m.\u001b[39mindex(\u001b[38;5;124m'\u001b[39m\u001b[38;5;124mz\u001b[39m\u001b[38;5;124m'\u001b[39m)\n",
      "\u001b[1;31mValueError\u001b[0m: substring not found"
     ]
    }
   ],
   "source": [
    "string1.index('z')"
   ]
  },
  {
   "cell_type": "code",
   "execution_count": null,
   "id": "5cc11cfa",
   "metadata": {},
   "outputs": [],
   "source": []
  }
 ],
 "metadata": {
  "kernelspec": {
   "display_name": "Python 3 (ipykernel)",
   "language": "python",
   "name": "python3"
  },
  "language_info": {
   "codemirror_mode": {
    "name": "ipython",
    "version": 3
   },
   "file_extension": ".py",
   "mimetype": "text/x-python",
   "name": "python",
   "nbconvert_exporter": "python",
   "pygments_lexer": "ipython3",
   "version": "3.11.5"
  }
 },
 "nbformat": 4,
 "nbformat_minor": 5
}
