{
 "cells": [
  {
   "cell_type": "code",
   "execution_count": 3,
   "id": "59fa97cb",
   "metadata": {},
   "outputs": [
    {
     "name": "stdout",
     "output_type": "stream",
     "text": [
      "45\n"
     ]
    },
    {
     "data": {
      "text/plain": [
       "55"
      ]
     },
     "execution_count": 3,
     "metadata": {},
     "output_type": "execute_result"
    }
   ],
   "source": [
    "def basic(x):\n",
    "    return(x+10)\n",
    "x=eval(input())\n",
    "basic(x)"
   ]
  },
  {
   "cell_type": "markdown",
   "id": "b3d488a5",
   "metadata": {},
   "source": [
    "syntax \n",
    "lambda <argument_name>=:<output>"
   ]
  },
  {
   "cell_type": "code",
   "execution_count": 7,
   "id": "95a168f3",
   "metadata": {},
   "outputs": [
    {
     "data": {
      "text/plain": [
       "400"
      ]
     },
     "execution_count": 7,
     "metadata": {},
     "output_type": "execute_result"
    }
   ],
   "source": [
    "sqr=lambda x:x*x\n",
    "sqr(20)"
   ]
  },
  {
   "cell_type": "code",
   "execution_count": 8,
   "id": "2147e766",
   "metadata": {},
   "outputs": [
    {
     "data": {
      "text/plain": [
       "125"
      ]
     },
     "execution_count": 8,
     "metadata": {},
     "output_type": "execute_result"
    }
   ],
   "source": [
    "cube = lambda x:x*x*x\n",
    "cube(5)"
   ]
  },
  {
   "cell_type": "code",
   "execution_count": 16,
   "id": "6a3a6d38",
   "metadata": {},
   "outputs": [
    {
     "data": {
      "text/plain": [
       "38.33"
      ]
     },
     "execution_count": 16,
     "metadata": {},
     "output_type": "execute_result"
    }
   ],
   "source": [
    "avg= lambda a,b,c:round((a+b+c)/3,2)\n",
    "avg(10,45,60)"
   ]
  },
  {
   "cell_type": "code",
   "execution_count": 19,
   "id": "7edd0d1f",
   "metadata": {},
   "outputs": [
    {
     "data": {
      "text/plain": [
       "50.0"
      ]
     },
     "execution_count": 19,
     "metadata": {},
     "output_type": "execute_result"
    }
   ],
   "source": [
    "avg= lambda a,b=50,c=50:round((a+b+c)/3,2)\n",
    "avg(50)"
   ]
  },
  {
   "cell_type": "markdown",
   "id": "78edb51e",
   "metadata": {},
   "source": [
    "$-if-$$-else-$"
   ]
  },
  {
   "cell_type": "code",
   "execution_count": 21,
   "id": "ef4e08e6",
   "metadata": {},
   "outputs": [],
   "source": [
    "def big(a,b):\n",
    "    if a>b:\n",
    "        print(\"{} is bigger then {}\".format(a,b))\n",
    "    else:\n",
    "        print(\"{} is bigger then {}\".format(b,a))"
   ]
  },
  {
   "cell_type": "code",
   "execution_count": 22,
   "id": "20c87995",
   "metadata": {},
   "outputs": [
    {
     "name": "stdout",
     "output_type": "stream",
     "text": [
      "30 is bigger then 20\n"
     ]
    }
   ],
   "source": [
    "big(20,30)"
   ]
  },
  {
   "cell_type": "code",
   "execution_count": 50,
   "id": "1fea6a83",
   "metadata": {},
   "outputs": [
    {
     "name": "stdout",
     "output_type": "stream",
     "text": [
      "[30]\n"
     ]
    }
   ],
   "source": [
    "l1=[]\n",
    "def big(a,b):\n",
    "    if a>b:\n",
    "        l1.append(a)\n",
    "        print(l1)\n",
    "    else:\n",
    "        l1.append(b)\n",
    "        print(l1)\n",
    "big(20,30)"
   ]
  },
  {
   "cell_type": "code",
   "execution_count": 71,
   "id": "7cd53560",
   "metadata": {},
   "outputs": [
    {
     "name": "stdout",
     "output_type": "stream",
     "text": [
      "[30]\n"
     ]
    },
    {
     "data": {
      "text/plain": [
       "(None, None)"
      ]
     },
     "execution_count": 71,
     "metadata": {},
     "output_type": "execute_result"
    }
   ],
   "source": [
    "l1=[]\n",
    "greator = lambda a,b: (l1.append(a), print(l1)) if a>b else (l1.append(b), print(l1))\n",
    "greator(20,30)"
   ]
  },
  {
   "cell_type": "code",
   "execution_count": 79,
   "id": "4caee09f",
   "metadata": {},
   "outputs": [
    {
     "name": "stdout",
     "output_type": "stream",
     "text": [
      "[50]\n"
     ]
    },
    {
     "data": {
      "text/plain": [
       "(None, None)"
      ]
     },
     "execution_count": 79,
     "metadata": {},
     "output_type": "execute_result"
    }
   ],
   "source": [
    "l1 = []\n",
    "big = lambda a, b: (l1.append(a), print(l1)) if a > b else (l1.append(b), print(l1))[1]\n",
    "\n",
    "\n",
    "big(50, 30)\n"
   ]
  },
  {
   "cell_type": "code",
   "execution_count": 26,
   "id": "52a02237",
   "metadata": {},
   "outputs": [],
   "source": [
    "l1 = []\n",
    "greator = lambda a, b: l1.append(a) if a > b else l1.append(b)"
   ]
  },
  {
   "cell_type": "code",
   "execution_count": 40,
   "id": "abd08171",
   "metadata": {},
   "outputs": [],
   "source": [
    "l1 = []\n",
    "greator = lambda a, b: (l1.append(a) if a > b else l1.append(b), print(l1))[1]"
   ]
  },
  {
   "cell_type": "code",
   "execution_count": 41,
   "id": "1c243940",
   "metadata": {},
   "outputs": [
    {
     "name": "stdout",
     "output_type": "stream",
     "text": [
      "[5]\n"
     ]
    }
   ],
   "source": [
    "greator(2,5)"
   ]
  },
  {
   "cell_type": "code",
   "execution_count": 48,
   "id": "b9bd8f4f",
   "metadata": {},
   "outputs": [
    {
     "name": "stdout",
     "output_type": "stream",
     "text": [
      "[5, 5, 5, 5, 5, 5, 5]\n"
     ]
    }
   ],
   "source": [
    "greator(5,2)"
   ]
  },
  {
   "cell_type": "code",
   "execution_count": null,
   "id": "98d511f9",
   "metadata": {},
   "outputs": [],
   "source": [
    "l1 = []\n",
    "greator = lambda a, b,c: (l1.append(a) if a > b else l1.append(b), print(l1))[1]"
   ]
  },
  {
   "cell_type": "code",
   "execution_count": 67,
   "id": "eab25445",
   "metadata": {},
   "outputs": [
    {
     "name": "stdout",
     "output_type": "stream",
     "text": [
      "[80]\n"
     ]
    }
   ],
   "source": [
    "l1 = []\n",
    "greator = lambda a, b, c: (l1.append(a) if a > b and a > c else (l1.append(b) if b > c else l1.append(c)), print(l1))[1]\n",
    "\n",
    "greator(50, 40, 80)\n"
   ]
  },
  {
   "cell_type": "code",
   "execution_count": 84,
   "id": "b74ef86e",
   "metadata": {},
   "outputs": [
    {
     "data": {
      "text/plain": [
       "[60]"
      ]
     },
     "execution_count": 84,
     "metadata": {},
     "output_type": "execute_result"
    }
   ],
   "source": [
    "l1 = []\n",
    "greator = lambda a, b: (l1.append(a), l1)[-1] if a > b else (l1.append(b), l1)[-1]\n",
    "\n",
    "greator(60, 30)"
   ]
  },
  {
   "cell_type": "code",
   "execution_count": 85,
   "id": "517716cc",
   "metadata": {},
   "outputs": [
    {
     "data": {
      "text/plain": [
       "5"
      ]
     },
     "execution_count": 85,
     "metadata": {},
     "output_type": "execute_result"
    }
   ],
   "source": [
    "greater=lambda x,y,z: x if (x>y and x>z) else (y if y>z else z)\n",
    "greater(2,3,5)"
   ]
  },
  {
   "cell_type": "code",
   "execution_count": 86,
   "id": "bb219e83",
   "metadata": {},
   "outputs": [
    {
     "name": "stdout",
     "output_type": "stream",
     "text": [
      "5\n"
     ]
    }
   ],
   "source": [
    "greater = lambda x, y, z: x if (x > y and x > z) else (y if y > z else z)\n",
    "greater(2,3,5)"
   ]
  },
  {
   "cell_type": "code",
   "execution_count": null,
   "id": "de6cdf83",
   "metadata": {},
   "outputs": [],
   "source": []
  }
 ],
 "metadata": {
  "kernelspec": {
   "display_name": "Python 3 (ipykernel)",
   "language": "python",
   "name": "python3"
  },
  "language_info": {
   "codemirror_mode": {
    "name": "ipython",
    "version": 3
   },
   "file_extension": ".py",
   "mimetype": "text/x-python",
   "name": "python",
   "nbconvert_exporter": "python",
   "pygments_lexer": "ipython3",
   "version": "3.11.5"
  }
 },
 "nbformat": 4,
 "nbformat_minor": 5
}
