{
 "cells": [
  {
   "cell_type": "code",
   "execution_count": 7,
   "id": "c5551732",
   "metadata": {},
   "outputs": [
    {
     "name": "stdout",
     "output_type": "stream",
     "text": [
      "p\n",
      "y\n",
      "t\n",
      "h\n",
      "o\n",
      "n\n"
     ]
    }
   ],
   "source": [
    "for i in 'python':\n",
    "    print(i)"
   ]
  },
  {
   "cell_type": "code",
   "execution_count": 28,
   "id": "253fbdaa",
   "metadata": {},
   "outputs": [
    {
     "name": "stdout",
     "output_type": "stream",
     "text": [
      "a\n",
      "k\n",
      "your name is ak, and age is23\n",
      "t\n",
      "k\n",
      "your name is tk, and age is36\n"
     ]
    }
   ],
   "source": [
    "a=['ak','tk','ck']\n",
    "b=[23,36]\n",
    "for i,j in zip(a,b):\n",
    "    for d in i:\n",
    "        print(d)\n",
    "    print(f\"your name is {i}, and age is{j}\")"
   ]
  },
  {
   "cell_type": "code",
   "execution_count": 34,
   "id": "5f45e842",
   "metadata": {},
   "outputs": [
    {
     "data": {
      "text/plain": [
       "(20, 10)"
      ]
     },
     "execution_count": 34,
     "metadata": {},
     "output_type": "execute_result"
    }
   ],
   "source": [
    "a=10\n",
    "b=20,10\n",
    "b\n"
   ]
  },
  {
   "cell_type": "code",
   "execution_count": 47,
   "id": "3fd09e9d",
   "metadata": {},
   "outputs": [
    {
     "name": "stdout",
     "output_type": "stream",
     "text": [
      "rr50\n",
      "2,5,10,25,"
     ]
    }
   ],
   "source": [
    "n = eval(input(\"rr\"))\n",
    "for i in range (1,n+1):\n",
    "    if i==1:\n",
    "        continue\n",
    "    if i ==n:\n",
    "        continue\n",
    "    if n%i==0: print(i,end=\",\")"
   ]
  },
  {
   "cell_type": "code",
   "execution_count": 52,
   "id": "cc742126",
   "metadata": {},
   "outputs": [
    {
     "name": "stdout",
     "output_type": "stream",
     "text": [
      "130 is largest number\n"
     ]
    }
   ],
   "source": [
    "#WAP to find max value of this list without using max keuword\n",
    "arr=[100,130,120]\n",
    "if arr[0]>arr[1] and arr[0]>arr[2]:\n",
    "    print(arr[0],\"is largest number\")\n",
    "elif arr[1]>arr[2]:\n",
    "    print(arr[1],\"is largest number\")\n",
    "else:\n",
    "    print(arr[2],\"is largest number\")"
   ]
  },
  {
   "cell_type": "code",
   "execution_count": 53,
   "id": "21864b34",
   "metadata": {},
   "outputs": [
    {
     "name": "stdout",
     "output_type": "stream",
     "text": [
      "100\n",
      "130\n",
      "120\n"
     ]
    }
   ],
   "source": [
    "a=[100,130,120]\n",
    "for i in a:\n",
    "    print(i)\n",
    "    if"
   ]
  },
  {
   "cell_type": "code",
   "execution_count": 65,
   "id": "652b38f3",
   "metadata": {},
   "outputs": [
    {
     "name": "stdout",
     "output_type": "stream",
     "text": [
      "1200 is less then then 13000\n",
      "1500 is less then then 13000\n",
      "The maximum value  13000\n"
     ]
    }
   ],
   "source": [
    "a=[100,13000,1200,1500]\n",
    "max_value=-999999\n",
    "for i in a:\n",
    "    if i > max_value:\n",
    "        max_value=i\n",
    "    else:\n",
    "        print(f\"{i} is less then then {max_value}\")\n",
    "print(\"The maximum value \",max_value)"
   ]
  },
  {
   "cell_type": "code",
   "execution_count": 77,
   "id": "653cc19d",
   "metadata": {},
   "outputs": [
    {
     "name": "stdout",
     "output_type": "stream",
     "text": [
      "20 1\n",
      "30 2\n",
      "50 3\n",
      "60 10\n",
      "100 9\n",
      "90 8\n",
      "70 7\n",
      "50 6\n",
      "30 5\n"
     ]
    }
   ],
   "source": [
    "list2=[\"awesh\",\"\",\"\"\n",
    "for i,j in zip(list2,list1):\n",
    "    print(i,j)\n",
    "    "
   ]
  },
  {
   "cell_type": "code",
   "execution_count": null,
   "id": "471fdcb3",
   "metadata": {},
   "outputs": [],
   "source": []
  }
 ],
 "metadata": {
  "kernelspec": {
   "display_name": "Python 3 (ipykernel)",
   "language": "python",
   "name": "python3"
  },
  "language_info": {
   "codemirror_mode": {
    "name": "ipython",
    "version": 3
   },
   "file_extension": ".py",
   "mimetype": "text/x-python",
   "name": "python",
   "nbconvert_exporter": "python",
   "pygments_lexer": "ipython3",
   "version": "3.11.5"
  }
 },
 "nbformat": 4,
 "nbformat_minor": 5
}
