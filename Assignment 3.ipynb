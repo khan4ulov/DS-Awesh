{
 "cells": [
  {
   "cell_type": "markdown",
   "id": "8f012b11",
   "metadata": {},
   "source": [
    "**1. Ask the user to enter a number. Print out the square of the number,**  \n",
    "- Sample output is shown below.  \n",
    "- Enter a number: 5  \n",
    "- The square of 5 is 25.  "
   ]
  },
  {
   "cell_type": "code",
   "execution_count": 18,
   "id": "9398739c",
   "metadata": {},
   "outputs": [
    {
     "name": "stdout",
     "output_type": "stream",
     "text": [
      "Enter a number :34\n",
      "The square of 34 is 1156\n"
     ]
    }
   ],
   "source": [
    "try:\n",
    "    N=eval(input(\"Enter a number :\"))\n",
    "    print(\"The square of {} is {}\".format(round(N,2),round(N*N,2)))\n",
    "except:\n",
    "    print(\"Please enter a numeric number\")"
   ]
  },
  {
   "cell_type": "markdown",
   "id": "7ad029dd",
   "metadata": {},
   "source": [
    "**2. Ask the user to enter a number x. print out x, 2x, 3x, 4x, and 5x,**  \n",
    "each separated by three dashes, like below.  \n",
    "Enter a number: 7  \n",
    "7---14---21---28---35  "
   ]
  },
  {
   "cell_type": "code",
   "execution_count": 19,
   "id": "82c0c650",
   "metadata": {},
   "outputs": [
    {
     "name": "stdout",
     "output_type": "stream",
     "text": [
      "Enter a number :9\n",
      "9---18---27---36---45\n"
     ]
    }
   ],
   "source": [
    "try:\n",
    "    num=eval(input(\"Enter a number :\"))\n",
    "    print(num,2*num,3*num,4*num,5*num,sep=\"---\")\n",
    "except:\n",
    "    print(\"Please enter a numeric number\")"
   ]
  },
  {
   "cell_type": "markdown",
   "id": "ad341d1a",
   "metadata": {},
   "source": [
    "**3. Write a program that asks the user for a weight in kilograms andconverts it to pounds**  \n",
    "- There are 2.2 pounds in a kilogram."
   ]
  },
  {
   "cell_type": "code",
   "execution_count": 20,
   "id": "54154226",
   "metadata": {},
   "outputs": [
    {
     "name": "stdout",
     "output_type": "stream",
     "text": [
      "Enter a weight :59\n",
      "You enter a weight 59 KG and in pounds is 129.8 Pounds\n"
     ]
    }
   ],
   "source": [
    "try:\n",
    "    kg=eval(input(\"Enter a weight :\"))\n",
    "    pound=kg*2.2\n",
    "    print(\"You enter a weight {} KG and in pounds is {} Pounds\".format(kg,round(pound,2)))\n",
    "except:\n",
    "    print(\"Please enter a numeric number\")"
   ]
  },
  {
   "cell_type": "markdown",
   "id": "a1007d00",
   "metadata": {},
   "source": [
    "**4. Write a program that asks the user to enter three numbers (use three separate input statements).Create variables called total and average that hold the sum and average of the three numbers and print out thevalues of total and average.**"
   ]
  },
  {
   "cell_type": "code",
   "execution_count": 21,
   "id": "cb087803",
   "metadata": {},
   "outputs": [
    {
     "name": "stdout",
     "output_type": "stream",
     "text": [
      "Enter a number 1:46\n",
      "Enter a number 2:64\n",
      "Enter a number 3:37\n",
      "The sum of the numbers is 147 and their average is 49.0\n"
     ]
    }
   ],
   "source": [
    "try:\n",
    "    num1=eval(input(\"Enter a number 1:\"))\n",
    "    num2=eval(input(\"Enter a number 2:\"))\n",
    "    num3=eval(input(\"Enter a number 3:\"))\n",
    "    total=num1+num2+num3\n",
    "    avg=total/3\n",
    "    print(\"The sum of the numbers is {} and their average is {}\".format(total, avg))\n",
    "except:\n",
    "    print(\"Please enter a numeric number\")"
   ]
  },
  {
   "cell_type": "markdown",
   "id": "41720254",
   "metadata": {},
   "source": [
    "**Q.5. A lot of cell phones have tip calculators. Write one. Ask the user for the price of the meal and the percent tip they want to leave. Then print both the tip amount and the total bill with the tip included.**"
   ]
  },
  {
   "cell_type": "code",
   "execution_count": 22,
   "id": "2628dabb",
   "metadata": {},
   "outputs": [
    {
     "name": "stdout",
     "output_type": "stream",
     "text": [
      "Enter a bill ammount :673\n",
      "Enter a tip percentage :8\n",
      "Your bill is 673 before adding a 8% tip. Your total bill is 726.84\n"
     ]
    }
   ],
   "source": [
    "try:\n",
    "    bill=eval(input(\"Enter a bill ammount :\"))\n",
    "    tip=eval(input(\"Enter a tip percentage :\"))\n",
    "    total_bill=bill+(bill*tip/100)\n",
    "    print(\"Your bill is {} before adding a {}% tip. Your total bill is {}\".format(bill, tip, total_bill))\n",
    "except:\n",
    "    print(\"Please enter a numeric number\")"
   ]
  },
  {
   "cell_type": "markdown",
   "id": "65a3f06a",
   "metadata": {},
   "source": [
    "***Q6 Ramesh’s basic salary is input through the keyboard. His dearness allowance is 40% of\n",
    "basic salary, and house rent allowance is 20% of basic salary. Write a program to calculate his gross salary***"
   ]
  },
  {
   "cell_type": "code",
   "execution_count": 23,
   "id": "11f69a2c",
   "metadata": {},
   "outputs": [
    {
     "name": "stdout",
     "output_type": "stream",
     "text": [
      "please enter you basic salary :25000\n",
      "ramesh gross salary is 40000.0 Rupees\n"
     ]
    }
   ],
   "source": [
    "try:\n",
    "    basic_salary=eval(input(\"please enter you basic salary :\"))\n",
    "    da=basic_salary*0.4\n",
    "    hra=basic_salary*0.2\n",
    "    gross_salary=hra+da+basic_salary\n",
    "    print(\"ramesh gross salary is {} Rupees\".format(gross_salary))\n",
    "except Exception as e:\n",
    "    print(e)"
   ]
  },
  {
   "cell_type": "markdown",
   "id": "775093b5",
   "metadata": {},
   "source": [
    "***Q.7 The distance between two cities (in km.) is input through the keyboard. Write a program\n",
    "to convert and print this distance in meters, feet, inches and centimeters.***"
   ]
  },
  {
   "cell_type": "code",
   "execution_count": 24,
   "id": "7d24580a",
   "metadata": {},
   "outputs": [
    {
     "name": "stdout",
     "output_type": "stream",
     "text": [
      "Enter the distance between two city in KM :10\n",
      "Distance in KM is 10KM, in Meters is 10000meters, in Feet is 32800.0feet, in Inches is 393701.0inches and in Centimeter is 1000000centimeter\n"
     ]
    }
   ],
   "source": [
    "try:\n",
    "    dkm = eval(input(\"Enter the distance between two city in KM :\"))    #Distance in KM as DKM\n",
    "    dm=dkm*1000 #Distance in meter\n",
    "    df= round(dm*3.280,2) #Distance in Feet\n",
    "    di=round(dm*39.3701,2) #Distance in Inches\n",
    "    dc=dm*100 #Distance in Centimeter\n",
    "    print(\"Distance in KM is {}KM, in Meters is {}meters, in Feet is {}feet, in Inches is \n",
    "          {}inches and in Centimeter is {}centimeter\".format(dkm,dm,df,di,dc))\n",
    "except Exception as e:\n",
    "    print(e)"
   ]
  },
  {
   "cell_type": "markdown",
   "id": "a0e090a8",
   "metadata": {},
   "source": [
    "***Q. 8 If the marks obtained by a student in five different subjects are input through the\n",
    "keyboard, find out the aggregate marks and percentage marks obtained by the student.\n",
    "Assume that the maximum marks that can be obtained by a student in each subject is\n",
    "100.***"
   ]
  },
  {
   "cell_type": "code",
   "execution_count": 25,
   "id": "f9219855",
   "metadata": {},
   "outputs": [
    {
     "name": "stdout",
     "output_type": "stream",
     "text": [
      "Enter subject 1 marks :87\n",
      "Enter subject 2 marks :76\n",
      "Enter subject 3 marks :47\n",
      "Enter subject 4 marks :76\n",
      "Enter subject 5 marks :36\n",
      "Total aggregate marks is 322 and percentage obtained 64.4\n"
     ]
    }
   ],
   "source": [
    "try:\n",
    "    subject1=eval(input(\"Enter subject 1 marks :\"))\n",
    "    subject2=eval(input(\"Enter subject 2 marks :\"))\n",
    "    subject3=eval(input(\"Enter subject 3 marks :\"))\n",
    "    subject4=eval(input(\"Enter subject 4 marks :\"))\n",
    "    subject5=eval(input(\"Enter subject 5 marks :\"))\n",
    "    if 0<=subject1<=100 and 0<=subject2<=100 and 0<=subject3<=100 and 0<=subject4<=100 and 0<=subject5<=100:\n",
    "        aggregate_marks=subject1+subject2+subject3+subject4+subject5\n",
    "        percentage=round((aggregate_marks/500)*100,2)\n",
    "        print(\"Total aggregate marks is {} and percentage obtained {}\".format(aggregate_marks,percentage))\n",
    "    else:\n",
    "        print(\"Marks should be between 0 and 100.\")\n",
    "except Exception as e:\n",
    "    print(e)"
   ]
  },
  {
   "cell_type": "markdown",
   "id": "d2e9e356",
   "metadata": {},
   "source": [
    "***Q.9 Temperature of a city in Fahrenheit degrees is input through the keyboard. Write a\n",
    "program to convert this temperature into Centigrade degrees.***"
   ]
  },
  {
   "cell_type": "code",
   "execution_count": 26,
   "id": "15539253",
   "metadata": {},
   "outputs": [
    {
     "name": "stdout",
     "output_type": "stream",
     "text": [
      "Enter a temprature in Fahrenheit :50\n",
      "Temprature in Centigrade degrees is 10.0\n"
     ]
    }
   ],
   "source": [
    "try:\n",
    "    temp_far=eval(input(\"Enter a temprature in Fahrenheit :\")) #Temprature in fahrenheit \n",
    "    temp_cel= round((temp_far-32)*5/9,2)  #Temprature in Centigrade degrees with formula °C = [(°F-32)×5]/9\n",
    "    print(\"Temprature in Centigrade degrees is {}\".format(temp_cel))\n",
    "except Exception as e:\n",
    "    print(e)"
   ]
  },
  {
   "cell_type": "markdown",
   "id": "ae0d48d4",
   "metadata": {},
   "source": [
    "***Q.10 The length & breadth of a rectangle and radius of a circle are input through the\n",
    "keyboard. Write a program to calculate the area & perimeter of the rectangle, and the\n",
    "area & circumference of the circle***"
   ]
  },
  {
   "cell_type": "code",
   "execution_count": 29,
   "id": "67c3b63c",
   "metadata": {},
   "outputs": [
    {
     "name": "stdout",
     "output_type": "stream",
     "text": [
      "Enter the length of the rectangle: 30\n",
      "Enter the breadth of the rectangle: 40\n",
      "Enter the radius of the circle: 50\n",
      "Area of rectangle is 1200, Perimeter of rectangle is 140.\n",
      "Area of the circle is 7853.98 and Circumference of the circle is 314.16.\n"
     ]
    }
   ],
   "source": [
    "\n",
    "import math\n",
    "try:\n",
    "    pii = math.pi\n",
    "    length = eval(input(\"Enter the length of the rectangle: \"))  # Length of rectangle\n",
    "    breadth = eval(input(\"Enter the breadth of the rectangle: \"))  # Breadth of rectangle\n",
    "    radius = eval(input(\"Enter the radius of the circle: \"))  # Radius of circle\n",
    "    area_rect = round(length * breadth, 2)  # Area of rectangle\n",
    "    perimeter_rect = 2 * (length + breadth)  # Perimeter of rectangle\n",
    "    area_circle = round(pii * (radius * radius), 2)  # Area of circle\n",
    "    circumference_circle = round(2 * pii * radius, 2)  # Circumference of circle\n",
    "\n",
    "    print(\"Area of rectangle is {}, Perimeter of rectangle is {}.\".\n",
    "          format(area_rect, perimeter_rect))\n",
    "    print(\"Area of the circle is {} and Circumference of the circle is {}.\".\n",
    "          format(area_circle, circumference_circle))\n",
    "except Exception as e:\n",
    "    print(e)"
   ]
  },
  {
   "cell_type": "markdown",
   "id": "4dc0e574",
   "metadata": {},
   "source": [
    "***Q.11 Two numbers are input through the keyboard into two locations C and D. Write a\n",
    "program to interchange the contents of C and D.***"
   ]
  },
  {
   "cell_type": "code",
   "execution_count": 34,
   "id": "55d4c76f",
   "metadata": {},
   "outputs": [
    {
     "name": "stdout",
     "output_type": "stream",
     "text": [
      "Enter the value for C: 35\n",
      "Enter the value for D: 99\n",
      "after interchange, the value of C is: 99\n",
      "after interchange, the value of D is: 35\n"
     ]
    }
   ],
   "source": [
    "try:\n",
    "    C = eval(input(\"Enter the value for C: \"))\n",
    "    D = eval(input(\"Enter the value for D: \"))\n",
    "    a = C   #C Value Stored in a\n",
    "    b = D   #D value Stroed in b\n",
    "    D = a   #D value stored in a that is C\n",
    "    C = b   #C value stored in b that is D\n",
    "    print(\"after interchange, the value of C is: {}\".format(C))\n",
    "    print(\"after interchange, the value of D is: {}\".format(D))\n",
    "except Exception as e:\n",
    "    print(e)"
   ]
  },
  {
   "cell_type": "markdown",
   "id": "30e15603",
   "metadata": {},
   "source": [
    "***Q.12 If a five-digit number is input through the keyboard, write a program to reverse the\n",
    "number***"
   ]
  },
  {
   "cell_type": "code",
   "execution_count": 35,
   "id": "0d5b5280",
   "metadata": {},
   "outputs": [
    {
     "name": "stdout",
     "output_type": "stream",
     "text": [
      "Enter a 5 digit number :34656\n",
      "You entered a 34656 and it reversed number is 65643\n"
     ]
    }
   ],
   "source": [
    "try:\n",
    "    n=eval(input(\"Enter a 5 digit number :\"))\n",
    "    if 10000<n<99999:\n",
    "        ln1=n%10       #Last digit of the number\n",
    "        n1=n//10       #Four digit number\n",
    "        ln2=n1%10      #2nd last digit of the number\n",
    "        n2=n1//10      #Three digit of the number\n",
    "        ln3=n2%10      #Third digit of number\n",
    "        n3=n2//10      #Two digit of the number\n",
    "        ln4=n3%10      #2nd digit of the number\n",
    "        n4=n3//10      #First digit of the number\n",
    "        print(\"You entered a {} and it reversed number is {}{}{}{}{}\".format(n,ln1,ln2,ln3,ln4,n4))\n",
    "    else:\n",
    "        print(\"Please enter a 5 digit number\")\n",
    "except Exception as e:\n",
    "    print(e)"
   ]
  },
  {
   "cell_type": "markdown",
   "id": "2ebf0c4c",
   "metadata": {},
   "source": [
    "***Q.13 If a four-digit number is input through the keyboard, write a program to obtain the sum of \n",
    "the first and last digit of this number.***"
   ]
  },
  {
   "cell_type": "code",
   "execution_count": 36,
   "id": "66f0abfb",
   "metadata": {},
   "outputs": [
    {
     "name": "stdout",
     "output_type": "stream",
     "text": [
      "Enter a 4 digit number :3432\n",
      "You entered a 3432 and and its first digit is (3) and last digit is (2) its sum is = 5\n"
     ]
    }
   ],
   "source": [
    "try:\n",
    "    n=eval(input(\"Enter a 4 digit number :\"))\n",
    "    if 1000<n<9999:\n",
    "        fd=n//1000\n",
    "        ld=n%10\n",
    "        print(\"You entered a {} and and its first digit is ({}) and last digit is ({}) its sum is = {}\".\n",
    "              format(n,fd,ld,fd+ld))\n",
    "    else:\n",
    "        print(\"Please enter a Four digit number\")\n",
    "except Exception as e:\n",
    "    print(e)"
   ]
  },
  {
   "cell_type": "markdown",
   "id": "1992e6a8",
   "metadata": {},
   "source": [
    "***Q.14 In a town, the percentage of men is 52. The percentage of total literacy is 48. If total \n",
    "percentage of literate men is 35 of the total population, write a program to find the total \n",
    "number of illiterate men and women if the population of the town is 80,000***"
   ]
  },
  {
   "cell_type": "code",
   "execution_count": 50,
   "id": "de3ba0bd",
   "metadata": {},
   "outputs": [
    {
     "name": "stdout",
     "output_type": "stream",
     "text": [
      "Total number of illiterate men: 13600.0\n",
      "Total number of illiterate women:  28000.0\n"
     ]
    }
   ],
   "source": [
    "try:\n",
    "    total_population = 80000\n",
    "    percentage_men = 52\n",
    "    percentage_total_literacy = 48\n",
    "    percentage_literate_men = 35\n",
    "\n",
    "    total_men = (percentage_men / 100) * total_population #Mans population\n",
    "\n",
    "    total_literate = (percentage_total_literacy / 100) * total_population #Literate people in town\n",
    "    \n",
    "    literate_men = (percentage_literate_men / 100) * total_population   #Litrate man\n",
    "\n",
    "    total_women = total_population - total_men     #Woman Population in town\n",
    "\n",
    "    illiterate_men = total_men - literate_men    #Illitrate man population\n",
    "    print(\"Total number of illiterate men:\",illiterate_men)\n",
    "\n",
    "    literate_woman = total_literate - literate_men  #Litrate woman in town \n",
    "\n",
    "    illiterate_women = total_women - literate_woman    #illitrate man in town\n",
    "    print(\"Total number of illiterate women: \",illiterate_women)\n",
    "    \n",
    "except Exception as e:\n",
    "    print(e)\n"
   ]
  },
  {
   "cell_type": "markdown",
   "id": "02e14692",
   "metadata": {},
   "source": [
    "***Q.15 A cashier has currency notes of denominations 10, 50 and 100. If the amount to be \n",
    "withdrawn is input through the keyboard in hundreds, find the total number of currency \n",
    "notes of each denomination the cashier will have to give to the withdrawer.***"
   ]
  },
  {
   "cell_type": "code",
   "execution_count": 30,
   "id": "bd732211",
   "metadata": {},
   "outputs": [
    {
     "name": "stdout",
     "output_type": "stream",
     "text": [
      "Enter an amount to withdraw: 5990\n",
      "You need 59 hundred rupee notes, 1 fifty rupee notes, and 4 ten rupee notes.\n"
     ]
    }
   ],
   "source": [
    "try:\n",
    "    cash = eval(input(\"Enter an amount to withdraw: \"))\n",
    "    if cash % 10 == 0:\n",
    "        hund = cash // 100  # Number of 100 rupee notes to be given\n",
    "        rmng = cash % 100\n",
    "        fifty = rmng // 50  # Number of 50 rupee notes to be given\n",
    "        remng2 = rmng % 50\n",
    "        ten = remng2 // 10  # Number of 10 rupee notes to be given\n",
    "        print(\"You need {} hundred rupee notes, {} fifty rupee notes, and {} ten rupee notes.\".format(hund, fifty, ten))\n",
    "    else:\n",
    "        print(\"Enter a number in multiples of 10.\")\n",
    "except Exception as e:\n",
    "    print(e)"
   ]
  },
  {
   "cell_type": "code",
   "execution_count": null,
   "id": "b134205b",
   "metadata": {},
   "outputs": [],
   "source": []
  },
  {
   "cell_type": "code",
   "execution_count": null,
   "id": "232205ab",
   "metadata": {},
   "outputs": [],
   "source": []
  }
 ],
 "metadata": {
  "kernelspec": {
   "display_name": "Python 3 (ipykernel)",
   "language": "python",
   "name": "python3"
  },
  "language_info": {
   "codemirror_mode": {
    "name": "ipython",
    "version": 3
   },
   "file_extension": ".py",
   "mimetype": "text/x-python",
   "name": "python",
   "nbconvert_exporter": "python",
   "pygments_lexer": "ipython3",
   "version": "3.11.5"
  }
 },
 "nbformat": 4,
 "nbformat_minor": 5
}
