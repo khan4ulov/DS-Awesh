{
 "cells": [
  {
   "cell_type": "markdown",
   "id": "5566ea98",
   "metadata": {},
   "source": [
    "$cLEAR-cOPY$"
   ]
  },
  {
   "cell_type": "code",
   "execution_count": 2,
   "id": "b6e23e06",
   "metadata": {},
   "outputs": [],
   "source": [
    "d1= {'Ram':25,'Raheem':30,'Robert':3}\n",
    "d2={\"Apple\":30,\"Banana\":67,\"Mango\":45,\"Orange\":50}"
   ]
  },
  {
   "cell_type": "code",
   "execution_count": 3,
   "id": "37cdf7f9",
   "metadata": {},
   "outputs": [
    {
     "ename": "TypeError",
     "evalue": "dict.copy() takes no arguments (1 given)",
     "output_type": "error",
     "traceback": [
      "\u001b[1;31m---------------------------------------------------------------------------\u001b[0m",
      "\u001b[1;31mTypeError\u001b[0m                                 Traceback (most recent call last)",
      "Cell \u001b[1;32mIn[3], line 1\u001b[0m\n\u001b[1;32m----> 1\u001b[0m d1\u001b[38;5;241m.\u001b[39mcopy(d2)\n",
      "\u001b[1;31mTypeError\u001b[0m: dict.copy() takes no arguments (1 given)"
     ]
    }
   ],
   "source": [
    "d1.copy(d2)"
   ]
  },
  {
   "cell_type": "code",
   "execution_count": 4,
   "id": "6823de46",
   "metadata": {},
   "outputs": [],
   "source": [
    "d2=d1.copy()"
   ]
  },
  {
   "cell_type": "code",
   "execution_count": 5,
   "id": "38ce66ac",
   "metadata": {},
   "outputs": [
    {
     "data": {
      "text/plain": [
       "{'Ram': 25, 'Raheem': 30, 'Robert': 3}"
      ]
     },
     "execution_count": 5,
     "metadata": {},
     "output_type": "execute_result"
    }
   ],
   "source": [
    "d2"
   ]
  },
  {
   "cell_type": "code",
   "execution_count": 7,
   "id": "34866f5f",
   "metadata": {},
   "outputs": [
    {
     "data": {
      "text/plain": [
       "{}"
      ]
     },
     "execution_count": 7,
     "metadata": {},
     "output_type": "execute_result"
    }
   ],
   "source": [
    "d1.clear()\n",
    "d1"
   ]
  },
  {
   "cell_type": "markdown",
   "id": "f2c5de4e",
   "metadata": {},
   "source": [
    "$POP-Popitem-del$"
   ]
  },
  {
   "cell_type": "code",
   "execution_count": 8,
   "id": "e7e7940a",
   "metadata": {},
   "outputs": [
    {
     "data": {
      "text/plain": [
       "25"
      ]
     },
     "execution_count": 8,
     "metadata": {},
     "output_type": "execute_result"
    }
   ],
   "source": [
    "d2.pop('Ram')"
   ]
  },
  {
   "cell_type": "code",
   "execution_count": 10,
   "id": "235f81e6",
   "metadata": {},
   "outputs": [
    {
     "data": {
      "text/plain": [
       "('Robert', 3)"
      ]
     },
     "execution_count": 10,
     "metadata": {},
     "output_type": "execute_result"
    }
   ],
   "source": [
    "d2.popitem()"
   ]
  },
  {
   "cell_type": "code",
   "execution_count": 12,
   "id": "385904e5",
   "metadata": {},
   "outputs": [
    {
     "data": {
      "text/plain": [
       "{'Raheem': 30}"
      ]
     },
     "execution_count": 12,
     "metadata": {},
     "output_type": "execute_result"
    }
   ],
   "source": [
    "d2"
   ]
  },
  {
   "cell_type": "code",
   "execution_count": 13,
   "id": "7ef44964",
   "metadata": {},
   "outputs": [],
   "source": [
    "d2={'a': 25, 'b': 30, 'c': 3,'A':2}"
   ]
  },
  {
   "cell_type": "code",
   "execution_count": 14,
   "id": "40bd4976",
   "metadata": {},
   "outputs": [
    {
     "data": {
      "text/plain": [
       "30"
      ]
     },
     "execution_count": 14,
     "metadata": {},
     "output_type": "execute_result"
    }
   ],
   "source": [
    "d2.pop(\"b\")"
   ]
  },
  {
   "cell_type": "code",
   "execution_count": 38,
   "id": "4700daa4",
   "metadata": {},
   "outputs": [],
   "source": [
    "d2={'a': 25, 'b': 30, 'c': 3,'A':2,'x':23}"
   ]
  },
  {
   "cell_type": "code",
   "execution_count": 39,
   "id": "bee6a154",
   "metadata": {},
   "outputs": [
    {
     "data": {
      "text/plain": [
       "{'a': 25, 'b': 30, 'c': 3, 'A': 2, 'x': 23}"
      ]
     },
     "execution_count": 39,
     "metadata": {},
     "output_type": "execute_result"
    }
   ],
   "source": [
    "d2"
   ]
  },
  {
   "cell_type": "code",
   "execution_count": 54,
   "id": "e0e8b0d6",
   "metadata": {},
   "outputs": [
    {
     "data": {
      "text/plain": [
       "{'a': 25, 'b': 30, 'c': 3, 'A': 2}"
      ]
     },
     "execution_count": 54,
     "metadata": {},
     "output_type": "execute_result"
    }
   ],
   "source": [
    "d2={'a': 25, 'b': 30, 'c': 3,'A':2,'x':23}\n",
    "d3=d2.popitem()\n",
    "d2"
   ]
  },
  {
   "cell_type": "code",
   "execution_count": 55,
   "id": "00957753",
   "metadata": {},
   "outputs": [
    {
     "data": {
      "text/plain": [
       "('x', 23)"
      ]
     },
     "execution_count": 55,
     "metadata": {},
     "output_type": "execute_result"
    }
   ],
   "source": [
    "d3"
   ]
  },
  {
   "cell_type": "code",
   "execution_count": 48,
   "id": "4647ba9f",
   "metadata": {},
   "outputs": [],
   "source": [
    "d2={'a': 25, 'b': 30, 'c': 3,'A':2,'x':23}"
   ]
  },
  {
   "cell_type": "code",
   "execution_count": null,
   "id": "0864ecba",
   "metadata": {},
   "outputs": [],
   "source": []
  },
  {
   "cell_type": "code",
   "execution_count": 59,
   "id": "ab01ede5",
   "metadata": {},
   "outputs": [],
   "source": [
    "d2={'a': 25, 'b': 30, 'c': 3,'A':2,'x':23}\n",
    "del d2['A']\n",
    "del d2"
   ]
  },
  {
   "cell_type": "markdown",
   "id": "4046ed91",
   "metadata": {},
   "source": [
    "we learn  \n",
    " - item/values/keys\n",
    " - if i provide two list you now how to make dict\n",
    " - if i provide dic, you now how to create two list\n",
    " - create an empty string/list/dict\n",
    " - counter\n",
    " - sum\n",
    " - fi tion\n",
    " - pop/popitems/del\n",
    " - copy/clear"
   ]
  },
  {
   "cell_type": "code",
   "execution_count": 75,
   "id": "79fe3298",
   "metadata": {},
   "outputs": [
    {
     "data": {
      "text/plain": [
       "25"
      ]
     },
     "execution_count": 75,
     "metadata": {},
     "output_type": "execute_result"
    }
   ],
   "source": [
    "d2={'a': 25, 'b': 30, 'c': 3,'A':2,'x':23}\n",
    "d2.get('a')"
   ]
  },
  {
   "cell_type": "code",
   "execution_count": 76,
   "id": "e0de5903",
   "metadata": {},
   "outputs": [
    {
     "data": {
      "text/plain": [
       "{'a': 25, 'b': 30, 'c': 3, 'A': 2, 'x': 23}"
      ]
     },
     "execution_count": 76,
     "metadata": {},
     "output_type": "execute_result"
    }
   ],
   "source": [
    "d2"
   ]
  },
  {
   "cell_type": "code",
   "execution_count": 70,
   "id": "da157b64",
   "metadata": {},
   "outputs": [],
   "source": [
    "d2={'a': 25, 'b': 30, 'c': 3,'A':2,'x':23}\n",
    "d2.get('g')"
   ]
  },
  {
   "cell_type": "code",
   "execution_count": 81,
   "id": "e33d48e8",
   "metadata": {},
   "outputs": [
    {
     "data": {
      "text/plain": [
       "{'b': 56}"
      ]
     },
     "execution_count": 81,
     "metadata": {},
     "output_type": "execute_result"
    }
   ],
   "source": [
    "d2={'a': 25, 'b': 30, 'c': 3,'A':2,'x':23}\n",
    "aa=d2.fromkeys('b',56)\n",
    "aa"
   ]
  },
  {
   "cell_type": "code",
   "execution_count": 84,
   "id": "04bf4296",
   "metadata": {},
   "outputs": [
    {
     "data": {
      "text/plain": [
       "{'B': 45, 'a': 45, 'n': 45}"
      ]
     },
     "execution_count": 84,
     "metadata": {},
     "output_type": "execute_result"
    }
   ],
   "source": [
    "d1={\"Apple\":30,\"Banana\":67,\"Mango\":45,\"Orange\":50}\n",
    "d3=d1.fromkeys(\"Banana\",45)\n",
    "d3"
   ]
  },
  {
   "cell_type": "code",
   "execution_count": 86,
   "id": "e3cec888",
   "metadata": {},
   "outputs": [
    {
     "data": {
      "text/plain": [
       "{1: 'ODD', 2: 'ODD', 3: 'ODD'}"
      ]
     },
     "execution_count": 86,
     "metadata": {},
     "output_type": "execute_result"
    }
   ],
   "source": [
    "d2={}.fromkeys([1,2,3],\"ODD\")\n",
    "d2"
   ]
  },
  {
   "cell_type": "code",
   "execution_count": 87,
   "id": "53f59eb2",
   "metadata": {},
   "outputs": [
    {
     "data": {
      "text/plain": [
       "{'Apple': 30, 'Banana': 67, 'Mango': 45, 'Orange': 50}"
      ]
     },
     "execution_count": 87,
     "metadata": {},
     "output_type": "execute_result"
    }
   ],
   "source": [
    "d1"
   ]
  },
  {
   "cell_type": "code",
   "execution_count": 98,
   "id": "73754ab0",
   "metadata": {},
   "outputs": [
    {
     "name": "stdout",
     "output_type": "stream",
     "text": [
      "None\n"
     ]
    }
   ],
   "source": [
    "d2=d1.setdefault(\"B\")\n",
    "print(d2)"
   ]
  },
  {
   "cell_type": "code",
   "execution_count": 107,
   "id": "6f3913fc",
   "metadata": {},
   "outputs": [
    {
     "data": {
      "text/plain": [
       "{'B': 56}"
      ]
     },
     "execution_count": 107,
     "metadata": {},
     "output_type": "execute_result"
    }
   ],
   "source": [
    "d1={}\n",
    "d2=d1.setdefault(\"B\",56)\n",
    "d1"
   ]
  },
  {
   "cell_type": "code",
   "execution_count": 126,
   "id": "00c5d6ed",
   "metadata": {},
   "outputs": [
    {
     "name": "stdout",
     "output_type": "stream",
     "text": [
      "{'a': 25, 'b': 30, 'c': 3, 'Apple': 30, 'Banana': 67}\n"
     ]
    }
   ],
   "source": [
    "d1={'a': 25, 'b': 30, 'c': 3}\n",
    "d2={\"Apple\":30,\"Banana\":67}\n",
    "d3=d1.update(d2)  #it will update d1 dict into d2  \n",
    "print(d1)     #output d1={'a': 25, 'b': 30, 'c': 3, 'Apple': 30, 'Banana': 67}"
   ]
  },
  {
   "cell_type": "code",
   "execution_count": 127,
   "id": "aa930ee7",
   "metadata": {},
   "outputs": [
    {
     "name": "stdout",
     "output_type": "stream",
     "text": [
      "None\n"
     ]
    }
   ],
   "source": [
    "print(d3)"
   ]
  },
  {
   "cell_type": "code",
   "execution_count": null,
   "id": "d3d1a882",
   "metadata": {},
   "outputs": [],
   "source": []
  }
 ],
 "metadata": {
  "kernelspec": {
   "display_name": "Python 3 (ipykernel)",
   "language": "python",
   "name": "python3"
  },
  "language_info": {
   "codemirror_mode": {
    "name": "ipython",
    "version": 3
   },
   "file_extension": ".py",
   "mimetype": "text/x-python",
   "name": "python",
   "nbconvert_exporter": "python",
   "pygments_lexer": "ipython3",
   "version": "3.11.5"
  }
 },
 "nbformat": 4,
 "nbformat_minor": 5
}
