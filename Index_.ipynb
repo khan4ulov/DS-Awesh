{
 "cells": [
  {
   "cell_type": "code",
   "execution_count": 2,
   "id": "caa53334",
   "metadata": {},
   "outputs": [
    {
     "data": {
      "text/plain": [
       "4"
      ]
     },
     "execution_count": 2,
     "metadata": {},
     "output_type": "execute_result"
    }
   ],
   "source": [
    "#index\n",
    "list1=[1,2,3,4,5,'python',\"s\"]\n",
    "list1.index(5)"
   ]
  },
  {
   "cell_type": "code",
   "execution_count": 3,
   "id": "9d76a492",
   "metadata": {},
   "outputs": [
    {
     "data": {
      "text/plain": [
       "[1, 2, 100, 3, 4, 5, 'python', 's']"
      ]
     },
     "execution_count": 3,
     "metadata": {},
     "output_type": "execute_result"
    }
   ],
   "source": [
    "#insert\n",
    "list1=[1,2,3,4,5,'python',\"s\"]\n",
    "list1.insert(2,100)   # Insert 100 at index 2\n",
    "list1                 #with using index we can add value at any index"
   ]
  },
  {
   "cell_type": "code",
   "execution_count": 7,
   "id": "5b6dd38e",
   "metadata": {},
   "outputs": [
    {
     "data": {
      "text/plain": [
       "[1, 2, 'Hi', 3, 4, 5, 'python', 's']"
      ]
     },
     "execution_count": 7,
     "metadata": {},
     "output_type": "execute_result"
    }
   ],
   "source": [
    "#insert\n",
    "list1=[1,2,3,4,5,'python',\"s\"]\n",
    "list1.insert(2,\"Hi\")   # Insert Hi at index 2\n",
    "list1"
   ]
  },
  {
   "cell_type": "code",
   "execution_count": 8,
   "id": "6aab3ccb",
   "metadata": {},
   "outputs": [
    {
     "data": {
      "text/plain": [
       "[1, 2, 3, 4, 5, 'python', 's', 56]"
      ]
     },
     "execution_count": 8,
     "metadata": {},
     "output_type": "execute_result"
    }
   ],
   "source": [
    "#append\n",
    "list2=[1,2,3,4,5,'python',\"s\"]    #Append\n",
    "list2.append(56)                  #append will come at last\n",
    "list2"
   ]
  },
  {
   "cell_type": "code",
   "execution_count": 10,
   "id": "649009d0",
   "metadata": {},
   "outputs": [
    {
     "data": {
      "text/plain": [
       "['s', 'python', 5, 4, 3, 2, 1]"
      ]
     },
     "execution_count": 10,
     "metadata": {},
     "output_type": "execute_result"
    }
   ],
   "source": [
    "#reverse \n",
    "list3=[1,2,3,4,5,'python',\"s\"]\n",
    "list3.reverse()                  #reverse is a method\n",
    "list3"
   ]
  },
  {
   "cell_type": "code",
   "execution_count": 11,
   "id": "67efd9c1",
   "metadata": {},
   "outputs": [
    {
     "name": "stdout",
     "output_type": "stream",
     "text": [
      "s\n",
      "python\n",
      "5\n",
      "4\n",
      "3\n",
      "2\n",
      "1\n"
     ]
    }
   ],
   "source": [
    "#reversed\n",
    "list3=[1,2,3,4,5,'python',\"s\"]\n",
    "for i in reversed(list3):   #Reversed is a keyword it can  use with a loop\n",
    "    print(i)"
   ]
  },
  {
   "cell_type": "code",
   "execution_count": 19,
   "id": "fcf0c451",
   "metadata": {},
   "outputs": [
    {
     "name": "stdout",
     "output_type": "stream",
     "text": [
      "Original List: [1, 2, 3, 4, 5, 'python', 's']\n",
      "Reversed List: ['s', 'python', 5, 4, 3, 2, 1]\n"
     ]
    }
   ],
   "source": [
    "#reversed\n",
    "list3 = [1, 2, 3, 4, 5, 'python', \"s\"]\n",
    "list4 = list(reversed(list3))     #with using list and reversed without using loop\n",
    "\n",
    "print(\"Original List:\", list3)\n",
    "print(\"Reversed List:\", list4)"
   ]
  },
  {
   "cell_type": "code",
   "execution_count": 22,
   "id": "4b63fa8e",
   "metadata": {},
   "outputs": [
    {
     "data": {
      "text/plain": [
       "[100, 250, 300, 500, 500]"
      ]
     },
     "execution_count": 22,
     "metadata": {},
     "output_type": "execute_result"
    }
   ],
   "source": [
    "#sort\n",
    "list3 = [100, 500, 300, 250, 500]   #only take integer and float or  string at one time if you use both you will get error\n",
    "list3.sort()      \n",
    "list3  "
   ]
  },
  {
   "cell_type": "code",
   "execution_count": 25,
   "id": "c639286a",
   "metadata": {},
   "outputs": [
    {
     "data": {
      "text/plain": [
       "['a', 'd', 'f', 'hello', 'python', 't', 't']"
      ]
     },
     "execution_count": 25,
     "metadata": {},
     "output_type": "execute_result"
    }
   ],
   "source": [
    "#sort\n",
    "list3=['a','d','t','f','t','python','hello']   #fisrt capital letter will come after small letter\n",
    "list3.sort()              \n",
    "list3"
   ]
  },
  {
   "cell_type": "code",
   "execution_count": 26,
   "id": "a5db1c90",
   "metadata": {},
   "outputs": [
    {
     "data": {
      "text/plain": [
       "['D', 'Hello', 'To', 'a', 'f', 'python', 't']"
      ]
     },
     "execution_count": 26,
     "metadata": {},
     "output_type": "execute_result"
    }
   ],
   "source": [
    "#sort\n",
    "list3=['a','D','t','f','To','python','Hello']   #fisrt capital letter will come after small letter\n",
    "list3.sort()              \n",
    "list3"
   ]
  },
  {
   "cell_type": "code",
   "execution_count": 27,
   "id": "f8cbf86e",
   "metadata": {},
   "outputs": [
    {
     "name": "stdout",
     "output_type": "stream",
     "text": [
      "[100, 200, 250, 300, 500, 1000]\n"
     ]
    }
   ],
   "source": [
    "#sorted\n",
    "list1=[200,500,100,300,1000,250]\n",
    "nlist=[]\n",
    "for i in sorted(list1):\n",
    "    nlist.append(i)\n",
    "print(nlist)"
   ]
  },
  {
   "cell_type": "code",
   "execution_count": 34,
   "id": "a2999c8b",
   "metadata": {},
   "outputs": [
    {
     "name": "stdout",
     "output_type": "stream",
     "text": [
      "['A', 'Awesh Khan', 'Python', 'Z', 'data Science', 'python']\n"
     ]
    }
   ],
   "source": [
    "list1=['A','Z','Awesh Khan','Python','data Science','python']\n",
    "nlist=[]\n",
    "for i in sorted(list1):\n",
    "    nlist.append(i)\n",
    "print(nlist)"
   ]
  },
  {
   "cell_type": "code",
   "execution_count": 31,
   "id": "32f8ed06",
   "metadata": {},
   "outputs": [
    {
     "name": "stdout",
     "output_type": "stream",
     "text": [
      "Original List: ['apple', 'banana', 'cherry', 'dates', 'Pnieapple']\n",
      "Sorted List by Length: ['apple', 'dates', 'banana', 'cherry', 'Pnieapple']\n"
     ]
    }
   ],
   "source": [
    "list1 = [\"apple\", \"banana\", \"cherry\", \"dates\",\"Pnieapple\"]\n",
    "\n",
    "# Sort by the length of the words\n",
    "listn = sorted(list1, key=len)    #using key=ken by default it alphabatically\n",
    "\n",
    "print(\"Original List:\", list1)\n",
    "print(\"Sorted List by Length:\", listn)"
   ]
  },
  {
   "cell_type": "code",
   "execution_count": 33,
   "id": "bcb52750",
   "metadata": {},
   "outputs": [
    {
     "name": "stdout",
     "output_type": "stream",
     "text": [
      "Original List: ['apple', 'banana', 'Cherry', 'dates', 'Pnieapple']\n",
      "Sorted List by Length: ['Cherry', 'Pnieapple', 'apple', 'banana', 'dates']\n"
     ]
    }
   ],
   "source": [
    "list1 = [\"apple\", \"banana\", \"Cherry\", \"dates\",\"Pnieapple\"]\n",
    "\n",
    "# Sort by the length of the words\n",
    "listn = sorted(list1,)    #using key=ken by default it alphabatically first Captial letter then small\n",
    "\n",
    "print(\"Original List:\", list1)\n",
    "print(\"Sorted List by Length:\", listn)"
   ]
  },
  {
   "cell_type": "code",
   "execution_count": null,
   "id": "4b0df548",
   "metadata": {},
   "outputs": [],
   "source": []
  }
 ],
 "metadata": {
  "kernelspec": {
   "display_name": "Python 3 (ipykernel)",
   "language": "python",
   "name": "python3"
  },
  "language_info": {
   "codemirror_mode": {
    "name": "ipython",
    "version": 3
   },
   "file_extension": ".py",
   "mimetype": "text/x-python",
   "name": "python",
   "nbconvert_exporter": "python",
   "pygments_lexer": "ipython3",
   "version": "3.11.5"
  }
 },
 "nbformat": 4,
 "nbformat_minor": 5
}
