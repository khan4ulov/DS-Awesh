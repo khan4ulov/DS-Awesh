{
 "cells": [
  {
   "cell_type": "markdown",
   "id": "9999b7ed",
   "metadata": {},
   "source": [
    "# Funtions  \n",
    "-Reuse any part of code"
   ]
  },
  {
   "cell_type": "markdown",
   "id": "ae88d042",
   "metadata": {},
   "source": [
    "***Syntax of funtion***  \n",
    "def <Funtion_name> ():  \n",
    "    -write your code here"
   ]
  },
  {
   "cell_type": "code",
   "execution_count": 21,
   "id": "47a2d4a1",
   "metadata": {},
   "outputs": [],
   "source": [
    "def addition():\n",
    "    try:\n",
    "        n1=eval(input(\"Enter a number 1:\"))\n",
    "        n2=eval(input(\"Enter a number 2:\"))\n",
    "        if n1>n2:\n",
    "            add=n1+n2\n",
    "            print(\"N1 is grator then N2 so we are doing addition :\")\n",
    "            print(\"the additon of {} and {} is {}\".format(n1,n2,add))\n",
    "        else:\n",
    "            sub=n2-n1\n",
    "            print(\"N2 is grator then N1 so we are doing substraction :\")\n",
    "            print(\"the substraction of {} and {} is {}\".format(n1,n2,sub))\n",
    "    except Exception as e:\n",
    "        print(e)\n",
    "        print(\"Please Enter a number \")\n"
   ]
  },
  {
   "cell_type": "code",
   "execution_count": 23,
   "id": "387cd947",
   "metadata": {},
   "outputs": [
    {
     "name": "stdout",
     "output_type": "stream",
     "text": [
      "Enter a number 1:60\n",
      "Enter a number 2:60\n",
      "N2 is grator then N1 so we are doing substraction :\n",
      "the substraction of 60 and 60 is 0\n",
      "None\n"
     ]
    }
   ],
   "source": [
    "print(addition())"
   ]
  },
  {
   "cell_type": "code",
   "execution_count": 25,
   "id": "b89657e8",
   "metadata": {},
   "outputs": [
    {
     "name": "stdout",
     "output_type": "stream",
     "text": [
      "Enter a number 1:45\n",
      "Enter a number 2:50\n",
      "N2 is grator then N1 so we are doing substraction :\n",
      "the substraction of 45 and 50 is 5\n",
      "Enter a number 1:34\n",
      "Enter a number 2:67\n",
      "N2 is grator then N1 so we are doing substraction :\n",
      "the substraction of 34 and 67 is 33\n"
     ]
    }
   ],
   "source": [
    "addition()\n",
    "addition()"
   ]
  },
  {
   "cell_type": "code",
   "execution_count": null,
   "id": "bf77c3d3",
   "metadata": {},
   "outputs": [],
   "source": [
    "n1=eval(input(\"Enter a number 1:\"))\n",
    "n2=eval(input(\"Enter a number 2:\"))\n",
    "n3=eval(input(\"Enter a number 3:\"))\n",
    "avrg=(n1+n2+n3)/3\n",
    "print(avrg)"
   ]
  },
  {
   "cell_type": "code",
   "execution_count": 41,
   "id": "71ac6478",
   "metadata": {},
   "outputs": [],
   "source": [
    "def average():\n",
    "    try:\n",
    "        n1=eval(input(\"Enter a number 1:\"))\n",
    "        n2=eval(input(\"Enter a number 2:\"))\n",
    "        n3=eval(input(\"Enter a number 3:\"))\n",
    "        avrg=round((n1+n2+n3)/3,2)\n",
    "        print(\"the avrage of {},{} and{} is {}\".format(n1,n2,n3,avrg))\n",
    "        print(\"the avrage of {},{} and{} is {}\".format(n1,n2,n3,round((n1+n2+n3)/3,2)))\n",
    "    except Exception as e:\n",
    "        print(\"Please enter a number\")\n",
    "        print(e)\n",
    "    "
   ]
  },
  {
   "cell_type": "code",
   "execution_count": 42,
   "id": "43f4ec10",
   "metadata": {},
   "outputs": [
    {
     "name": "stdout",
     "output_type": "stream",
     "text": [
      "Enter a number 1:35\n",
      "Enter a number 2:34\n",
      "Enter a number 3:56\n",
      "the avrage of 35,34 and56 is 41.67\n",
      "the avrage of 35,34 and56 is 41.67\n"
     ]
    }
   ],
   "source": [
    "average()"
   ]
  },
  {
   "cell_type": "code",
   "execution_count": null,
   "id": "883e9849",
   "metadata": {},
   "outputs": [],
   "source": [
    "bill=eval(input(\"Enter a bill amount :\"))\n",
    "tip=eval(input(\"Enter a tip amount :\"))\n",
    "total_bill=bill+tip\n",
    "print(\"your total bill is {}\".format(total_bill))\n"
   ]
  },
  {
   "cell_type": "code",
   "execution_count": 46,
   "id": "e4e558da",
   "metadata": {},
   "outputs": [],
   "source": [
    "def bill_amount():\n",
    "    bill=eval(input(\"Enter a bill amount :\"))\n",
    "    tip=eval(input(\"Enter a tip amount :\"))\n",
    "    total_bill=bill+tip\n",
    "    print(\"your total bill is {}\".format(total_bill))"
   ]
  },
  {
   "cell_type": "code",
   "execution_count": 47,
   "id": "a2bde8a9",
   "metadata": {},
   "outputs": [
    {
     "name": "stdout",
     "output_type": "stream",
     "text": [
      "Enter a bill amount :67\n",
      "Enter a tip amount :33\n",
      "your total bill is 100\n"
     ]
    }
   ],
   "source": [
    "bill_amount()"
   ]
  },
  {
   "cell_type": "code",
   "execution_count": 52,
   "id": "74b5b71d",
   "metadata": {},
   "outputs": [
    {
     "name": "stdout",
     "output_type": "stream",
     "text": [
      "42 it is a Even number\n"
     ]
    }
   ],
   "source": [
    "import random\n",
    "a=random.randint(0,100)\n",
    "if a%2==0:\n",
    "    print(\"{} it is a Even number\".format(a))\n",
    "else:\n",
    "    print(\"{} it is a Odd number\".format(a))"
   ]
  },
  {
   "cell_type": "code",
   "execution_count": 54,
   "id": "73a09789",
   "metadata": {},
   "outputs": [],
   "source": [
    "def random_():\n",
    "    try:\n",
    "        a=random.randint(0,100)\n",
    "        if a%2==0:\n",
    "            print(\"{} it is a Even number\".format(a))\n",
    "        else:\n",
    "            print(\"{} it is a Odd number\".format(a))\n",
    "    except Exception as e:\n",
    "        print(e)"
   ]
  },
  {
   "cell_type": "code",
   "execution_count": 61,
   "id": "d6fb75ae",
   "metadata": {},
   "outputs": [
    {
     "name": "stdout",
     "output_type": "stream",
     "text": [
      "30 it is a Even number\n"
     ]
    }
   ],
   "source": [
    "random_()"
   ]
  },
  {
   "cell_type": "code",
   "execution_count": null,
   "id": "aa6e9875",
   "metadata": {},
   "outputs": [],
   "source": [
    "def addition():\n",
    "    n1=20\n",
    "    n2=30\n",
    "    print(\"addition\",n1+n2)\n",
    "print(\"mul funtion start\")\n",
    "def multiplication():\n",
    "    n1=20\n",
    "    n2=30\n",
    "    print(\"multiplication\",n1+n2)\n",
    "print(\"substraction funtion start\")\n",
    "def substraction():\n",
    "    n1=20\n",
    "    n2=30\n",
    "    print(\"substraction\",n1+n2)\n",
    "    \n",
    "print(\"anything remains\")\n",
    "print(\"no\")\n",
    "print(\"then call the funtion\")\n",
    "\n",
    "substraction()\n",
    "multiplication()\n",
    "addition()"
   ]
  },
  {
   "cell_type": "markdown",
   "id": "a749b43f",
   "metadata": {},
   "source": [
    "# with Aruguments\n",
    " -"
   ]
  },
  {
   "cell_type": "code",
   "execution_count": 4,
   "id": "480c5a7b",
   "metadata": {},
   "outputs": [
    {
     "name": "stdout",
     "output_type": "stream",
     "text": [
      "the addion of 200, and 23 is 223\n"
     ]
    }
   ],
   "source": [
    "def addition(n1,n2):\n",
    "    add=n1+n2\n",
    "    print(\"the addion of {}, and {} is {}\".format(n1,n2,add))\n",
    "addition(200,\n",
    "         23)"
   ]
  },
  {
   "cell_type": "code",
   "execution_count": 5,
   "id": "38080330",
   "metadata": {},
   "outputs": [
    {
     "ename": "TypeError",
     "evalue": "addition() takes 0 positional arguments but 2 were given",
     "output_type": "error",
     "traceback": [
      "\u001b[1;31m---------------------------------------------------------------------------\u001b[0m",
      "\u001b[1;31mTypeError\u001b[0m                                 Traceback (most recent call last)",
      "Cell \u001b[1;32mIn[5], line 4\u001b[0m\n\u001b[0;32m      2\u001b[0m     add\u001b[38;5;241m=\u001b[39mn1\u001b[38;5;241m+\u001b[39mn2\n\u001b[0;32m      3\u001b[0m     \u001b[38;5;28mprint\u001b[39m(\u001b[38;5;124m\"\u001b[39m\u001b[38;5;124mthe addion of \u001b[39m\u001b[38;5;132;01m{}\u001b[39;00m\u001b[38;5;124m, and \u001b[39m\u001b[38;5;132;01m{}\u001b[39;00m\u001b[38;5;124m is \u001b[39m\u001b[38;5;132;01m{}\u001b[39;00m\u001b[38;5;124m\"\u001b[39m\u001b[38;5;241m.\u001b[39mformat(n1,n2,add))\n\u001b[1;32m----> 4\u001b[0m addition(\u001b[38;5;241m200\u001b[39m,\u001b[38;5;241m23\u001b[39m)\n",
      "\u001b[1;31mTypeError\u001b[0m: addition() takes 0 positional arguments but 2 were given"
     ]
    }
   ],
   "source": [
    "def addition():\n",
    "    add=n1+n2\n",
    "    print(\"the addion of {}, and {} is {}\".format(n1,n2,add))\n",
    "addition(200,23)"
   ]
  },
  {
   "cell_type": "code",
   "execution_count": 6,
   "id": "9e81a0b2",
   "metadata": {},
   "outputs": [
    {
     "ename": "NameError",
     "evalue": "name 'n111' is not defined",
     "output_type": "error",
     "traceback": [
      "\u001b[1;31m---------------------------------------------------------------------------\u001b[0m",
      "\u001b[1;31mNameError\u001b[0m                                 Traceback (most recent call last)",
      "Cell \u001b[1;32mIn[6], line 4\u001b[0m\n\u001b[0;32m      2\u001b[0m     add\u001b[38;5;241m=\u001b[39mn111\u001b[38;5;241m+\u001b[39mn2222\n\u001b[0;32m      3\u001b[0m     \u001b[38;5;28mprint\u001b[39m(\u001b[38;5;124m\"\u001b[39m\u001b[38;5;124mthe addion of \u001b[39m\u001b[38;5;132;01m{}\u001b[39;00m\u001b[38;5;124m, and \u001b[39m\u001b[38;5;132;01m{}\u001b[39;00m\u001b[38;5;124m is \u001b[39m\u001b[38;5;132;01m{}\u001b[39;00m\u001b[38;5;124m\"\u001b[39m\u001b[38;5;241m.\u001b[39mformat(n1,n2,add))\n\u001b[1;32m----> 4\u001b[0m addition()\n",
      "Cell \u001b[1;32mIn[6], line 2\u001b[0m, in \u001b[0;36maddition\u001b[1;34m()\u001b[0m\n\u001b[0;32m      1\u001b[0m \u001b[38;5;28;01mdef\u001b[39;00m \u001b[38;5;21maddition\u001b[39m():\n\u001b[1;32m----> 2\u001b[0m     add\u001b[38;5;241m=\u001b[39mn111\u001b[38;5;241m+\u001b[39mn2222\n\u001b[0;32m      3\u001b[0m     \u001b[38;5;28mprint\u001b[39m(\u001b[38;5;124m\"\u001b[39m\u001b[38;5;124mthe addion of \u001b[39m\u001b[38;5;132;01m{}\u001b[39;00m\u001b[38;5;124m, and \u001b[39m\u001b[38;5;132;01m{}\u001b[39;00m\u001b[38;5;124m is \u001b[39m\u001b[38;5;132;01m{}\u001b[39;00m\u001b[38;5;124m\"\u001b[39m\u001b[38;5;241m.\u001b[39mformat(n1,n2,add))\n",
      "\u001b[1;31mNameError\u001b[0m: name 'n111' is not defined"
     ]
    }
   ],
   "source": [
    "def addition():\n",
    "    add=n111+n2222\n",
    "    print(\"the addion of {}, and {} is {}\".format(n1,n2,add))\n",
    "addition()"
   ]
  },
  {
   "cell_type": "code",
   "execution_count": 9,
   "id": "5b53e4ff",
   "metadata": {},
   "outputs": [
    {
     "name": "stdout",
     "output_type": "stream",
     "text": [
      "a1 20\n",
      "a2 30\n",
      "a3 45\n",
      "The average of 20,30 and 45 is 31.67\n"
     ]
    }
   ],
   "source": [
    "def avg(a1,a2,a3):\n",
    "    avg=round((a1+a2+a3)/3,2)\n",
    "    print(\"a1\",a1)\n",
    "    print(\"a2\",a2)\n",
    "    print(\"a3\",a3)\n",
    "    print(\"The average of {},{} and {} is {}\".format(a1,a2,a3,avg))\n",
    "avg(20,30,45)"
   ]
  },
  {
   "cell_type": "code",
   "execution_count": 11,
   "id": "364f2b30",
   "metadata": {},
   "outputs": [
    {
     "name": "stdout",
     "output_type": "stream",
     "text": [
      "Enter the amount to be withdrawn in hundreds: 5400\n",
      "Number of 100s: 5400\n",
      "Number of 50s: 10800\n",
      "Number of 10s: 0\n"
     ]
    }
   ],
   "source": [
    "# Input the amount to be withdrawn in hundreds\n",
    "amount_in_hundreds = int(input(\"Enter the amount to be withdrawn in hundreds: \"))\n",
    "\n",
    "# Calculate the number of 100s, 50s, and 10s\n",
    "num_100s = amount_in_hundreds/100\n",
    "num_50s = (amount_in_hundreds * 100) // 50\n",
    "num_10s = ((amount_in_hundreds * 100) % 50) // 10\n",
    "\n",
    "# Print the result\n",
    "print(\"Number of 100s:\", num_100s)\n",
    "print(\"Number of 50s:\", num_50s)\n",
    "print(\"Number of 10s:\", num_10s)\n"
   ]
  },
  {
   "cell_type": "code",
   "execution_count": null,
   "id": "4119faf0",
   "metadata": {},
   "outputs": [],
   "source": [
    "# Input the amount to be withdrawn in hundreds\n",
    "amount_in_hundreds = int(input(\"Enter the amount to be withdrawn in hundreds: \"))\n",
    "\n",
    "# Calculate the number of 100s, 50s, and 10s\n",
    "num_100s = amount_in_hundreds\n",
    "amount_remaining = amount_in_hundreds * 100\n",
    "\n",
    "if amount_remaining >= 50:\n",
    "    num_50s = amount_remaining // 50\n",
    "    amount_remaining %= 50\n",
    "else:\n",
    "    num_50s = 0\n",
    "\n",
    "num_10s = amount_remaining // 10\n",
    "\n",
    "# Print the result\n",
    "print(\"Number of 100s:\", num_100s)\n",
    "print(\"Number of 50s:\", num_50s)\n",
    "print(\"Number of 10s:\", num_10s)\n"
   ]
  }
 ],
 "metadata": {
  "kernelspec": {
   "display_name": "Python 3 (ipykernel)",
   "language": "python",
   "name": "python3"
  },
  "language_info": {
   "codemirror_mode": {
    "name": "ipython",
    "version": 3
   },
   "file_extension": ".py",
   "mimetype": "text/x-python",
   "name": "python",
   "nbconvert_exporter": "python",
   "pygments_lexer": "ipython3",
   "version": "3.11.5"
  }
 },
 "nbformat": 4,
 "nbformat_minor": 5
}
