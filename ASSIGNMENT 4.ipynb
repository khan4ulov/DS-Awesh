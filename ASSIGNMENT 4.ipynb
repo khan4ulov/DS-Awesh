{
 "cells": [
  {
   "cell_type": "markdown",
   "id": "b6adefc3",
   "metadata": {},
   "source": [
    "## Problem - 1\n",
    "***Suppose that a Firm pays its employee at the rate of*** $12 ***per hour. An employee has worked for 37 hours. How much should the firm pay the employee? (Do normal way directly takes the input)***"
   ]
  },
  {
   "cell_type": "code",
   "execution_count": 7,
   "id": "3fff274d",
   "metadata": {},
   "outputs": [
    {
     "name": "stdout",
     "output_type": "stream",
     "text": [
      "The firm should pay the employee: $444\n"
     ]
    }
   ],
   "source": [
    "hour_pay=12    #12$ per Hour\n",
    "work_hour=37   #Toal 37 hour of work\n",
    "print(\"The firm should pay the employee: ${}\".format(hour_pay*work_hour))"
   ]
  },
  {
   "cell_type": "markdown",
   "id": "2eea200b",
   "metadata": {},
   "source": [
    "## Problem 2\n",
    "**How about prompting the user for the number of hours and using the input value to compute thetotal pay? (Above problem use eval concept and sep concept)**"
   ]
  },
  {
   "cell_type": "code",
   "execution_count": 8,
   "id": "566ca07c",
   "metadata": {},
   "outputs": [
    {
     "name": "stdout",
     "output_type": "stream",
     "text": [
      "Enter a number of hour worked :35\n",
      "The firm should pay the employee : $420\n"
     ]
    }
   ],
   "source": [
    "work_hour1=eval(input(\"Enter a number of hour worked :\"))    #User will enter a work hour\n",
    "hour_pay1=12                                               #!2$ per hour\n",
    "total_pay=work_hour1*hour_pay1\n",
    "print(\"The firm should pay the employee : \",total_pay, sep=\"$\")\n"
   ]
  },
  {
   "cell_type": "markdown",
   "id": "e9b72c1d",
   "metadata": {},
   "source": [
    "## Problem-3\n",
    "***For a certain academic subject the students are evaluated based on five tests***  \n",
    "- Quiz 1 (20 marks - 10% Weight),  \n",
    "- Quiz 2 (20 marks - 10% Weight),  \n",
    "- Class test (50 marks - 25% Weight),  \n",
    "- Assignment (100 marks - 25% weight)  \n",
    "- Project (200 marks - 30% weight).  \n",
    "#### Design a program that will prompt the user for marks for each of the tests and calculate the overall marks (out of 100)"
   ]
  },
  {
   "cell_type": "code",
   "execution_count": 9,
   "id": "05cc1c4b",
   "metadata": {},
   "outputs": [
    {
     "name": "stdout",
     "output_type": "stream",
     "text": [
      "Enter marks for Quiz 1 (out of 20):18\n",
      "Enter marks for Quiz 2 (out of 20):15\n",
      "Enter marks for Quiz 1 (out of 50):43\n",
      "Enter marks for Quiz 4 (out of 100):89\n",
      "Enter marks for Quiz 1 (out of 200):189\n",
      "Total mark obtained by student is : 93.0\n"
     ]
    }
   ],
   "source": [
    "try:\n",
    "    quiz1=eval(input(\"Enter marks for Quiz 1 (out of 20):\"))\n",
    "    quiz2=eval(input(\"Enter marks for Quiz 2 (out of 20):\"))\n",
    "    quiz3=eval(input(\"Enter marks for Quiz 1 (out of 50):\"))\n",
    "    quiz4=eval(input(\"Enter marks for Quiz 4 (out of 100):\"))\n",
    "    quiz5=eval(input(\"Enter marks for Quiz 1 (out of 200):\"))\n",
    "    if 0<quiz1<=20 and 0<quiz2<=20 and 0<=quiz3<=50 and 0<=quiz4<=100 and 0<=quiz5<=200: \n",
    "        quiz1_weight = quiz1*10/100\n",
    "        quiz2_weight = quiz2*10/100\n",
    "        quiz3_weight = quiz3*25/100\n",
    "        quiz4_weight = quiz4*25/100\n",
    "        quiz5_weight = quiz5*30/100\n",
    "        total_mark_obtain= round(quiz1_weight + quiz2_weight +quiz3_weight +quiz4_weight+quiz5_weight,2)\n",
    "        print(\"Total mark obtained by student is :\",total_mark_obtain)\n",
    "    else:\n",
    "        print(\"Please Enter Correct Marks\")\n",
    "except Exception as e:\n",
    "    print(e)\n"
   ]
  },
  {
   "cell_type": "markdown",
   "id": "f1c4240b",
   "metadata": {},
   "source": [
    "## Problem-4\n",
    "**If a five-digit number is input through the keyboard, write a program to calculate the sum of its\n",
    "digits.**"
   ]
  },
  {
   "cell_type": "code",
   "execution_count": 10,
   "id": "3cec1dc9",
   "metadata": {},
   "outputs": [
    {
     "name": "stdout",
     "output_type": "stream",
     "text": [
      "enter the five digit number :23567\n",
      "The Sum of of all numbers is  23\n"
     ]
    }
   ],
   "source": [
    "try:\n",
    "    n=eval(input(\"enter the five digit number :\"))   #Five digit number\n",
    "    if 10000<=n<=99999:                              #No must be in five digit\n",
    "        ln=n%10        #Last digit\n",
    "        n1=(n//10)%10  #2nd last digit\n",
    "        n2=(n//100)%10\n",
    "        n3=(n//1000)%10\n",
    "        n4=n//10000\n",
    "        add=ln+n1+n2+n3+n4\n",
    "        print(\"The Sum of of all numbers is \",add)\n",
    "    else:\n",
    "        print(\"Enter Five digit number\")\n",
    "except Exception as e:\n",
    "    print(e)"
   ]
  },
  {
   "cell_type": "markdown",
   "id": "93689487",
   "metadata": {},
   "source": [
    "## Problem-5\n",
    "***If a five-digit number is input through the keyboard, write a program to print a new number by\n",
    "adding one to each of its digits. For example if the number that is input is 12371 then the output\n",
    "should be displayed as 23482***"
   ]
  },
  {
   "cell_type": "code",
   "execution_count": 12,
   "id": "887df90b",
   "metadata": {},
   "outputs": [
    {
     "name": "stdout",
     "output_type": "stream",
     "text": [
      "enter the five digit number :12371\n",
      "The new number is 23482\n"
     ]
    }
   ],
   "source": [
    "try:\n",
    "    n=eval(input(\"enter the five digit number :\"))   #Five digit number\n",
    "    if 10000<=n<=99999:                              #No must be in five digit\n",
    "        ln=n%10        #Last digit\n",
    "        n1=(n//10)%10  #2nd last digit\n",
    "        n2=(n//100)%10 #3rd Digit\n",
    "        n3=(n//1000)%10 #2nd Digit\n",
    "        n4=n//10000 #First Digit\n",
    "        new_number= \"The new number is {}{}{}{}{}\".format(n4+1,n3+1,n2+1,n1+1,ln+1)\n",
    "        print(new_number)\n",
    "    else:\n",
    "        print(\"Enter Five digit number \")\n",
    "except Exception as e:\n",
    "    print(e)"
   ]
  },
  {
   "cell_type": "markdown",
   "id": "3f2ff4fc",
   "metadata": {},
   "source": [
    "## Problem-6\n",
    "***For a certain academic subject the students are evaluated based on five tests***  \n",
    "- Quiz 1 (20 marks - 10% Weight),  \n",
    "- Quiz 2 (20 marks - 10% Weight),  \n",
    "- Class test (50 marks - 25% Weight),  \n",
    "- Assignment (100 marks - 25% weight)  \n",
    "- Project (200 marks - 30% weight).  \n",
    "#### Design a program that will prompt the user for marks for each of the tests and calculate the overall marks (out of 100)\n",
    "\n",
    "#### Add an extension to the problem to display grades:\n",
    "Display the grades of students using the following table:\n",
    "Score Grade\n",
    ">= 60 First Class  \n",
    ">= 40 Second Class  \n",
    "< 40 Fail  "
   ]
  },
  {
   "cell_type": "code",
   "execution_count": 14,
   "id": "3276349a",
   "metadata": {},
   "outputs": [
    {
     "name": "stdout",
     "output_type": "stream",
     "text": [
      "Enter marks for Quiz 1 (out of 20):18\n",
      "Enter marks for Quiz 2 (out of 20):12\n",
      "Enter marks for Quiz 1 (out of 50):34\n",
      "Enter marks for Quiz 4 (out of 100):76\n",
      "Enter marks for Quiz 1 (out of 200):176\n",
      "Total mark obtained by student is : 83.3\n",
      "You got a first class\n"
     ]
    }
   ],
   "source": [
    "try:\n",
    "    quiz1=eval(input(\"Enter marks for Quiz 1 (out of 20):\"))\n",
    "    quiz2=eval(input(\"Enter marks for Quiz 2 (out of 20):\"))\n",
    "    quiz3=eval(input(\"Enter marks for Quiz 1 (out of 50):\"))\n",
    "    quiz4=eval(input(\"Enter marks for Quiz 4 (out of 100):\"))\n",
    "    quiz5=eval(input(\"Enter marks for Quiz 1 (out of 200):\"))\n",
    "    if 0<quiz1<=20 and 0<quiz2<=20 and 0<=quiz3<=50 and 0<=quiz4<=100 and 0<=quiz5<=200: \n",
    "        quiz1_weight = quiz1*10/100\n",
    "        quiz2_weight = quiz2*10/100\n",
    "        quiz3_weight = quiz3*25/100\n",
    "        quiz4_weight = quiz4*25/100\n",
    "        quiz5_weight = quiz5*30/100\n",
    "        total_mark_obtain= round((quiz1_weight + quiz2_weight +quiz3_weight +quiz4_weight+quiz5_weight),2)\n",
    "        print(\"Total mark obtained by student is :\",total_mark_obtain)\n",
    "        if 60<=total_mark_obtain:\n",
    "            print(\"You got a first class\")\n",
    "        elif 40<=total_mark_obtain:\n",
    "            print(\"You got a second Class\")\n",
    "        else:\n",
    "            print(\"You are Fail\")\n",
    "    else:\n",
    "        print(\"Please Enter Correct Marks\")\n",
    "        \n",
    "except Exception as e:\n",
    "    print(e)\n"
   ]
  },
  {
   "cell_type": "markdown",
   "id": "37e2f010",
   "metadata": {},
   "source": [
    "## Problem-8\n",
    "**try & except**  \n",
    "Rewrite the pay program (refer problem 2) using try and expect so that the program handles nonnumeric input gracefully by printing a message and exiting the program. The following shows twoexecutions of the program:  \n",
    "- Enter hours: 20  \n",
    "- Enter rate: nine  \n",
    "- Error, please enter numeric input  "
   ]
  },
  {
   "cell_type": "code",
   "execution_count": 15,
   "id": "399bd096",
   "metadata": {},
   "outputs": [
    {
     "name": "stdout",
     "output_type": "stream",
     "text": [
      "Enter a number of hour worked :34\n",
      "Enter a per hour pay :18\n",
      "The firm should pay the employee: $612\n"
     ]
    }
   ],
   "source": [
    "try:\n",
    "    num_hour=eval(input(\"Enter a number of hour worked :\"))  \n",
    "    pay_hour=eval(input(\"Enter a per hour pay :\"))\n",
    "    print(\"The firm should pay the employee: ${}\".format(num_hour*pay_hour))\n",
    "except:\n",
    "    print(\"Error, Please enter a numric input\")"
   ]
  },
  {
   "cell_type": "markdown",
   "id": "d1d600c5",
   "metadata": {},
   "source": [
    "## Problem-9(Use conditional statements)\n",
    "Write a program that asks the user to enter a length in centimeters. If the user enters a negativelength, the program should tell the user that the entry is invalid. Otherwise, the program shouldconvert the length to inches and print out the result. There are 2.54 centimeters in an inch."
   ]
  },
  {
   "cell_type": "code",
   "execution_count": 19,
   "id": "53d84c30",
   "metadata": {},
   "outputs": [
    {
     "name": "stdout",
     "output_type": "stream",
     "text": [
      "Enter a length in cm :2.54\n",
      "There are 2.54 centimeter in an 1.0 in an inch\n"
     ]
    }
   ],
   "source": [
    "len_cm=eval(input(\"Enter a length in cm :\"))\n",
    "if 0>=len_cm:\n",
    "    print(\"the entry is invalid\")\n",
    "else:\n",
    "    len_inch=round(len_cm/2.54,2)\n",
    "    print(\"There are {} centimeter in an {} inch\".format(len_cm,len_inch))"
   ]
  },
  {
   "cell_type": "markdown",
   "id": "64b4d5f5",
   "metadata": {},
   "source": [
    "## Problem-10(Use conditional statements)\n",
    "Ask the user for a temperature. Then ask them what units, Celsius or Fahrenheit, the temperatureisin. Your program should convert the temperature to the other unit. The conversions are F = 9 5 C +32 and C = 5 9 (F − 32)."
   ]
  },
  {
   "cell_type": "code",
   "execution_count": 20,
   "id": "2c30fb69",
   "metadata": {},
   "outputs": [
    {
     "name": "stdout",
     "output_type": "stream",
     "text": [
      "enter a temprature :24\n",
      "enter a unit Celsius or Fahrenheit :celsius\n",
      "Temprature in Celsius is 24 and in Fahrenheit 100.8\n"
     ]
    }
   ],
   "source": [
    "temp=eval(input(\"enter a temprature :\"))\n",
    "unit=input(\"enter a unit Celsius or Fahrenheit :\")\n",
    "if 'Celsius'==unit or 'celsius'==unit:\n",
    "    F=round((temp+32)*9/5,2)\n",
    "    print(\"Temprature in Celsius is {} and in Fahrenheit {}\".format(temp,F))\n",
    "elif 'Fahrenheit'==unit or 'fahrenheit'==unit:\n",
    "    C=round((temp-32)*5/9,2)\n",
    "    print(\"Temprature in Celsius is {} and in Fahrenheit {}\".format(temp,F))\n",
    "else:\n",
    "    print(\"Enter correct unit please \")"
   ]
  },
  {
   "cell_type": "markdown",
   "id": "477cb86e",
   "metadata": {},
   "source": [
    "## Problem-11(Use conditional statements)  \n",
    "**Ask the user to enter a temperature in Celsius. The program should print a message based on thetemperature:**\n",
    "- If the temperature is less than -273.15, print that the temperature is invalid because it is below absolute zero.  \n",
    "- If it is exactly -273.15, print that the temperature is absolute 0.  \n",
    "- If the temperature is between -273.15 and 0, print that the temperature is below freezing.  \n",
    "- If it is 0, print that the temperature is at the freezing point.  \n",
    "- If it is between 0 and 100, print that the temperature is in the normal range.  \n",
    "- If it is 100, print that the temperature is at the boiling point.  \n",
    "- If it is above 100, print that the temperature is above the boiling point."
   ]
  },
  {
   "cell_type": "code",
   "execution_count": 21,
   "id": "043e3649",
   "metadata": {},
   "outputs": [
    {
     "name": "stdout",
     "output_type": "stream",
     "text": [
      "Enter a temprature in celsius 145\n",
      "temperature is above the boiling point\n"
     ]
    }
   ],
   "source": [
    "temprature=eval(input(\"Enter a temprature in celsius \"))\n",
    "if temprature<-273.15:\n",
    "    print(\"temperature is invalid because it is below absolute zero.\")\n",
    "elif temprature==-273.15:\n",
    "    print(\"Temprature is absolute zero \")\n",
    "elif temprature<0:\n",
    "    print(\"temperature is at the below freezing\")\n",
    "elif temprature==0:\n",
    "    print(\"temperature is at the freezing point\")\n",
    "elif temprature<100:\n",
    "    print(\"temperature is in the normal range\")\n",
    "elif temprature==100:\n",
    "    print(\"temperature is at the boiling point.\")\n",
    "else:\n",
    "    print(\"temperature is above the boiling point\")"
   ]
  },
  {
   "cell_type": "markdown",
   "id": "cbf31b99",
   "metadata": {},
   "source": [
    "## Problem-12(Use conditional statements)\n",
    "\n",
    "**Write a program that asks the user how many credits they have taken. If they have taken 23 or less,  \n",
    "print that the student is a freshman. If they have taken between 24 and 53, print that they are asophomore.  \n",
    "The range for juniors is 54 to 83, and for seniors it is 84 and over.**  "
   ]
  },
  {
   "cell_type": "code",
   "execution_count": 22,
   "id": "d8398d4c",
   "metadata": {},
   "outputs": [
    {
     "name": "stdout",
     "output_type": "stream",
     "text": [
      "enter a number of credits you have taken24\n",
      "You are asophomore \n"
     ]
    }
   ],
   "source": [
    "credit_taken=eval(input(\"enter a number of credits you have taken\"))\n",
    "if credit_taken<=23:\n",
    "    print(\"Student is freshman\")\n",
    "elif credit_taken<=53:\n",
    "    print(\"You are asophomore \")\n",
    "elif credit_taken<=83:\n",
    "    print(\"You are juniours\")\n",
    "else:\n",
    "    print(\"You are seniors\")"
   ]
  },
  {
   "cell_type": "markdown",
   "id": "66e1929c",
   "metadata": {},
   "source": [
    "## Problem-13(Use conditional statements)\n",
    "**Generate a random number between 1 and 10. Ask the user to guess the number and print a  \n",
    "message based on whether they get it right or not.**"
   ]
  },
  {
   "cell_type": "code",
   "execution_count": 28,
   "id": "ec7179a0",
   "metadata": {},
   "outputs": [
    {
     "name": "stdout",
     "output_type": "stream",
     "text": [
      "enter the number beween 1 to 10 :1\n",
      "You Won\n"
     ]
    }
   ],
   "source": [
    "import random\n",
    "a=random.randint(1,10)\n",
    "n=eval(input(\"enter the number beween 1 to 10 :\"))\n",
    "if n==a:\n",
    "    print(\"You Won\")\n",
    "else:\n",
    "    print(\"You lost\")"
   ]
  },
  {
   "cell_type": "markdown",
   "id": "7b3674e1",
   "metadata": {},
   "source": [
    "#### Problem-14(Use conditional statements)\n",
    "**A store charges 12 Dollor per item if you buy less than 10 items.  \n",
    "If you buy between 10 and 99 items, the cost is 10 Dollor per item.  \n",
    "If you buy 100 or more items, the cost is 7 Dollor per item.  \n",
    "Write a program that asks the user how many items they are buying and prints the total cost**"
   ]
  },
  {
   "cell_type": "code",
   "execution_count": 29,
   "id": "f94b0e1d",
   "metadata": {},
   "outputs": [
    {
     "name": "stdout",
     "output_type": "stream",
     "text": [
      "Enter a number how many item you want to buy 56\n",
      "The total cost for 56 items is $560\n"
     ]
    }
   ],
   "source": [
    "item=eval(input(\"Enter a number how many item you want to buy \"))\n",
    "if item<10:\n",
    "    price=12*item\n",
    "elif item<=99:\n",
    "    price=10*item\n",
    "else:\n",
    "    price=7*item\n",
    "print(\"The total cost for {} items is ${}\".format(item,price))"
   ]
  },
  {
   "cell_type": "markdown",
   "id": "2e1d672a",
   "metadata": {},
   "source": [
    "## Problem-15(Use conditional statements)\n",
    "**Write a program that asks the user for two numbers and prints  \n",
    "Close if the numbers are within .001of each other and Not close otherwise.**"
   ]
  },
  {
   "cell_type": "code",
   "execution_count": 30,
   "id": "869bed8e",
   "metadata": {},
   "outputs": [
    {
     "name": "stdout",
     "output_type": "stream",
     "text": [
      "Enter the first number: 23\n",
      "Enter the second number: 24\n",
      "Not Close\n"
     ]
    }
   ],
   "source": [
    "num1 = eval(input(\"Enter the first number: \"))\n",
    "num2 = eval(input(\"Enter the second number: \"))\n",
    "x=0.001\n",
    "if abs(num1-num2)<x:\n",
    "    print(\" Close\")\n",
    "else:\n",
    "    print(\"Not Close\")"
   ]
  },
  {
   "cell_type": "markdown",
   "id": "d1688f7a",
   "metadata": {},
   "source": [
    "## Problem-16(Use conditional statements)\n",
    "**A year is a leap year if it is divisible by 4, except that years divisible by 100 are not leap years  \n",
    "unlessthey are also divisible by 400. Write a program that asks the user for a year and prints  \n",
    "out whether it is a leap year or not.**"
   ]
  },
  {
   "cell_type": "code",
   "execution_count": 63,
   "id": "68b546f6",
   "metadata": {},
   "outputs": [
    {
     "name": "stdout",
     "output_type": "stream",
     "text": [
      "Enter a year 2024\n",
      "2024 is a leap year\n"
     ]
    }
   ],
   "source": [
    "year=int(input(\"Enter a year \"))\n",
    "if year%4==0 and year%100!=0 or year%400==0:\n",
    "    print(year, \"is a leap year\")\n",
    "else:\n",
    "    print(year,\"is not a leap year\")"
   ]
  },
  {
   "cell_type": "markdown",
   "id": "df20c8e8",
   "metadata": {},
   "source": [
    "## Problem-17(Use conditional statements)\n",
    "**Write a program that asks the user to enter a number and prints out all the divisors of that number.**  \n",
    "[Hint: the % operator is used to tell if a number is divisible by something"
   ]
  },
  {
   "cell_type": "code",
   "execution_count": 32,
   "id": "8d00470d",
   "metadata": {},
   "outputs": [
    {
     "name": "stdout",
     "output_type": "stream",
     "text": [
      "Enter a number :10\n",
      "the divisor of 10, betwween 1 to 10 are : 1 2 5 10 Only between 1 to 10"
     ]
    }
   ],
   "source": [
    "#Without using loop\n",
    "num=eval(input(\"Enter a number :\"))\n",
    "\n",
    "if num%1==0: print(\"the divisor of {}, betwween 1 to 10 are :\".format(num),1,end=\" \")\n",
    "\n",
    "if num%2==0: print(2,end=\" \")\n",
    "    \n",
    "if num%3==0: print(3,end=\" \")\n",
    "    \n",
    "if num%4==0: print(4,end=\" \")\n",
    "\n",
    "if num%5==0: print(5,end=\" \")\n",
    "\n",
    "if num%6==0: print(6,end=\" \")\n",
    "\n",
    "if num%7==0: print(7,end=\" \")\n",
    "    \n",
    "if num%8==0: print(8,end=\" \")\n",
    "    \n",
    "if num%9==0: print(9,end=\" \")\n",
    "    \n",
    "if num%10==0: print(10,end=\" Only between 1 to 10\")\n"
   ]
  },
  {
   "cell_type": "code",
   "execution_count": 43,
   "id": "37ce937b",
   "metadata": {},
   "outputs": [
    {
     "name": "stdout",
     "output_type": "stream",
     "text": [
      "Enter a number :39\n",
      "The Number 39 is divisible by 1\n",
      "The Number 39 is divisible by 3\n",
      "The Number 39 is divisible by 13\n",
      "The Number 39 is divisible by 39\n"
     ]
    }
   ],
   "source": [
    "#With using loop\n",
    "\n",
    "N=eval(input(\"Enter a number :\"))\n",
    "for i in range(1,N+1):\n",
    "    if N%i==0:\n",
    "        print(\"The Number {} is divisible by {}\".format(N,i))"
   ]
  },
  {
   "cell_type": "markdown",
   "id": "2483dd78",
   "metadata": {},
   "source": [
    "## Problem-18(Use conditional statements)\n",
    "**Write a program that asks the user for an hour between 1 and 12, asks them to enter am or pm,  \n",
    "and asks them how many hours into the future they want to go.  \n",
    "Print out what the hour will be that many hours into the future, printing am or pm as appropriate.  \n",
    "An example is shown below.**\n",
    " - Enter hour: 8  \n",
    " - am (1) or pm (2)? 1\n",
    " - How many hours ahead? 5\n",
    " - New hour: 1 pm"
   ]
  },
  {
   "cell_type": "code",
   "execution_count": 61,
   "id": "8905d940",
   "metadata": {},
   "outputs": [
    {
     "name": "stdout",
     "output_type": "stream",
     "text": [
      "Enter an hour between 1 to 12 : 10\n",
      "Enter 1 for AM or 2 for PM: 1\n",
      "Enter the number of hours you want to go ahead: 12\n",
      "New hour is 10 PM\n"
     ]
    }
   ],
   "source": [
    "try:\n",
    "    hour = int(input(\"Enter an hour between 1 to 12 : \"))\n",
    "    if 0 < hour <= 12:\n",
    "        am_pm = int(input(\"Enter 1 for AM or 2 for PM: \"))\n",
    "        hour_ahead = int(input(\"Enter the number of hours you want to go ahead: \"))\n",
    "\n",
    "        new_hour = (hour + hour_ahead) % 12\n",
    "\n",
    "        if new_hour == 0:\n",
    "            new_hour = 12     #AM or PM\n",
    "        \n",
    "        if hour_ahead%24==0:  #IF ahead hour is mulitply of 24hour than dont change AM to PM\n",
    "            am_pm=am_pm\n",
    "       \n",
    "        elif (hour + hour_ahead) >=12:      #If ahead of more than 12 hour and not in multiply of 24 than change \n",
    "            am_pm = 3 - am_pm  # Switch from AM to PM if exceed \n",
    "\n",
    "        if am_pm == 1:          #If Am is given\n",
    "            print(f\"New hour is {new_hour} AM\")    \n",
    "        elif am_pm == 2:         #If PM is given\n",
    "            print(f\"New hour is {new_hour} PM\")\n",
    "        else:\n",
    "            print(\"Please enter 1 for AM or 2 for PM.\")  \n",
    "    else:\n",
    "        print(\"Enter a valid hour between 1 and 12.\")   \n",
    "except Exception as e:\n",
    "    print(e)"
   ]
  },
  {
   "cell_type": "code",
   "execution_count": null,
   "id": "674de61f",
   "metadata": {},
   "outputs": [],
   "source": []
  }
 ],
 "metadata": {
  "kernelspec": {
   "display_name": "Python 3 (ipykernel)",
   "language": "python",
   "name": "python3"
  },
  "language_info": {
   "codemirror_mode": {
    "name": "ipython",
    "version": 3
   },
   "file_extension": ".py",
   "mimetype": "text/x-python",
   "name": "python",
   "nbconvert_exporter": "python",
   "pygments_lexer": "ipython3",
   "version": "3.11.5"
  }
 },
 "nbformat": 4,
 "nbformat_minor": 5
}
