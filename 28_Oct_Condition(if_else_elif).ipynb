{
 "cells": [
  {
   "cell_type": "markdown",
   "id": "859d285d",
   "metadata": {},
   "source": [
    "# if  \n",
    "# else  \n",
    "## one will run on based on condition  \n"
   ]
  },
  {
   "cell_type": "code",
   "execution_count": null,
   "id": "86af312d",
   "metadata": {},
   "outputs": [],
   "source": [
    "name = 'python'\n",
    "if <condition>:\n",
    "    if above condition is true then code will run in if\n",
    "    and otherwise else will run the code\n"
   ]
  },
  {
   "cell_type": "code",
   "execution_count": 5,
   "id": "25927d5b",
   "metadata": {},
   "outputs": [
    {
     "name": "stdout",
     "output_type": "stream",
     "text": [
      "won\n"
     ]
    }
   ],
   "source": [
    "name = \"python\"\n",
    "if name == 'python':\n",
    "    print(\"won\")\n",
    "else:\n",
    "    print(\"You lost\")\n"
   ]
  },
  {
   "cell_type": "code",
   "execution_count": 13,
   "id": "4b7ae014",
   "metadata": {},
   "outputs": [
    {
     "name": "stdout",
     "output_type": "stream",
     "text": [
      "Enter a number45\n",
      "no is greator\n"
     ]
    }
   ],
   "source": [
    "    a = 50\n",
    "    b = int(input(\"Enter a number\"))\n",
    "    if b>a:\n",
    "        print(\"winning no is less\")\n",
    "    elif b==a:\n",
    "        print(\"You Won\")\n",
    "    else:\n",
    "        print(\"no is greator\")"
   ]
  },
  {
   "cell_type": "code",
   "execution_count": null,
   "id": "29658295",
   "metadata": {},
   "outputs": [],
   "source": [
    "name = 'python'   #python is saved in variable 'name'\n",
    "if name == python:  #is the name really equal to python if true\n",
    "    print('won')\n"
   ]
  },
  {
   "cell_type": "code",
   "execution_count": 17,
   "id": "3903100f",
   "metadata": {},
   "outputs": [
    {
     "name": "stdout",
     "output_type": "stream",
     "text": [
      "enter a number35\n",
      "enter a number25\n",
      "ff\n"
     ]
    }
   ],
   "source": [
    "a = int(input(\"enter a number\"))\n",
    "b = int(input(\"enter a number\"))\n",
    "if b >a:\n",
    "    print(\"your number {} is less than {}\",format(a,b))\n",
    "elif b==a:\n",
    "    print(\"your no {} is equal to {}\",format(a,b))\n",
    "else:\n",
    "    print(\"ff\")"
   ]
  },
  {
   "cell_type": "code",
   "execution_count": 2,
   "id": "7897cd0b",
   "metadata": {},
   "outputs": [
    {
     "name": "stdout",
     "output_type": "stream",
     "text": [
      "hello\n",
      "10\n",
      "enter a number34\n",
      "enter a number34\n",
      "this is true case\n",
      "we are doing addtion operation\n",
      "The addition of 34 and 34 is :68\n",
      "Happy ending\n",
      "Substraction 0\n",
      "great\n"
     ]
    }
   ],
   "source": [
    "print(\"hello\")\n",
    "print(10)\n",
    "n1=eval(input(\"enter a number\"))\n",
    "n2=eval(input(\"enter a number\"))\n",
    "if n1==n2:\n",
    "    print(\"this is true case\")\n",
    "    print(\"we are doing addtion operation\")\n",
    "    print(\"The addition of {} and {} is :{}\".format(n1,n2,n1+n2))\n",
    "    print(\"Happy ending\")\n",
    "else:\n",
    "    print(\"This is false case\")\n",
    "    print(\"we are doing multipilcation\")\n",
    "    print(\"The multipication of {} and {} is :{}\".format(n1,n2,n1*n2))\n",
    "sub = n1-n2\n",
    "print('Substraction',sub)\n",
    "print(\"great\")"
   ]
  },
  {
   "cell_type": "code",
   "execution_count": 8,
   "id": "c2eb72ae",
   "metadata": {},
   "outputs": [
    {
     "name": "stdout",
     "output_type": "stream",
     "text": [
      "Enter a number0\n",
      "you enter a Even number\n"
     ]
    }
   ],
   "source": [
    "a = eval(input(\"Enter a number\"))\n",
    "if a%2==0:\n",
    "    print(f\"you enter a Even number\")\n",
    "else:\n",
    "    print(\"you enter a odd number\")"
   ]
  },
  {
   "cell_type": "code",
   "execution_count": 12,
   "id": "79d914d4",
   "metadata": {},
   "outputs": [
    {
     "name": "stdout",
     "output_type": "stream",
     "text": [
      "Enter a number :2\n",
      "you enter a Even number\n"
     ]
    }
   ],
   "source": [
    "try:\n",
    "    a = eval(input(\"Enter a number :\"))\n",
    "    if a%2==0:\n",
    "        print(\"you enter a Even number\")\n",
    "    else:\n",
    "        print(\"you enter a odd number\")\n",
    "except Exception as e:\n",
    "    print(e)"
   ]
  },
  {
   "cell_type": "code",
   "execution_count": null,
   "id": "ea0141bd",
   "metadata": {},
   "outputs": [],
   "source": [
    "try:\n",
    "    a = eval(input(\"Enter a number :\"))\n",
    "    if a%2!=0:\n",
    "        print(\"you enter a Odd number\")\n",
    "    else:\n",
    "        print(\"you enter a Even number\")\n",
    "except Exception as e:\n",
    "    print(e)"
   ]
  },
  {
   "cell_type": "code",
   "execution_count": 20,
   "id": "eeb38ee9",
   "metadata": {},
   "outputs": [
    {
     "name": "stdout",
     "output_type": "stream",
     "text": [
      "The number 33 is Odd Number\n"
     ]
    }
   ],
   "source": [
    "import random\n",
    "a = random.randint(1,50)\n",
    "try:\n",
    "    if a%2==0:\n",
    "        print(\"The number {} is Even Number\".format(a))\n",
    "    else:\n",
    "        print(\"The number {} is Odd Number\".format(a))\n",
    "except Exception as e:\n",
    "    print(e)"
   ]
  },
  {
   "cell_type": "code",
   "execution_count": 35,
   "id": "8a2cf2b1",
   "metadata": {},
   "outputs": [
    {
     "name": "stdout",
     "output_type": "stream",
     "text": [
      "You Won\n",
      "46\n"
     ]
    }
   ],
   "source": [
    "import random\n",
    "a = random.randint(1,200)\n",
    "try:\n",
    "    if a>=10 and a<=99:\n",
    "        print(\"You Won\")\n",
    "        print(a)\n",
    "    else:\n",
    "        print(\"You Lost\")\n",
    "        print(a)\n",
    "except Exception as e:\n",
    "    print(e)"
   ]
  },
  {
   "cell_type": "code",
   "execution_count": 46,
   "id": "863e26c3",
   "metadata": {},
   "outputs": [
    {
     "name": "stdout",
     "output_type": "stream",
     "text": [
      "You Won\n",
      "32\n"
     ]
    }
   ],
   "source": [
    "import random\n",
    "a = random.randint(1,200)\n",
    "try:\n",
    "    if 10<a<99:\n",
    "        print(\"You Won beacuase no is {} between 10 to 99\".format(a))\n",
    "        print(a)\n",
    "    else:\n",
    "        print(\"\"You lost beacuase no is {} not between 10 to 99\".format(a))\n",
    "        print(a)\n",
    "except Exception as e:\n",
    "    print(e)"
   ]
  },
  {
   "cell_type": "code",
   "execution_count": 3,
   "id": "e00ec1ca",
   "metadata": {},
   "outputs": [
    {
     "name": "stdout",
     "output_type": "stream",
     "text": [
      "enter a number :hi \n",
      "You enter a Letter in the box\n",
      "name 'hi' is not defined\n"
     ]
    }
   ],
   "source": [
    "try:\n",
    "    n1 = eval(input(\"enter a number :\"))\n",
    "    if n1>=0:\n",
    "        print(\"You enter a {} and its a postive number\".format(n1))\n",
    "    else:\n",
    "        print(\"You enter a {} and its a negative number\".format(n1))\n",
    "except Exception as e:\n",
    "    print(\"You enter a Letter in the box\")\n",
    "    print(e)"
   ]
  },
  {
   "cell_type": "code",
   "execution_count": 7,
   "id": "38e44f2e",
   "metadata": {},
   "outputs": [
    {
     "name": "stdout",
     "output_type": "stream",
     "text": [
      "enter a number :ee\n",
      "You enter a Letter in the box\n",
      "name 'ee' is not defined\n"
     ]
    }
   ],
   "source": [
    "try:\n",
    "    n1 = eval(input(\"enter a number :\"))\n",
    "    if n1>0:\n",
    "        print(\"You enter a {} and its a postive number\".format(n1))\n",
    "    elif n1==0:\n",
    "        print(\"You enter a {} and its a Zero\".format(n1))\n",
    "    else:\n",
    "        print(\"You enter a {} and its a negative number\".format(n1))\n",
    "except Exception as e:\n",
    "    print(\"You enter a Letter in the box\")\n",
    "    print(e)"
   ]
  },
  {
   "cell_type": "code",
   "execution_count": 12,
   "id": "8ab2328e",
   "metadata": {},
   "outputs": [
    {
     "name": "stdout",
     "output_type": "stream",
     "text": [
      "enter a number :34\n",
      "You enter a 34 and its a postive number\n"
     ]
    }
   ],
   "source": [
    "n1 = eval(input(\"enter a number :\"))\n",
    "if n1>0:\n",
    "    print(\"You enter a {} and its a postive number\".format(n1))\n",
    "elif n1==0:\n",
    "    print(\"You enter a {} and its a Zero\".format(n1))\n",
    "else:\n",
    "    print(\"You enter a {} and its a negative number\".format(n1))"
   ]
  },
  {
   "cell_type": "code",
   "execution_count": 35,
   "id": "92a945d8",
   "metadata": {},
   "outputs": [
    {
     "name": "stdout",
     "output_type": "stream",
     "text": [
      "Enter a Percent50\n",
      "You get a C Grade\n"
     ]
    }
   ],
   "source": [
    "grade = eval(input(\"Enter a Percent\"))\n",
    "try:\n",
    "    if grade>90:\n",
    "        print(\"You get a A Grade\")\n",
    "    elif grade>=70:\n",
    "        print(\"You get a B Grade\")\n",
    "    elif grade>=50:\n",
    "        print(\"You get a C Grade\")\n",
    "    else:\n",
    "        print(\"You get a D Grade\")\n",
    "except Exception as e:\n",
    "    print(e)"
   ]
  },
  {
   "cell_type": "code",
   "execution_count": 16,
   "id": "b75b9eb3",
   "metadata": {},
   "outputs": [
    {
     "name": "stdout",
     "output_type": "stream",
     "text": [
      "Enter a Percent :-12\n",
      "You are Fail\n"
     ]
    }
   ],
   "source": [
    "grade = eval(input(\"Enter a Percent :\"))\n",
    "try:\n",
    "    if grade>90:\n",
    "        print(\"You get a A Grade\")\n",
    "    elif grade>=70: \n",
    "        print(\"You get a B Grade\")\n",
    "    elif grade>=50:\n",
    "        print(\"You get a C Grade\")\n",
    "    elif grade>=30:\n",
    "        print(\"You get a D Grade\")\n",
    "    else:\n",
    "        print(\"You are Fail\")\n",
    "except Exception as e:\n",
    "    print(e)"
   ]
  },
  {
   "cell_type": "code",
   "execution_count": 30,
   "id": "c1df3287",
   "metadata": {},
   "outputs": [
    {
     "name": "stdout",
     "output_type": "stream",
     "text": [
      "Enter a Percent :50\n",
      "You get a C Grade\n"
     ]
    }
   ],
   "source": [
    "grade = eval(input(\"Enter a Percent :\"))\n",
    "if grade>=90:\n",
    "    print(\"You get a A Grade\")\n",
    "elif grade>=70:\n",
    "    print(\"You get a B Grade\")\n",
    "elif grade>=50:\n",
    "    print(\"You get a C Grade\")\n",
    "elif grade>=33:\n",
    "    print(\"You get a D Grade\")\n",
    "else:\n",
    "    print(\"You are Fail\")"
   ]
  },
  {
   "cell_type": "code",
   "execution_count": 45,
   "id": "6f76b24f",
   "metadata": {},
   "outputs": [
    {
     "name": "stdout",
     "output_type": "stream",
     "text": [
      "enter You Age12.9\n",
      "You are child\n"
     ]
    }
   ],
   "source": [
    "age = eval(input(\"enter You Age\"))\n",
    "try:\n",
    "    if age>=60:\n",
    "        print(\"You are a senior citizen\")\n",
    "    elif age>=45:\n",
    "        print(\"You are Aged\")\n",
    "    elif age>=30:\n",
    "        print(\"You are Middile Aged\")\n",
    "    elif age>=20:\n",
    "        print(\"You are Young\")\n",
    "    elif age>=13:\n",
    "        print(\"You are Teenage\")\n",
    "    else:\n",
    "        print(\"You are child\")\n",
    "except Exception as e:\n",
    "    print(e)"
   ]
  },
  {
   "cell_type": "code",
   "execution_count": null,
   "id": "47f693f8",
   "metadata": {},
   "outputs": [],
   "source": [
    "age = eval(input(\"enter You Age\"))\n",
    "\n",
    "    if age>=60:\n",
    "        print(\"You are a senior citizen\")\n",
    "    elif age>=45:\n",
    "        print(\"You are Aged\")\n",
    "    elif age>=30:\n",
    "        print(\"You are Middile Aged\")\n",
    "    elif age>=20:\n",
    "        print(\"You are Young\")\n",
    "    elif age>=13:\n",
    "        print(\"You are Teenage\")\n",
    "    else:\n",
    "        print(\"You are child\")\n",
    "except Exception as e:\n",
    "    print(e)"
   ]
  },
  {
   "cell_type": "code",
   "execution_count": null,
   "id": "06441f60",
   "metadata": {},
   "outputs": [],
   "source": [
    "IMPORT SYS, TRACEBACK,LOGGER"
   ]
  },
  {
   "cell_type": "code",
   "execution_count": 47,
   "id": "27fcf2f9",
   "metadata": {},
   "outputs": [
    {
     "name": "stdout",
     "output_type": "stream",
     "text": [
      "Enter a Percent :EE\n"
     ]
    },
    {
     "ename": "NameError",
     "evalue": "name 'EE' is not defined",
     "output_type": "error",
     "traceback": [
      "\u001b[1;31m---------------------------------------------------------------------------\u001b[0m",
      "\u001b[1;31mNameError\u001b[0m                                 Traceback (most recent call last)",
      "Cell \u001b[1;32mIn[47], line 1\u001b[0m\n\u001b[1;32m----> 1\u001b[0m grade \u001b[38;5;241m=\u001b[39m \u001b[38;5;28meval\u001b[39m(\u001b[38;5;28minput\u001b[39m(\u001b[38;5;124m\"\u001b[39m\u001b[38;5;124mEnter a Percent :\u001b[39m\u001b[38;5;124m\"\u001b[39m))\n\u001b[0;32m      2\u001b[0m \u001b[38;5;28;01mif\u001b[39;00m grade\u001b[38;5;241m>\u001b[39m\u001b[38;5;241m=\u001b[39m\u001b[38;5;241m90\u001b[39m:\n\u001b[0;32m      3\u001b[0m     \u001b[38;5;28mprint\u001b[39m(\u001b[38;5;124m\"\u001b[39m\u001b[38;5;124mYou get a A Grade\u001b[39m\u001b[38;5;124m\"\u001b[39m)\n",
      "File \u001b[1;32m<string>:1\u001b[0m\n",
      "\u001b[1;31mNameError\u001b[0m: name 'EE' is not defined"
     ]
    }
   ],
   "source": [
    "grade = eval(input(\"Enter a Percent :\"))\n",
    "if grade>=90:\n",
    "    print(\"You get a A Grade\")\n",
    "elif grade>=70:\n",
    "    print(\"You get a B Grade\")\n",
    "elif grade>=50:\n",
    "    print(\"You get a C Grade\")\n",
    "elif grade>=33:\n",
    "    print(\"You get a D Grade\")\n",
    "else:\n",
    "    print(\"You are Fail\")"
   ]
  },
  {
   "cell_type": "code",
   "execution_count": null,
   "id": "2112fd9c",
   "metadata": {},
   "outputs": [],
   "source": [
    "grade = eval(input(\"Enter a Percent :\"))\n",
    "try:\n",
    "    if grade>90:\n",
    "        print(\"You get a A Grade\")\n",
    "    elif grade>=70: \n",
    "        print(\"You get a B Grade\")\n",
    "    elif grade>=50:\n",
    "        print(\"You get a C Grade\")\n",
    "    elif grade>=30:\n",
    "        print(\"You get a D Grade\")\n",
    "    else:\n",
    "        print(\"You are Fail\")\n",
    "except Exception as e:\n",
    "    print(e)"
   ]
  },
  {
   "cell_type": "code",
   "execution_count": null,
   "id": "b1801c6d",
   "metadata": {},
   "outputs": [],
   "source": []
  },
  {
   "cell_type": "code",
   "execution_count": null,
   "id": "dc08f2a9",
   "metadata": {},
   "outputs": [],
   "source": []
  },
  {
   "cell_type": "code",
   "execution_count": null,
   "id": "d69ef07e",
   "metadata": {},
   "outputs": [],
   "source": []
  },
  {
   "cell_type": "code",
   "execution_count": null,
   "id": "66623328",
   "metadata": {},
   "outputs": [],
   "source": []
  },
  {
   "cell_type": "code",
   "execution_count": null,
   "id": "a08dc247",
   "metadata": {},
   "outputs": [],
   "source": []
  }
 ],
 "metadata": {
  "kernelspec": {
   "display_name": "Python 3 (ipykernel)",
   "language": "python",
   "name": "python3"
  },
  "language_info": {
   "codemirror_mode": {
    "name": "ipython",
    "version": 3
   },
   "file_extension": ".py",
   "mimetype": "text/x-python",
   "name": "python",
   "nbconvert_exporter": "python",
   "pygments_lexer": "ipython3",
   "version": "3.11.5"
  }
 },
 "nbformat": 4,
 "nbformat_minor": 5
}
