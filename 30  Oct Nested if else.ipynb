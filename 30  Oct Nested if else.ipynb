{
 "cells": [
  {
   "cell_type": "code",
   "execution_count": 14,
   "id": "8ad31f6d",
   "metadata": {},
   "outputs": [
    {
     "name": "stdout",
     "output_type": "stream",
     "text": [
      "Enter a Salary :399999\n",
      "Enter a Tax Percentage :0\n",
      "No tax Required\n"
     ]
    }
   ],
   "source": [
    "salary=eval(input(\"Enter a Salary :\"))\n",
    "tax_Percentage=eval(input(\"Enter a Tax Percentage :\"))\n",
    "if salary>=1000000:\n",
    "    taxpaid=(salary*tax_Percentage)/100\n",
    "    print(taxpaid)\n",
    "elif salary>=700000:\n",
    "    taxpaid=(salary*tax_Percentage)/100\n",
    "    print(taxpaid)\n",
    "elif salary>=400000:\n",
    "    taxpaid=(salary*tax_Percentage)/100\n",
    "    print(taxpaid)\n",
    "else:\n",
    "    print(\"No tax Required\")"
   ]
  },
  {
   "cell_type": "code",
   "execution_count": null,
   "id": "d0f2bf74",
   "metadata": {},
   "outputs": [],
   "source": [
    "try:\n",
    "    salary=eval(input(\"Enter a Salary :\"))\n",
    "    if salary>=1000000:\n",
    "        tax_Percentage=eval(input(\"Enter a Tax Percentage :\"))\n",
    "        taxpaid=(salary*tax_Percentage)/100\n",
    "        print(taxpaid)\n",
    "    elif salary>=700000:\n",
    "        tax_Percentage=eval(input(\"Enter a Tax Percentage :\"))\n",
    "        taxpaid=(salary*tax_Percentage)/100\n",
    "        print(taxpaid)\n",
    "    elif salary>=400000:\n",
    "        tax_Percentage=eval(input(\"Enter a Tax Percentage :\"))\n",
    "        taxpaid=(salary*tax_Percentage)/100\n",
    "        print(taxpaid)\n",
    "    else:\n",
    "        print(\"No tax Required\")\n",
    "except Exception as e:\n",
    "    print(e,\"Input in numbers only\")\n",
    "    print(e)"
   ]
  },
  {
   "cell_type": "code",
   "execution_count": 4,
   "id": "88be387d",
   "metadata": {},
   "outputs": [
    {
     "ename": "SyntaxError",
     "evalue": "invalid syntax. Maybe you meant '==' or ':=' instead of '='? (103747004.py, line 4)",
     "output_type": "error",
     "traceback": [
      "\u001b[1;36m  Cell \u001b[1;32mIn[4], line 4\u001b[1;36m\u001b[0m\n\u001b[1;33m    if ops=\"additon\":\u001b[0m\n\u001b[1;37m       ^\u001b[0m\n\u001b[1;31mSyntaxError\u001b[0m\u001b[1;31m:\u001b[0m invalid syntax. Maybe you meant '==' or ':=' instead of '='?\n"
     ]
    }
   ],
   "source": [
    "ops = input(\"Enter a which operation of you want ot perform from additon/multiplication/subsctraction/divison\")\n",
    "num1=eval(input(\"enter a number :\"))\n",
    "num2=eval(input(\"enter a number :\"))\n",
    "if ops=\"additon or ops=\"+\":\n",
    "    print(\"we are doing addition operation\")\n",
    "    print(num1+num2)\n",
    "elif ops=multipication or ops=\"*\":\n",
    "    print(\"we are doing multlipication operation\")\n",
    "    print(num1*num2)\n",
    "elif ops=substraction or ops=\"-\":\n",
    "    print(\"we are doing substraction operation\")\n",
    "    print(num1-num2)\n",
    "elif ops=division or ops=\"/\":\n",
    "    print(\"we are doing division operation\")\n",
    "    print(num1/num2)\n",
    "else:\n",
    "    print(\"provide suitable operation\")"
   ]
  },
  {
   "cell_type": "code",
   "execution_count": 18,
   "id": "fbfa094f",
   "metadata": {},
   "outputs": [
    {
     "name": "stdout",
     "output_type": "stream",
     "text": [
      "Enter a which operation of you want ot perform from addition/multiplication/subsctraction/divison :+\n",
      "enter a number :34\n",
      "enter a number :36\n",
      "we are doing addition operation\n",
      "70\n"
     ]
    }
   ],
   "source": [
    "\n",
    "import time\n",
    "try:\n",
    "    ops = input(\"Enter a which operation of you want ot perform from addition/multiplication/subsctraction/divison :\")\n",
    "    num1=eval(input(\"enter a number :\"))\n",
    "    num2=eval(input(\"enter a number :\"))\n",
    "    time.sleep(1)\n",
    "    if ops==\"addition\" or ops==\"+\":\n",
    "        print(\"we are doing addition operation\")\n",
    "        print(num1+num2)\n",
    "    elif ops==\"multipication\" or ops==\"*\":\n",
    "        print(\"we are doing multlipication operation\")\n",
    "        print(num1*num2)\n",
    "    elif ops==\"substraction\" or ops==\"-\":\n",
    "        print(\"we are doing substraction operation\")\n",
    "        print(num1-num2)\n",
    "    elif ops==\"division\" or ops==\"/\":\n",
    "        print(\"we are doing division operation\")\n",
    "        print(round(num1/num2,2))\n",
    "    else:\n",
    "        print(\"provide suitable operation\")\n",
    "except Exception as e:\n",
    "    print(e)"
   ]
  },
  {
   "cell_type": "markdown",
   "id": "16be681e",
   "metadata": {},
   "source": [
    "# Nested if else"
   ]
  },
  {
   "cell_type": "code",
   "execution_count": 3,
   "id": "96bf4125",
   "metadata": {},
   "outputs": [
    {
     "name": "stdout",
     "output_type": "stream",
     "text": [
      "Enter a number :454\n",
      "Its a postive number\n"
     ]
    }
   ],
   "source": [
    "try:\n",
    "    n=eval(input(\"Enter a number :\"))\n",
    "    if n>=0:\n",
    "        if n==0:\n",
    "            print(\"it is zero number\")\n",
    "        else:\n",
    "            print(\"Its a postive number\")\n",
    "    else:\n",
    "        print(\"It is negative number\")\n",
    "except Exception as e:\n",
    "    print(e)\n",
    "    print(\"Enter a Number\")"
   ]
  },
  {
   "cell_type": "code",
   "execution_count": 6,
   "id": "0601e5c2",
   "metadata": {},
   "outputs": [
    {
     "name": "stdout",
     "output_type": "stream",
     "text": [
      "Enter a gender Male/Female :Female\n",
      "enter your age :65\n",
      "you are senior citizen\n"
     ]
    }
   ],
   "source": [
    "gender = input(\"Enter a gender Male/Female :\")\n",
    "if gender==\"Male\":\n",
    "    age=eval(input(\"enter your age :\"))\n",
    "    if age>=60:\n",
    "        print(\"you are senior citizen\")\n",
    "    elif age>=30:\n",
    "        print(\"you are middile aged Man\")\n",
    "    elif age>=20:\n",
    "        print(\"You are Yound Boy\")\n",
    "    elif age>=13:\n",
    "        print(\"You are Teen age Boy\")\n",
    "    elif age>=1:\n",
    "        print(\"You are Boy\")\n",
    "    else:\n",
    "        print(\"enter you correct age\")\n",
    "elif gender==\"Female\":\n",
    "    age=eval(input(\"enter your age :\"))\n",
    "    if age>=60:\n",
    "        print(\"you are senior citizen\")\n",
    "    elif age>=30:\n",
    "        print(\"you are middile aged woman\")\n",
    "    elif age>=20:\n",
    "        print(\"You are Yound girl\")\n",
    "    elif age>=13:\n",
    "        print(\"You are Teen age girl\")\n",
    "    elif age>=1:\n",
    "        print(\"You are girl\")\n",
    "    else:\n",
    "        print(\"enter you correct girl\")\n",
    "else:\n",
    "    print(\"enter a correcct gender \")"
   ]
  },
  {
   "cell_type": "code",
   "execution_count": 13,
   "id": "3d79712b",
   "metadata": {},
   "outputs": [
    {
     "name": "stdout",
     "output_type": "stream",
     "text": [
      "Enter a number :56\n",
      "Enter a number :108\n",
      "Enter a number :98\n",
      "108 is biggest number\n"
     ]
    }
   ],
   "source": [
    "num1 = eval(input(\"Enter a number :\"))\n",
    "num2 = eval(input(\"Enter a number :\"))\n",
    "num3 = eval(input(\"Enter a number :\"))\n",
    "if num1>num2 and num1>num3:\n",
    "    print(num1, \"is biggest number\")\n",
    "elif num2>num3:\n",
    "    print(num2, \"is biggest number\")\n",
    "else:\n",
    "    print(num3,  \"is biggest number\")\n"
   ]
  },
  {
   "cell_type": "code",
   "execution_count": null,
   "id": "e01ecf1f",
   "metadata": {},
   "outputs": [],
   "source": []
  },
  {
   "cell_type": "code",
   "execution_count": null,
   "id": "9253c0f6",
   "metadata": {},
   "outputs": [],
   "source": []
  }
 ],
 "metadata": {
  "kernelspec": {
   "display_name": "Python 3 (ipykernel)",
   "language": "python",
   "name": "python3"
  },
  "language_info": {
   "codemirror_mode": {
    "name": "ipython",
    "version": 3
   },
   "file_extension": ".py",
   "mimetype": "text/x-python",
   "name": "python",
   "nbconvert_exporter": "python",
   "pygments_lexer": "ipython3",
   "version": "3.11.5"
  }
 },
 "nbformat": 4,
 "nbformat_minor": 5
}
