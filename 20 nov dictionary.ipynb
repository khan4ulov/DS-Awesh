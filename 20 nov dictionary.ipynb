{
 "cells": [
  {
   "cell_type": "code",
   "execution_count": 2,
   "id": "ffc28e37",
   "metadata": {},
   "outputs": [
    {
     "data": {
      "text/plain": [
       "{'even': [2, 4, 6], 'odd': [1, 3, 5]}"
      ]
     },
     "execution_count": 2,
     "metadata": {},
     "output_type": "execute_result"
    }
   ],
   "source": []
  },
  {
   "cell_type": "code",
   "execution_count": 55,
   "id": "d27499da",
   "metadata": {
    "scrolled": true
   },
   "outputs": [
    {
     "data": {
      "text/plain": [
       "{'even': [2, 4, 6], 'odd': [1, 3, 5]}"
      ]
     },
     "execution_count": 55,
     "metadata": {},
     "output_type": "execute_result"
    }
   ],
   "source": [
    "d1={'even':[2,4,6],'odd':[1,3,5]}\n",
    "d1"
   ]
  },
  {
   "cell_type": "code",
   "execution_count": 58,
   "id": "c2fb6d06",
   "metadata": {},
   "outputs": [
    {
     "data": {
      "text/plain": [
       "2"
      ]
     },
     "execution_count": 58,
     "metadata": {},
     "output_type": "execute_result"
    }
   ],
   "source": []
  },
  {
   "cell_type": "code",
   "execution_count": null,
   "id": "3eee24e4",
   "metadata": {},
   "outputs": [],
   "source": []
  },
  {
   "cell_type": "code",
   "execution_count": 4,
   "id": "f0b82f32",
   "metadata": {},
   "outputs": [
    {
     "data": {
      "text/plain": [
       "{(2, 4, 5): 'even', (1, 3, 5): 'odd'}"
      ]
     },
     "execution_count": 4,
     "metadata": {},
     "output_type": "execute_result"
    }
   ],
   "source": [
    "d2={(2,4,5):'even',(1,3,5):'odd'}\n",
    "d2"
   ]
  },
  {
   "cell_type": "code",
   "execution_count": 56,
   "id": "2ee64078",
   "metadata": {},
   "outputs": [
    {
     "ename": "KeyError",
     "evalue": "'even'",
     "output_type": "error",
     "traceback": [
      "\u001b[1;31m---------------------------------------------------------------------------\u001b[0m",
      "\u001b[1;31mKeyError\u001b[0m                                  Traceback (most recent call last)",
      "Cell \u001b[1;32mIn[56], line 2\u001b[0m\n\u001b[0;32m      1\u001b[0m d2\u001b[38;5;241m=\u001b[39m{(\u001b[38;5;241m2\u001b[39m,\u001b[38;5;241m4\u001b[39m,\u001b[38;5;241m5\u001b[39m):\u001b[38;5;124m'\u001b[39m\u001b[38;5;124meven\u001b[39m\u001b[38;5;124m'\u001b[39m,(\u001b[38;5;241m1\u001b[39m,\u001b[38;5;241m3\u001b[39m,\u001b[38;5;241m5\u001b[39m):\u001b[38;5;124m'\u001b[39m\u001b[38;5;124modd\u001b[39m\u001b[38;5;124m'\u001b[39m}\n\u001b[1;32m----> 2\u001b[0m d2[\u001b[38;5;124m'\u001b[39m\u001b[38;5;124meven\u001b[39m\u001b[38;5;124m'\u001b[39m]\n",
      "\u001b[1;31mKeyError\u001b[0m: 'even'"
     ]
    }
   ],
   "source": []
  },
  {
   "cell_type": "code",
   "execution_count": 5,
   "id": "95b75001",
   "metadata": {},
   "outputs": [],
   "source": [
    "a=[1,2]\n",
    "b=(1,2)\n",
    "a,b=[1,2]"
   ]
  },
  {
   "cell_type": "code",
   "execution_count": 6,
   "id": "23cf627d",
   "metadata": {},
   "outputs": [
    {
     "data": {
      "text/plain": [
       "(1, 2)"
      ]
     },
     "execution_count": 6,
     "metadata": {},
     "output_type": "execute_result"
    }
   ],
   "source": [
    "a,b"
   ]
  },
  {
   "cell_type": "code",
   "execution_count": 8,
   "id": "c9e2382b",
   "metadata": {},
   "outputs": [
    {
     "data": {
      "text/plain": [
       "(1, 2)"
      ]
     },
     "execution_count": 8,
     "metadata": {},
     "output_type": "execute_result"
    }
   ],
   "source": [
    "c,d=(1,2)\n",
    "c,d"
   ]
  },
  {
   "cell_type": "code",
   "execution_count": 13,
   "id": "0749276e",
   "metadata": {},
   "outputs": [],
   "source": [
    "a=1,2\n",
    "a"
   ]
  },
  {
   "cell_type": "markdown",
   "id": "23839e17",
   "metadata": {},
   "source": [
    "**Dictionary is a key:value pair**\n",
    " - at values positions you can take any data type\n",
    " - at keys postions list and dicstionary will fail \n",
    " - duplicates are not allowed\n",
    " - if you will update a key, latest value will take"
   ]
  },
  {
   "cell_type": "code",
   "execution_count": 15,
   "id": "8b7368a0",
   "metadata": {},
   "outputs": [
    {
     "data": {
      "text/plain": [
       "dict"
      ]
     },
     "execution_count": 15,
     "metadata": {},
     "output_type": "execute_result"
    }
   ],
   "source": [
    "type(d1)"
   ]
  },
  {
   "cell_type": "markdown",
   "id": "b3b2e5c5",
   "metadata": {},
   "source": [
    "- str\n",
    "- list\n",
    "- dict\n",
    "- int\n",
    "- float\n",
    "- bool\n",
    "- complex\n",
    "- tuple\n",
    "- set\n"
   ]
  },
  {
   "cell_type": "code",
   "execution_count": 36,
   "id": "c2be711d",
   "metadata": {},
   "outputs": [
    {
     "data": {
      "text/plain": [
       "'GHI'"
      ]
     },
     "execution_count": 36,
     "metadata": {},
     "output_type": "execute_result"
    }
   ],
   "source": [
    "d1= {'ABC':25,'DEF':30,'GHI':3}\n",
    "max(d1)"
   ]
  },
  {
   "cell_type": "code",
   "execution_count": 37,
   "id": "6485e9cb",
   "metadata": {},
   "outputs": [
    {
     "data": {
      "text/plain": [
       "'ABC'"
      ]
     },
     "execution_count": 37,
     "metadata": {},
     "output_type": "execute_result"
    }
   ],
   "source": [
    "d1= {'ABC':25,'DEF':30,'GHI':3}\n",
    "min(d1)"
   ]
  },
  {
   "cell_type": "markdown",
   "id": "1c6fe216",
   "metadata": {},
   "source": [
    "- Maximum and minimum value based on key\n",
    "- if key has numerical values we can do sum"
   ]
  },
  {
   "cell_type": "code",
   "execution_count": 38,
   "id": "af046831",
   "metadata": {},
   "outputs": [
    {
     "ename": "TypeError",
     "evalue": "unsupported operand type(s) for +: 'int' and 'str'",
     "output_type": "error",
     "traceback": [
      "\u001b[1;31m---------------------------------------------------------------------------\u001b[0m",
      "\u001b[1;31mTypeError\u001b[0m                                 Traceback (most recent call last)",
      "Cell \u001b[1;32mIn[38], line 1\u001b[0m\n\u001b[1;32m----> 1\u001b[0m \u001b[38;5;28msum\u001b[39m(d1)\n",
      "\u001b[1;31mTypeError\u001b[0m: unsupported operand type(s) for +: 'int' and 'str'"
     ]
    }
   ],
   "source": [
    "sum(d1)"
   ]
  },
  {
   "cell_type": "code",
   "execution_count": 39,
   "id": "9d54ebe2",
   "metadata": {},
   "outputs": [
    {
     "data": {
      "text/plain": [
       "400"
      ]
     },
     "execution_count": 39,
     "metadata": {},
     "output_type": "execute_result"
    }
   ],
   "source": [
    "d2={100:'2',300:'4'}\n",
    "sum(d2)"
   ]
  },
  {
   "cell_type": "code",
   "execution_count": 40,
   "id": "77394af7",
   "metadata": {},
   "outputs": [
    {
     "data": {
      "text/plain": [
       "800"
      ]
     },
     "execution_count": 40,
     "metadata": {},
     "output_type": "execute_result"
    }
   ],
   "source": [
    "d2={500:'2',300:'4'}\n",
    "sum(d2)"
   ]
  },
  {
   "cell_type": "code",
   "execution_count": 41,
   "id": "dec2804b",
   "metadata": {},
   "outputs": [
    {
     "ename": "TypeError",
     "evalue": "unsupported operand type(s) for +: 'int' and 'str'",
     "output_type": "error",
     "traceback": [
      "\u001b[1;31m---------------------------------------------------------------------------\u001b[0m",
      "\u001b[1;31mTypeError\u001b[0m                                 Traceback (most recent call last)",
      "Cell \u001b[1;32mIn[41], line 2\u001b[0m\n\u001b[0;32m      1\u001b[0m d2\u001b[38;5;241m=\u001b[39m{\u001b[38;5;124m'\u001b[39m\u001b[38;5;124m500\u001b[39m\u001b[38;5;124m'\u001b[39m:\u001b[38;5;241m2\u001b[39m,\u001b[38;5;124m'\u001b[39m\u001b[38;5;124m300\u001b[39m\u001b[38;5;124m'\u001b[39m:\u001b[38;5;241m100\u001b[39m}\n\u001b[1;32m----> 2\u001b[0m \u001b[38;5;28msum\u001b[39m(d2)\n",
      "\u001b[1;31mTypeError\u001b[0m: unsupported operand type(s) for +: 'int' and 'str'"
     ]
    }
   ],
   "source": [
    "d2={'500':2,'300':100}\n",
    "sum(d2)"
   ]
  },
  {
   "cell_type": "code",
   "execution_count": 42,
   "id": "cf73a542",
   "metadata": {},
   "outputs": [
    {
     "data": {
      "text/plain": [
       "800"
      ]
     },
     "execution_count": 42,
     "metadata": {},
     "output_type": "execute_result"
    }
   ],
   "source": [
    "d2={500:'hi',300:'je'}\n",
    "sum(d2)"
   ]
  },
  {
   "cell_type": "markdown",
   "id": "4c07354c",
   "metadata": {},
   "source": [
    " - what is completed\n",
    "    - type\n",
    "    - len\n",
    "    - max\n",
    "    - min\n",
    "    - sum  \n",
    "###### next is\n",
    "- in operator"
   ]
  },
  {
   "cell_type": "code",
   "execution_count": 45,
   "id": "7a26a1dd",
   "metadata": {},
   "outputs": [
    {
     "name": "stdout",
     "output_type": "stream",
     "text": [
      "Ram\n",
      "Raheem\n",
      "Robert\n"
     ]
    }
   ],
   "source": [
    "d1= {'Ram':25,'Raheem':30,'Robert':3}\n",
    "for i in d1:\n",
    "    print(i)"
   ]
  },
  {
   "cell_type": "code",
   "execution_count": 50,
   "id": "17dc8e11",
   "metadata": {},
   "outputs": [
    {
     "data": {
      "text/plain": [
       "True"
      ]
     },
     "execution_count": 50,
     "metadata": {},
     "output_type": "execute_result"
    }
   ],
   "source": [
    "'Ram' in d1"
   ]
  },
  {
   "cell_type": "code",
   "execution_count": 51,
   "id": "1829753d",
   "metadata": {},
   "outputs": [
    {
     "data": {
      "text/plain": [
       "1"
      ]
     },
     "execution_count": 51,
     "metadata": {},
     "output_type": "execute_result"
    }
   ],
   "source": [
    "l1=[1,2,3,4,5]\n",
    "l1[0]"
   ]
  },
  {
   "cell_type": "code",
   "execution_count": 52,
   "id": "27d0a1f5",
   "metadata": {},
   "outputs": [
    {
     "data": {
      "text/plain": [
       "'a'"
      ]
     },
     "execution_count": 52,
     "metadata": {},
     "output_type": "execute_result"
    }
   ],
   "source": [
    "str1='apple'\n",
    "str1[0]"
   ]
  },
  {
   "cell_type": "code",
   "execution_count": 53,
   "id": "65a691f9",
   "metadata": {},
   "outputs": [
    {
     "ename": "KeyError",
     "evalue": "0",
     "output_type": "error",
     "traceback": [
      "\u001b[1;31m---------------------------------------------------------------------------\u001b[0m",
      "\u001b[1;31mKeyError\u001b[0m                                  Traceback (most recent call last)",
      "Cell \u001b[1;32mIn[53], line 2\u001b[0m\n\u001b[0;32m      1\u001b[0m d1\u001b[38;5;241m=\u001b[39m {\u001b[38;5;124m'\u001b[39m\u001b[38;5;124mRam\u001b[39m\u001b[38;5;124m'\u001b[39m:\u001b[38;5;241m25\u001b[39m,\u001b[38;5;124m'\u001b[39m\u001b[38;5;124mRaheem\u001b[39m\u001b[38;5;124m'\u001b[39m:\u001b[38;5;241m30\u001b[39m,\u001b[38;5;124m'\u001b[39m\u001b[38;5;124mRobert\u001b[39m\u001b[38;5;124m'\u001b[39m:\u001b[38;5;241m3\u001b[39m}\n\u001b[1;32m----> 2\u001b[0m d1[\u001b[38;5;241m0\u001b[39m]\n",
      "\u001b[1;31mKeyError\u001b[0m: 0"
     ]
    }
   ],
   "source": [
    "d1= {'Ram':25,'Raheem':30,'Robert':3}\n",
    "d1[0]          #will not work"
   ]
  },
  {
   "cell_type": "code",
   "execution_count": 59,
   "id": "6b4cf9cc",
   "metadata": {},
   "outputs": [
    {
     "data": {
      "text/plain": [
       "25"
      ]
     },
     "execution_count": 59,
     "metadata": {},
     "output_type": "execute_result"
    }
   ],
   "source": [
    "d1= {'Ram':25,'Raheem':30,'Robert':3}\n",
    "d1['Ram'] "
   ]
  },
  {
   "cell_type": "code",
   "execution_count": 60,
   "id": "7d8b6fd7",
   "metadata": {},
   "outputs": [
    {
     "name": "stdout",
     "output_type": "stream",
     "text": [
      "Ram\n",
      "Raheem\n",
      "Robert\n"
     ]
    }
   ],
   "source": [
    "for i in d1:\n",
    "    print(i)"
   ]
  },
  {
   "cell_type": "code",
   "execution_count": 65,
   "id": "bd5a2e37",
   "metadata": {},
   "outputs": [
    {
     "name": "stdout",
     "output_type": "stream",
     "text": [
      "25\n",
      "30\n",
      "3\n"
     ]
    }
   ],
   "source": [
    "for i in d1:\n",
    "    print(d1[i])"
   ]
  },
  {
   "cell_type": "code",
   "execution_count": 66,
   "id": "a263d3f9",
   "metadata": {},
   "outputs": [
    {
     "data": {
      "text/plain": [
       "2"
      ]
     },
     "execution_count": 66,
     "metadata": {},
     "output_type": "execute_result"
    }
   ],
   "source": [
    "d1={'even':[2,4,6],'odd':[1,3,5]}\n",
    "d1['even'][0]"
   ]
  },
  {
   "cell_type": "code",
   "execution_count": 69,
   "id": "f1e8d7de",
   "metadata": {},
   "outputs": [
    {
     "name": "stdout",
     "output_type": "stream",
     "text": [
      "0\n",
      "1\n",
      "2\n"
     ]
    }
   ],
   "source": [
    "d1= {'Ram':25,'Raheem':30,'Robert':3}\n",
    "for i in range(len(d1)):\n",
    "    print(i)"
   ]
  },
  {
   "cell_type": "markdown",
   "id": "3219ded5",
   "metadata": {},
   "source": [
    "**create a empty dicionary and update**"
   ]
  },
  {
   "cell_type": "code",
   "execution_count": 70,
   "id": "5cf597f1",
   "metadata": {},
   "outputs": [
    {
     "name": "stdout",
     "output_type": "stream",
     "text": [
      " apple\n"
     ]
    }
   ],
   "source": [
    "s=' '  #in string\n",
    "for i in 'apple':\n",
    "    s=s+i\n",
    "print(s)"
   ]
  },
  {
   "cell_type": "code",
   "execution_count": 71,
   "id": "6e9568f4",
   "metadata": {},
   "outputs": [
    {
     "data": {
      "text/plain": [
       "{'fruit': 'Apple'}"
      ]
     },
     "execution_count": 71,
     "metadata": {},
     "output_type": "execute_result"
    }
   ],
   "source": [
    "d1={}\n",
    "d1['fruit']='Apple'\n",
    "d1"
   ]
  },
  {
   "cell_type": "code",
   "execution_count": 80,
   "id": "6e74729d",
   "metadata": {},
   "outputs": [
    {
     "data": {
      "text/plain": [
       "{'Name': 'Awesh Khan', 'Company': 'UMRF', 'Age': 27}"
      ]
     },
     "execution_count": 80,
     "metadata": {},
     "output_type": "execute_result"
    }
   ],
   "source": [
    "d1={}\n",
    "d1['Name']='Awesh Khan'\n",
    "d1['Company']='UMRF'\n",
    "d1['Age']=27\n",
    "d1"
   ]
  },
  {
   "cell_type": "code",
   "execution_count": 82,
   "id": "6e07bafb",
   "metadata": {},
   "outputs": [
    {
     "data": {
      "text/plain": [
       "{'Ram': 25, 'Raheem': 30, 'Robert': 35}"
      ]
     },
     "execution_count": 82,
     "metadata": {},
     "output_type": "execute_result"
    }
   ],
   "source": [
    "#WAP create a dictionary based on two lists\n",
    "list1=['Ram','Raheem','Robert']\n",
    "list2=[25,30,35]\n",
    "d1={}\n",
    "for i,j in zip(list1,list2):\n",
    "    d1[i]=j\n",
    "d1"
   ]
  },
  {
   "cell_type": "code",
   "execution_count": 84,
   "id": "09d4f96c",
   "metadata": {},
   "outputs": [
    {
     "data": {
      "text/plain": [
       "{'Ram': 25, 'Raheem': 30, 'Robert': 35}"
      ]
     },
     "execution_count": 84,
     "metadata": {},
     "output_type": "execute_result"
    }
   ],
   "source": [
    "d1={}\n",
    "list1=['Ram','Raheem','Robert']\n",
    "list2=[25,30,35]\n",
    "for i in range((len(list1))):\n",
    "    d1[list1[i]]=list2[i]\n",
    "d1"
   ]
  },
  {
   "cell_type": "code",
   "execution_count": 89,
   "id": "5eaad18e",
   "metadata": {},
   "outputs": [
    {
     "name": "stdout",
     "output_type": "stream",
     "text": [
      "<zip object at 0x000002BEB3B33400>\n",
      "{'Ram': 25, 'Raheem': 30, 'Robert': 35}\n"
     ]
    }
   ],
   "source": [
    "dd=zip(list1,list2)\n",
    "print(dd)\n",
    "print(dict(dd))"
   ]
  },
  {
   "cell_type": "code",
   "execution_count": 91,
   "id": "21488aa2",
   "metadata": {},
   "outputs": [
    {
     "name": "stdout",
     "output_type": "stream",
     "text": [
      "{'Ram': 25, 'Raheem': 30, 'Robert': 35}\n"
     ]
    }
   ],
   "source": [
    "d1={}\n",
    "list1=['Ram','Raheem','Robert']\n",
    "list2=[25,30,35]\n",
    "for i in range((len(list1))):\n",
    "    d1[list1[i]]=list2[i]\n",
    "\n",
    "\n",
    "dict1={list1[i]:list2[i] for i in range((len(list1)))}\n",
    "print(dict1)"
   ]
  },
  {
   "cell_type": "code",
   "execution_count": 96,
   "id": "25519390",
   "metadata": {},
   "outputs": [
    {
     "name": "stdout",
     "output_type": "stream",
     "text": [
      "{'Ram': 25, 'Raheem': 30, 'Robert': 35}\n",
      "{25: 25, 30: 30, 35: 35}\n",
      "{'Ram': 25, 'Raheem': 30, 'Robert': 35}\n"
     ]
    }
   ],
   "source": [
    "#WAP create a dictionary based on two lists\n",
    "list1=['Ram','Raheem','Robert']\n",
    "list2=[25,30,35]\n",
    "d1={}\n",
    "for i,j in zip(list1,list2):\n",
    "    d1[i]=j\n",
    "dict11={d1[i]:j for i,j in zip(list1,list2)}\n",
    "dict12={i:j for i,j in zip(list1,list2)}\n",
    "print(dict12)\n",
    "print(dict11)\n",
    "print(d1)"
   ]
  },
  {
   "cell_type": "code",
   "execution_count": 103,
   "id": "3d50f3aa",
   "metadata": {},
   "outputs": [
    {
     "data": {
      "text/plain": [
       "<zip at 0x2beb68a9640>"
      ]
     },
     "execution_count": 103,
     "metadata": {},
     "output_type": "execute_result"
    }
   ],
   "source": [
    "list1=['Ram','Raheem','Robert']\n",
    "list2=[25,30,35]\n",
    "new=zip(list1,list2)\n",
    "new"
   ]
  },
  {
   "cell_type": "code",
   "execution_count": 104,
   "id": "b50144a2",
   "metadata": {},
   "outputs": [
    {
     "name": "stdout",
     "output_type": "stream",
     "text": [
      "{'Ram': 25, 'Raheem': 30, 'Robert': 35}\n"
     ]
    }
   ],
   "source": [
    "\n",
    "print(dict(new))"
   ]
  },
  {
   "cell_type": "code",
   "execution_count": 1,
   "id": "b0797e18",
   "metadata": {},
   "outputs": [
    {
     "name": "stdout",
     "output_type": "stream",
     "text": [
      "[58, 6, 84, 96]\n",
      "[33]\n"
     ]
    }
   ],
   "source": [
    "#WAP takes 5 random number\n",
    "# and create a dictionary with even and odd\n",
    "import random\n",
    "d1={}\n",
    "even_list=[]\n",
    "odd_list=[]\n",
    "for i in range(5):\n",
    "    num=random.randint(0,100)\n",
    "    if num%2==0:\n",
    "        even_list.append(num)\n",
    "    else:\n",
    "        odd_list.append(num)\n",
    "\n",
    "\n",
    "print(even_list)\n",
    "print(odd_list)\n"
   ]
  },
  {
   "cell_type": "code",
   "execution_count": 112,
   "id": "eb02dae9",
   "metadata": {},
   "outputs": [
    {
     "data": {
      "text/plain": [
       "{'even num': [94, 42, 14], 'odd num': [87, 11]}"
      ]
     },
     "execution_count": 112,
     "metadata": {},
     "output_type": "execute_result"
    }
   ],
   "source": [
    "d1[\"even num\"]=even_list\n",
    "d1['odd num']=odd_list\n",
    "d1"
   ]
  },
  {
   "cell_type": "code",
   "execution_count": 122,
   "id": "cb55cb9c",
   "metadata": {},
   "outputs": [],
   "source": [
    "dd=[num if num%2==0 else num for i in range(5)]"
   ]
  },
  {
   "cell_type": "markdown",
   "id": "494ea8ca",
   "metadata": {},
   "source": [
    "***6. Write a Python program that accepts a sequence of comma-separated numbers from the user and generates a list and a tuple of those numbers.\n",
    "Sample data : 3, 5, 7, 23***  \n",
    "Output :  \n",
    " - List : ['3', ' 5', ' 7', ' 23']  \n",
    " - Tuple : ('3', ' 5', ' 7', ' 23')  "
   ]
  },
  {
   "cell_type": "code",
   "execution_count": 141,
   "id": "9dff63e1",
   "metadata": {},
   "outputs": [
    {
     "name": "stdout",
     "output_type": "stream",
     "text": [
      "['3', '5', '7', '23']\n"
     ]
    }
   ],
   "source": [
    "a=3,5,7,23\n",
    "l=[]\n",
    "for i in a:\n",
    "    b=(l.append(str(i)))\n",
    "print(l)"
   ]
  },
  {
   "cell_type": "code",
   "execution_count": 142,
   "id": "7c2d26b6",
   "metadata": {},
   "outputs": [
    {
     "data": {
      "text/plain": [
       "('3', '5', '7', '23')"
      ]
     },
     "execution_count": 142,
     "metadata": {},
     "output_type": "execute_result"
    }
   ],
   "source": [
    "t=tuple(l)\n",
    "t"
   ]
  },
  {
   "cell_type": "code",
   "execution_count": 145,
   "id": "8001e47e",
   "metadata": {},
   "outputs": [
    {
     "name": "stdout",
     "output_type": "stream",
     "text": [
      "Even List: [14, 86]\n",
      "Odd List: [51, 61, 57]\n",
      "Result Dictionary: {'even': [14, 86], 'odd': [51, 61, 57]}\n"
     ]
    }
   ],
   "source": [
    "import random\n",
    "\n",
    "even_list = []\n",
    "odd_list = []\n",
    "\n",
    "for i in range(5):\n",
    "    num = random.randint(0, 100)\n",
    "    if num % 2 == 0:\n",
    "        even_list.append(num)\n",
    "    else:\n",
    "        odd_list.append(num)\n",
    "\n",
    "# Creating a dictionary with even and odd keys\n",
    "result_dict = {\"even\": even_list, \"odd\": odd_list}\n",
    "\n",
    "# Printing the result\n",
    "print(\"Even List:\", even_list)\n",
    "print(\"Odd List:\", odd_list)\n",
    "print(\"Result Dictionary:\", result_dict)\n"
   ]
  },
  {
   "cell_type": "code",
   "execution_count": 154,
   "id": "2dbf2f7e",
   "metadata": {},
   "outputs": [
    {
     "name": "stdout",
     "output_type": "stream",
     "text": [
      "Result Dictionary: {'even': [34, 92, 88, 72, 26], 'odd': [43, 53, 53, 97]}\n"
     ]
    }
   ],
   "source": [
    "import random\n",
    "\n",
    "nd = {\"even\": [num for _ in range(5) if (num := random.randint(0, 100)) % 2 == 0],\n",
    "               \"odd\": [num for _ in range(5) if (num := random.randint(0, 100)) % 2 != 0]}\n",
    "\n",
    "print(\"Result Dictionary:\", nd)\n"
   ]
  },
  {
   "cell_type": "code",
   "execution_count": 221,
   "id": "a1be6822",
   "metadata": {},
   "outputs": [
    {
     "name": "stdout",
     "output_type": "stream",
     "text": [
      "Result Dictionary: {'even': [94, 32], 'odd': [97, 5, 61]}\n"
     ]
    }
   ],
   "source": [
    "import random\n",
    "\n",
    "rn = [random.randint(0, 100) for _ in range(5)]\n",
    "\n",
    "new_dict = {\"even\": [num for num in rn if num % 2 == 0],\n",
    "               \"odd\": [num for num in rn if num % 2 != 0]}\n",
    "\n",
    "print(\"Result Dictionary:\", new_dict)\n"
   ]
  },
  {
   "cell_type": "code",
   "execution_count": 9,
   "id": "d136581e",
   "metadata": {},
   "outputs": [
    {
     "name": "stdout",
     "output_type": "stream",
     "text": [
      "Result Dictionary: {'even': [32, 14, 92, 2], 'odd': [91]}\n"
     ]
    }
   ],
   "source": [
    "import random\n",
    "\n",
    "rn = [random.randint(0, 100) for x in range(5)]\n",
    "\n",
    "new_dict = {\"even\": [num for num in rn if num % 2 == 0],\n",
    "               \"odd\": [num for num in rn if num % 2 != 0]}\n",
    "\n",
    "print(\"Result Dictionary:\", new_dict)\n"
   ]
  },
  {
   "cell_type": "code",
   "execution_count": null,
   "id": "e083875a",
   "metadata": {},
   "outputs": [],
   "source": []
  }
 ],
 "metadata": {
  "kernelspec": {
   "display_name": "Python 3 (ipykernel)",
   "language": "python",
   "name": "python3"
  },
  "language_info": {
   "codemirror_mode": {
    "name": "ipython",
    "version": 3
   },
   "file_extension": ".py",
   "mimetype": "text/x-python",
   "name": "python",
   "nbconvert_exporter": "python",
   "pygments_lexer": "ipython3",
   "version": "3.11.5"
  }
 },
 "nbformat": 4,
 "nbformat_minor": 5
}
