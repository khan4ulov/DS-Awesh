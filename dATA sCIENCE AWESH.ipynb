{
 "cells": [
  {
   "cell_type": "markdown",
   "id": "8f012b11",
   "metadata": {},
   "source": [
    "***Q1 Ramesh’s basic salary is input through the keyboard. His dearness allowance is 40% of\n",
    "basic salary, and house rent allowance is 20% of basic salary. Write a program to calculate his gross salary***"
   ]
  },
  {
   "cell_type": "code",
   "execution_count": 58,
   "id": "11f69a2c",
   "metadata": {},
   "outputs": [
    {
     "name": "stdout",
     "output_type": "stream",
     "text": [
      "please enter you basic salary :35533\n",
      "Ramesh Basic salary is 35533, his dearness allowance is 14213.2, his house rent allowance is 7106.6, /nSo Ramesh  gross salary is 56852.8 Rupees\n"
     ]
    }
   ],
   "source": [
    "try:\n",
    "    basic_salary=eval(input(\"please enter you basic salary :\"))\n",
    "    da=round(basic_salary*0.4,2)\n",
    "    hra=basic_salary*0.2\n",
    "    gross_salary=hra+da+basic_salary\n",
    "    print(\"Ramesh Basic salary is {}, his dearness allowance is {}, his house rent allowance is {}, /nSo Ramesh  gross salary is {} Rupees\".format(basic_salary,da,hra,gross_salary))\n",
    "except Exception as e:\n",
    "    print(e)"
   ]
  },
  {
   "cell_type": "markdown",
   "id": "775093b5",
   "metadata": {},
   "source": [
    "***Q.2 The distance between two cities (in km.) is input through the keyboard. Write a program\n",
    "to convert and print this distance in meters, feet, inches and centimeters.***"
   ]
  },
  {
   "cell_type": "code",
   "execution_count": 15,
   "id": "7d24580a",
   "metadata": {},
   "outputs": [
    {
     "name": "stdout",
     "output_type": "stream",
     "text": [
      "Enter the distance between two city in KM :250\n",
      "Distance in KM is 250KM, in Meters is 250000meters, in Feet is 820000.0feet, in Inches is 9842525.0inches and in Centimeter is 25000000centimeter\n"
     ]
    }
   ],
   "source": [
    "try:\n",
    "    dkm = eval(input(\"Enter the distance between two city in KM :\"))    #Distance in KM as DKM\n",
    "    dm=dkm*1000 #Distance in meter\n",
    "    df= round(dm*3.280,2) #Distance in Feet\n",
    "    di=round(dm*39.3701,2) #Distance in Inches\n",
    "    dc=dm*100 #Distance in Centimeter\n",
    "    print(\"Distance in KM is {}KM, in Meters is {}meters, in Feet is {}feet, in Inches is {}inches and in Centimeter is {}centimeter\".format(dkm,dm,df,di,dc))\n",
    "except Exception as e:\n",
    "    print(e)"
   ]
  },
  {
   "cell_type": "markdown",
   "id": "a0e090a8",
   "metadata": {},
   "source": [
    "***Q. 3 If the marks obtained by a student in five different subjects are input through the\n",
    "keyboard, find out the aggregate marks and percentage marks obtained by the student.\n",
    "Assume that the maximum marks that can be obtained by a student in each subject is\n",
    "100.***"
   ]
  },
  {
   "cell_type": "code",
   "execution_count": 16,
   "id": "f9219855",
   "metadata": {},
   "outputs": [
    {
     "name": "stdout",
     "output_type": "stream",
     "text": [
      "Enter subject 1 marks :89\n",
      "Enter subject 2 marks :94\n",
      "Enter subject 3 marks :76\n",
      "Enter subject 4 marks :65\n",
      "Enter subject 5 marks :52\n",
      "Total aggregate marks is 376 and percentage obtained 75.2\n"
     ]
    }
   ],
   "source": [
    "try:\n",
    "    subject1=eval(input(\"Enter subject 1 marks :\"))\n",
    "    subject2=eval(input(\"Enter subject 2 marks :\"))\n",
    "    subject3=eval(input(\"Enter subject 3 marks :\"))\n",
    "    subject4=eval(input(\"Enter subject 4 marks :\"))\n",
    "    subject5=eval(input(\"Enter subject 5 marks :\"))\n",
    "    if 0<=subject1<=100 and 0<=subject2<=100 and 0<=subject3<=100 and 0<=subject4<=100 and 0<=subject5<=100:\n",
    "        aggregate_marks=subject1+subject2+subject3+subject4+subject5\n",
    "        percentage=round((aggregate_marks/500)*100,2)\n",
    "        print(\"Total aggregate marks is {} and percentage obtained {}\".format(aggregate_marks,percentage))\n",
    "    else:\n",
    "        print(\"Marks should be between 0 and 100.\")\n",
    "except Exception as e:\n",
    "    print(e)"
   ]
  },
  {
   "cell_type": "markdown",
   "id": "d2e9e356",
   "metadata": {},
   "source": [
    "***Q.4 Temperature of a city in Fahrenheit degrees is input through the keyboard. Write a\n",
    "program to convert this temperature into Centigrade degrees.***"
   ]
  },
  {
   "cell_type": "code",
   "execution_count": 17,
   "id": "15539253",
   "metadata": {},
   "outputs": [
    {
     "name": "stdout",
     "output_type": "stream",
     "text": [
      "Enter a temprature in Fahrenheit :232\n",
      "Temprature in Centigrade degrees is 111.11\n"
     ]
    }
   ],
   "source": [
    "temp_far=eval(input(\"Enter a temprature in Fahrenheit :\")) #Temprature in fahrenheit \n",
    "temp_cel= round((temp_far-32)*5/9,2)  #Temprature in Centigrade degrees with formula °C = [(°F-32)×5]/9\n",
    "print(\"Temprature in Centigrade degrees is {}\".format(temp_cel))"
   ]
  },
  {
   "cell_type": "markdown",
   "id": "ae0d48d4",
   "metadata": {},
   "source": [
    "***Q.5 The length & breadth of a rectangle and radius of a circle are input through the\n",
    "keyboard. Write a program to calculate the area & perimeter of the rectangle, and the\n",
    "area & circumference of the circle***"
   ]
  },
  {
   "cell_type": "code",
   "execution_count": 20,
   "id": "67c3b63c",
   "metadata": {},
   "outputs": [
    {
     "name": "stdout",
     "output_type": "stream",
     "text": [
      "Enter a length of rectangle :45\n",
      "Enter a breadth of rectangle :23\n",
      "Enter a radius of circle :56\n",
      "Area of rectangle is 1035, Perimeter of rectangle is 136, \n",
      "Area of circle is 9856.0 and Circumference of circle is 352.0\n"
     ]
    }
   ],
   "source": [
    "try:\n",
    "    length=eval(input(\"Enter a length of rectangle :\"))     #Length of rectangle\n",
    "    breadth=eval(input(\"Enter a breadth of rectangle :\"))  #Breadth of rectangle\n",
    "    radius=eval(input(\"Enter a radius of circle :\"))     #Radius of circle\n",
    "    area_rect = round(length*breadth,2)     #Area of rectangle\n",
    "    perimeter_rect = 2*(length+breadth)      #Perimeter of rectangle\n",
    "    area_circle= round(22/7*(radius*radius),2)       #Area of circle\n",
    "    circumference_circle=round((2*22*radius)/7,2)    #Circumference of circle\n",
    "    print(\"Area of rectangle is {}, Perimeter of rectangle is {}, \".format(area_rect, perimeter_rect))\n",
    "    print(\"Area of circle is {} and Circumference of circle is {}\".format(area_circle, circumference_circle))\n",
    "except Exception as e:\n",
    "    print(e)"
   ]
  },
  {
   "cell_type": "markdown",
   "id": "4dc0e574",
   "metadata": {},
   "source": [
    "***Q.6 Two numbers are input through the keyboard into two locations C and D. Write a\n",
    "program to interchange the contents of C and D.***"
   ]
  },
  {
   "cell_type": "code",
   "execution_count": 21,
   "id": "55d4c76f",
   "metadata": {},
   "outputs": [
    {
     "name": "stdout",
     "output_type": "stream",
     "text": [
      "Enter the value for C: 45\n",
      "Enter the value for D: 56\n",
      "after interchange, the value of C is: 56\n",
      "after interchange, the value of D is: 45\n"
     ]
    }
   ],
   "source": [
    "try:\n",
    "    C = eval(input(\"Enter the value for C: \"))\n",
    "    D = eval(input(\"Enter the value for D: \"))\n",
    "    a = C   #C Value Stored in a\n",
    "    b = D   #D value Stroed in b\n",
    "    D = a   #D value stored in a that is C\n",
    "    C = b   #C value stored in b that is D\n",
    "    print(\"after interchange, the value of C is: {}\".format(C))\n",
    "    print(\"after interchange, the value of D is: {}\".format(D))\n",
    "except Exception as e:\n",
    "    print(e)"
   ]
  },
  {
   "cell_type": "markdown",
   "id": "30e15603",
   "metadata": {},
   "source": [
    "***Q.7 If a five-digit number is input through the keyboard, write a program to reverse the\n",
    "number***"
   ]
  },
  {
   "cell_type": "code",
   "execution_count": 33,
   "id": "0cedc5bb",
   "metadata": {},
   "outputs": [
    {
     "name": "stdout",
     "output_type": "stream",
     "text": [
      "Enter a 5 digit number :23429\n",
      "You entered a 23429 and it reversed number is 92432\n"
     ]
    }
   ],
   "source": [
    "n=eval(input(\"Enter a 5 digit number :\"))\n",
    "if 10000<n<99999:\n",
    "    ln1=n%10       #Last digit of the number\n",
    "    n1=n//10       #Four digit number\n",
    "    ln2=n1%10      #2nd last digit of the number\n",
    "    n2=n1//10      #Three digit of the number\n",
    "    ln3=n2%10      #Third digit of number\n",
    "    n3=n2//10      #Two digit of the number\n",
    "    ln4=n3%10      #2nd digit of the number\n",
    "    n4=n3//10      #First digit of the number\n",
    "    print(\"You entered a {} and it reversed number is {}{}{}{}{}\".format(n,ln1,ln2,ln3,ln4,n4))\n",
    "else:\n",
    "    print(\"Please enter a 5 digit number\")\n",
    "    "
   ]
  },
  {
   "cell_type": "markdown",
   "id": "2ebf0c4c",
   "metadata": {},
   "source": [
    "***Q.8 If a four-digit number is input through the keyboard, write a program to obtain the sum of \n",
    "the first and last digit of this number.***"
   ]
  },
  {
   "cell_type": "code",
   "execution_count": 52,
   "id": "304bf8e0",
   "metadata": {},
   "outputs": [
    {
     "name": "stdout",
     "output_type": "stream",
     "text": [
      "Enter a 4 digit number :4629\n",
      "You entered a 4629 and and its first digit is (4) and last digit is (9) its sum is = 13\n"
     ]
    }
   ],
   "source": [
    "n=eval(input(\"Enter a 4 digit number :\"))\n",
    "if 1000<n<9999:\n",
    "    fd=n//1000\n",
    "    ld=n%10\n",
    "    print(\"You entered a {} and and its first digit is ({}) and last digit is ({}) its sum is = {}\".format(n,fd,ld,fd+ld))\n",
    "else:\n",
    "    print(\"Please enter a Four digit number\")"
   ]
  },
  {
   "cell_type": "markdown",
   "id": "1992e6a8",
   "metadata": {},
   "source": [
    "***Q.9 In a town, the percentage of men is 52. The percentage of total literacy is 48. If total \n",
    "percentage of literate men is 35 of the total population, write a program to find the total \n",
    "number of illiterate men and women if the population of the town is 80,000***"
   ]
  },
  {
   "cell_type": "code",
   "execution_count": 22,
   "id": "de3ba0bd",
   "metadata": {},
   "outputs": [
    {
     "name": "stdout",
     "output_type": "stream",
     "text": [
      "Total number of illiterate men: 13600\n",
      "Total number of illiterate women: 13600\n"
     ]
    }
   ],
   "source": [
    "\n",
    "total_population = 80000\n",
    "percentage_men = 52\n",
    "percentage_total_literacy = 48\n",
    "percentage_literate_men = 35\n",
    "\n",
    "total_men = (percentage_men / 100) * total_population #Mans population\n",
    "\n",
    "total_literate = (percentage_total_literacy / 100) * total_population #Literate people in town\n",
    "\n",
    "literate_men = (percentage_literate_men / 100) * total_population   #Litrate man\n",
    "\n",
    "total_women = total_population - total_men     #Woman Population in town\n",
    "\n",
    "illiterate_men = total_men - literate_men    #Illitrate man population\n",
    "\n",
    "literate_woman = total_literate - literate_men   #Litrate woman in town\n",
    "\n",
    "illiterate_women = total_women - literate_woman    #illitrate man in town\n",
    "\n",
    "print(\"Total number of illiterate men: {}\".format(round(illiterate_men)))\n",
    "print(\"Total number of illiterate women: {}\".format(round(illiterate_men)))\n"
   ]
  },
  {
   "cell_type": "markdown",
   "id": "02e14692",
   "metadata": {},
   "source": [
    "***Q.10 A cashier has currency notes of denominations 10, 50 and 100. If the amount to be \n",
    "withdrawn is input through the keyboard in hundreds, find the total number of currency \n",
    "notes of each denomination the cashier will have to give to the withdrawer.***"
   ]
  },
  {
   "cell_type": "code",
   "execution_count": 23,
   "id": "bd732211",
   "metadata": {},
   "outputs": [
    {
     "name": "stdout",
     "output_type": "stream",
     "text": [
      "Enter a Ammount to withrawl :3450\n",
      "You Need 34 Hundred notes , 1 fifty rupees notes and 0 ten rupees notes \n"
     ]
    }
   ],
   "source": [
    "try:\n",
    "    cash=eval(input(\"Enter a Ammount to withrawl :\"))\n",
    "    if cash%10==0:\n",
    "        hund=cash//100     #100 note to be given\n",
    "        rmng=cash%100\n",
    "        fifty=rmng//50\n",
    "        remng2=rmng%50\n",
    "        ten=remng2//10\n",
    "        print(\"You Need {} Hundred notes , {} fifty rupees notes and {} ten rupees notes \".format(hund,fifty,ten))\n",
    "    else:\n",
    "        print(\"Enter a number in pultipication of 10\")\n",
    "except Exception as e:\n",
    "    print(e)"
   ]
  },
  {
   "cell_type": "code",
   "execution_count": 61,
   "id": "29c5d774",
   "metadata": {},
   "outputs": [],
   "source": [
    "import time"
   ]
  },
  {
   "cell_type": "code",
   "execution_count": 64,
   "id": "3669ff27",
   "metadata": {},
   "outputs": [
    {
     "data": {
      "text/plain": [
       "['_STRUCT_TM_ITEMS',\n",
       " '__doc__',\n",
       " '__loader__',\n",
       " '__name__',\n",
       " '__package__',\n",
       " '__spec__',\n",
       " 'altzone',\n",
       " 'asctime',\n",
       " 'ctime',\n",
       " 'daylight',\n",
       " 'get_clock_info',\n",
       " 'gmtime',\n",
       " 'localtime',\n",
       " 'mktime',\n",
       " 'monotonic',\n",
       " 'monotonic_ns',\n",
       " 'perf_counter',\n",
       " 'perf_counter_ns',\n",
       " 'process_time',\n",
       " 'process_time_ns',\n",
       " 'sleep',\n",
       " 'strftime',\n",
       " 'strptime',\n",
       " 'struct_time',\n",
       " 'thread_time',\n",
       " 'thread_time_ns',\n",
       " 'time',\n",
       " 'time_ns',\n",
       " 'timezone',\n",
       " 'tzname']"
      ]
     },
     "execution_count": 64,
     "metadata": {},
     "output_type": "execute_result"
    }
   ],
   "source": [
    "dir(time)"
   ]
  },
  {
   "cell_type": "code",
   "execution_count": 65,
   "id": "744c0795",
   "metadata": {},
   "outputs": [
    {
     "data": {
      "text/plain": [
       "<function time.localtime>"
      ]
     },
     "execution_count": 65,
     "metadata": {},
     "output_type": "execute_result"
    }
   ],
   "source": [
    "time.localtime"
   ]
  },
  {
   "cell_type": "code",
   "execution_count": null,
   "id": "ba1fb0ea",
   "metadata": {},
   "outputs": [],
   "source": []
  }
 ],
 "metadata": {
  "kernelspec": {
   "display_name": "Python 3 (ipykernel)",
   "language": "python",
   "name": "python3"
  },
  "language_info": {
   "codemirror_mode": {
    "name": "ipython",
    "version": 3
   },
   "file_extension": ".py",
   "mimetype": "text/x-python",
   "name": "python",
   "nbconvert_exporter": "python",
   "pygments_lexer": "ipython3",
   "version": "3.11.5"
  }
 },
 "nbformat": 4,
 "nbformat_minor": 5
}
