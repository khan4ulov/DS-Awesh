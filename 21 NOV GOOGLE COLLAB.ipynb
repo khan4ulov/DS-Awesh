{
 "cells": [
  {
   "cell_type": "code",
   "execution_count": 1,
   "id": "751ca37c",
   "metadata": {},
   "outputs": [],
   "source": [
    "import os"
   ]
  },
  {
   "cell_type": "code",
   "execution_count": 3,
   "id": "ee42538c",
   "metadata": {},
   "outputs": [
    {
     "data": {
      "text/plain": [
       "'C:\\\\Users\\\\Administrator\\\\Desktop\\\\dATA sCIENCE AWESH'"
      ]
     },
     "execution_count": 3,
     "metadata": {},
     "output_type": "execute_result"
    }
   ],
   "source": [
    "os.getcwd()"
   ]
  },
  {
   "cell_type": "markdown",
   "id": "20b76773",
   "metadata": {},
   "source": [
    "**dictionary methods**"
   ]
  },
  {
   "cell_type": "markdown",
   "id": "4a260c81",
   "metadata": {},
   "source": [
    "$item-keys-values$"
   ]
  },
  {
   "cell_type": "code",
   "execution_count": 5,
   "id": "cdc1a90a",
   "metadata": {},
   "outputs": [
    {
     "data": {
      "text/plain": [
       "['__class__',\n",
       " '__class_getitem__',\n",
       " '__contains__',\n",
       " '__delattr__',\n",
       " '__delitem__',\n",
       " '__dir__',\n",
       " '__doc__',\n",
       " '__eq__',\n",
       " '__format__',\n",
       " '__ge__',\n",
       " '__getattribute__',\n",
       " '__getitem__',\n",
       " '__getstate__',\n",
       " '__gt__',\n",
       " '__hash__',\n",
       " '__init__',\n",
       " '__init_subclass__',\n",
       " '__ior__',\n",
       " '__iter__',\n",
       " '__le__',\n",
       " '__len__',\n",
       " '__lt__',\n",
       " '__ne__',\n",
       " '__new__',\n",
       " '__or__',\n",
       " '__reduce__',\n",
       " '__reduce_ex__',\n",
       " '__repr__',\n",
       " '__reversed__',\n",
       " '__ror__',\n",
       " '__setattr__',\n",
       " '__setitem__',\n",
       " '__sizeof__',\n",
       " '__str__',\n",
       " '__subclasshook__',\n",
       " 'clear',\n",
       " 'copy',\n",
       " 'fromkeys',\n",
       " 'get',\n",
       " 'items',\n",
       " 'keys',\n",
       " 'pop',\n",
       " 'popitem',\n",
       " 'setdefault',\n",
       " 'update',\n",
       " 'values']"
      ]
     },
     "execution_count": 5,
     "metadata": {},
     "output_type": "execute_result"
    }
   ],
   "source": [
    "dir({})"
   ]
  },
  {
   "cell_type": "code",
   "execution_count": 7,
   "id": "f1f36600",
   "metadata": {},
   "outputs": [],
   "source": [
    "d1= {'Ram':25,'Raheem':30,'Robert':3}"
   ]
  },
  {
   "cell_type": "code",
   "execution_count": 8,
   "id": "4349ed83",
   "metadata": {},
   "outputs": [
    {
     "data": {
      "text/plain": [
       "dict_items([('Ram', 25), ('Raheem', 30), ('Robert', 3)])"
      ]
     },
     "execution_count": 8,
     "metadata": {},
     "output_type": "execute_result"
    }
   ],
   "source": [
    "d1.items()"
   ]
  },
  {
   "cell_type": "code",
   "execution_count": 30,
   "id": "90b9e167",
   "metadata": {},
   "outputs": [],
   "source": [
    "a=d1.items()\n",
    "lista=list(a)"
   ]
  },
  {
   "cell_type": "code",
   "execution_count": 32,
   "id": "e723b50e",
   "metadata": {},
   "outputs": [
    {
     "name": "stdout",
     "output_type": "stream",
     "text": [
      "<class 'dict_items'>\n",
      "<class 'list'>\n"
     ]
    }
   ],
   "source": [
    "print(type(a))\n",
    "print(type(lista))"
   ]
  },
  {
   "cell_type": "code",
   "execution_count": 34,
   "id": "19ab11c3",
   "metadata": {},
   "outputs": [
    {
     "name": "stdout",
     "output_type": "stream",
     "text": [
      "dict_keys(['Ram', 'Raheem', 'Robert'])\n",
      "<class 'dict_keys'>\n"
     ]
    }
   ],
   "source": [
    "b=d1.keys()\n",
    "listb=list(b)\n",
    "print(b)\n",
    "print(type(b))"
   ]
  },
  {
   "cell_type": "code",
   "execution_count": 35,
   "id": "a48ddfac",
   "metadata": {},
   "outputs": [],
   "source": [
    "c=d1.values()\n",
    "listc=list(c)"
   ]
  },
  {
   "cell_type": "code",
   "execution_count": 19,
   "id": "956a2d81",
   "metadata": {},
   "outputs": [
    {
     "name": "stdout",
     "output_type": "stream",
     "text": [
      "dict_items([('Ram', 25), ('Raheem', 30), ('Robert', 3)])\n",
      "<class 'dict_values'>\n"
     ]
    }
   ],
   "source": [
    "print(a)\n",
    "print(type(c))"
   ]
  },
  {
   "cell_type": "code",
   "execution_count": 37,
   "id": "f14def86",
   "metadata": {},
   "outputs": [
    {
     "data": {
      "text/plain": [
       "{'Ram': 25, 'Raheem': 30, 'Robert': 3}"
      ]
     },
     "execution_count": 37,
     "metadata": {},
     "output_type": "execute_result"
    }
   ],
   "source": [
    "dict1=dict(zip(listb,listc))\n",
    "dict1"
   ]
  },
  {
   "cell_type": "code",
   "execution_count": 40,
   "id": "a0f4abc6",
   "metadata": {},
   "outputs": [],
   "source": [
    "d1.clear()"
   ]
  },
  {
   "cell_type": "code",
   "execution_count": 60,
   "id": "360ec7c0",
   "metadata": {},
   "outputs": [],
   "source": [
    "s1='virat.kohli@blr.com,Rohit.sharma@mumbai.com,kl.rahul@lucknow.com'\n",
    "l1=s1.split(',')"
   ]
  },
  {
   "cell_type": "code",
   "execution_count": 61,
   "id": "4c8cf8c0",
   "metadata": {},
   "outputs": [
    {
     "data": {
      "text/plain": [
       "['virat.kohli@blr.com', 'Rohit.sharma@mumbai.com', 'kl.rahul@lucknow.com']"
      ]
     },
     "execution_count": 61,
     "metadata": {},
     "output_type": "execute_result"
    }
   ],
   "source": [
    "l1"
   ]
  },
  {
   "cell_type": "code",
   "execution_count": 74,
   "id": "f06d965b",
   "metadata": {},
   "outputs": [
    {
     "name": "stdout",
     "output_type": "stream",
     "text": [
      "['virat', 'Rohit', 'kl']\n"
     ]
    }
   ],
   "source": [
    "fn=[]\n",
    "for i in l1:\n",
    "    f_name=i[:i.find('.')]\n",
    "    l2.append(f_name)\n",
    "    \n",
    "print(l2)"
   ]
  },
  {
   "cell_type": "code",
   "execution_count": 89,
   "id": "0704e962",
   "metadata": {},
   "outputs": [
    {
     "name": "stdout",
     "output_type": "stream",
     "text": [
      "['kohli', 'sharma', 'rahul']\n"
     ]
    }
   ],
   "source": [
    "ln=[]\n",
    "for i in l1:\n",
    "    sn=i[i.find('.')+1:i.find(\"@\")]\n",
    "    ln.append(sn)\n",
    "print(ln)"
   ]
  },
  {
   "cell_type": "code",
   "execution_count": 123,
   "id": "3d94ecdd",
   "metadata": {},
   "outputs": [
    {
     "name": "stdout",
     "output_type": "stream",
     "text": [
      "blr.com\n",
      "blr\n",
      "mumbai.com\n",
      "mumbai\n",
      "lucknow.com\n",
      "lucknow\n",
      "['blr', 'mumbai', 'lucknow']\n"
     ]
    }
   ],
   "source": [
    "cn=[]\n",
    "for i in l1:\n",
    "    a=i[i.find('@')+1:]\n",
    "    print(a)\n",
    "    b=a[:a.find('.')]\n",
    "    print(b)\n",
    "    cn.append(b)\n",
    "print(cn)\n"
   ]
  },
  {
   "cell_type": "code",
   "execution_count": 108,
   "id": "5a532fda",
   "metadata": {},
   "outputs": [],
   "source": [
    "str1='can can you canner can you able to can cancer'"
   ]
  },
  {
   "cell_type": "code",
   "execution_count": 109,
   "id": "a7308216",
   "metadata": {},
   "outputs": [
    {
     "data": {
      "text/plain": [
       "['can', 'can', 'you', 'canner', 'can', 'you', 'able', 'to', 'can', 'cancer']"
      ]
     },
     "execution_count": 109,
     "metadata": {},
     "output_type": "execute_result"
    }
   ],
   "source": [
    "list1=str1.split(' ')\n",
    "list1"
   ]
  },
  {
   "cell_type": "code",
   "execution_count": 111,
   "id": "e56f87a4",
   "metadata": {},
   "outputs": [
    {
     "name": "stdout",
     "output_type": "stream",
     "text": [
      "{'can': 4, 'you': 2, 'canner': 1, 'able': 1, 'to': 1}\n"
     ]
    }
   ],
   "source": [
    "for i in list1:\n",
    "    b=list1.count('can')\n",
    "    c=list1.count('you')\n",
    "    d=list1.count('canner')\n",
    "    e=list1.count('able')\n",
    "    f=list1.count('to')\n",
    "dict1={'can':b,'you':c,'canner':d,'able':e,'to':f}\n",
    "print(dict1)"
   ]
  },
  {
   "cell_type": "code",
   "execution_count": 122,
   "id": "65ef107a",
   "metadata": {},
   "outputs": [
    {
     "name": "stdout",
     "output_type": "stream",
     "text": [
      "{'can': 4, 'you': 2, 'canner': 1, 'able': 1, 'to': 1, 'cancer': 1}\n"
     ]
    }
   ],
   "source": [
    "dic={}\n",
    "for i in list1:\n",
    "    dic [i] =list1.count(i)\n",
    "print(dic)   "
   ]
  },
  {
   "cell_type": "code",
   "execution_count": 135,
   "id": "58924b50",
   "metadata": {},
   "outputs": [
    {
     "data": {
      "text/plain": [
       "['a', 'b', 'c']"
      ]
     },
     "execution_count": 135,
     "metadata": {},
     "output_type": "execute_result"
    }
   ],
   "source": [
    "d1={'a':20,'b':30,'c':40}\n",
    "d2={'a':50,'b':150,'c':200}\n",
    "\n",
    "keys=list(d1.keys())\n",
    "keys"
   ]
  },
  {
   "cell_type": "code",
   "execution_count": 128,
   "id": "36dbdb4b",
   "metadata": {},
   "outputs": [],
   "source": [
    "values1=list(d1.values())\n",
    "values2=list(d2.values())"
   ]
  },
  {
   "cell_type": "code",
   "execution_count": 134,
   "id": "d579e082",
   "metadata": {},
   "outputs": [
    {
     "data": {
      "text/plain": [
       "[70, 180, 240]"
      ]
     },
     "execution_count": 134,
     "metadata": {},
     "output_type": "execute_result"
    }
   ],
   "source": [
    "nl=[]\n",
    "for i,j in zip(values1,values2):\n",
    "    nl.append(i+j)\n",
    "nl"
   ]
  },
  {
   "cell_type": "code",
   "execution_count": 137,
   "id": "30e068f1",
   "metadata": {},
   "outputs": [
    {
     "name": "stdout",
     "output_type": "stream",
     "text": [
      "{'a': 70, 'b': 180, 'c': 240}\n"
     ]
    }
   ],
   "source": [
    "dic1=dict(zip(keys,nl))\n",
    "print(dic1)"
   ]
  },
  {
   "cell_type": "code",
   "execution_count": 142,
   "id": "8f2343d9",
   "metadata": {},
   "outputs": [
    {
     "data": {
      "text/plain": [
       "{'a': 70, 'b': 180, 'c': 240}"
      ]
     },
     "execution_count": 142,
     "metadata": {},
     "output_type": "execute_result"
    }
   ],
   "source": [
    "d1={'a':20,'b':30,'c':40}\n",
    "d2={'a':50,'b':150,'c':200}\n",
    "d3={}\n",
    "for i in d1:\n",
    "    d3[i] =d1[i]+d2[i]\n",
    "d3"
   ]
  },
  {
   "cell_type": "code",
   "execution_count": 143,
   "id": "4322c85a",
   "metadata": {},
   "outputs": [
    {
     "data": {
      "text/plain": [
       "[70, 180]"
      ]
     },
     "execution_count": 143,
     "metadata": {},
     "output_type": "execute_result"
    }
   ],
   "source": [
    "d1={'a':20,'b':30,'c':40}\n",
    "d2={'a':50,'b':150,}\n",
    "keys=list(d1.keys())\n",
    "values1=list(d1.values())\n",
    "values2=list(d2.values())\n",
    "nl=[]\n",
    "for i,j in zip(values1,values2):\n",
    "    nl.append(i+j)\n",
    "nl"
   ]
  },
  {
   "cell_type": "code",
   "execution_count": 144,
   "id": "4f1d28d6",
   "metadata": {},
   "outputs": [
    {
     "name": "stdout",
     "output_type": "stream",
     "text": [
      "{'a': 70, 'b': 180}\n"
     ]
    }
   ],
   "source": [
    "dic={}\n",
    "for i in d1"
   ]
  },
  {
   "cell_type": "code",
   "execution_count": 146,
   "id": "d421fdf4",
   "metadata": {},
   "outputs": [],
   "source": [
    "d1={'a':20,'b':30,'c':40}\n",
    "d2={'a':50,'b':150}\n",
    "d3={}\n",
    "if len(d1)>"
   ]
  },
  {
   "cell_type": "code",
   "execution_count": 147,
   "id": "88a5e13f",
   "metadata": {},
   "outputs": [
    {
     "data": {
      "text/plain": [
       "3"
      ]
     },
     "execution_count": 147,
     "metadata": {},
     "output_type": "execute_result"
    }
   ],
   "source": []
  },
  {
   "cell_type": "code",
   "execution_count": null,
   "id": "1f9272e6",
   "metadata": {},
   "outputs": [],
   "source": []
  }
 ],
 "metadata": {
  "kernelspec": {
   "display_name": "Python 3 (ipykernel)",
   "language": "python",
   "name": "python3"
  },
  "language_info": {
   "codemirror_mode": {
    "name": "ipython",
    "version": 3
   },
   "file_extension": ".py",
   "mimetype": "text/x-python",
   "name": "python",
   "nbconvert_exporter": "python",
   "pygments_lexer": "ipython3",
   "version": "3.11.5"
  }
 },
 "nbformat": 4,
 "nbformat_minor": 5
}
