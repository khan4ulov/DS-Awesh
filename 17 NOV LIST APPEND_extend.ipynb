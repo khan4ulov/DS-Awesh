{
 "cells": [
  {
   "cell_type": "code",
   "execution_count": 1,
   "id": "b6056d91",
   "metadata": {},
   "outputs": [],
   "source": [
    "list1=[100,200,300]\n",
    "list1.append([100,200])"
   ]
  },
  {
   "cell_type": "code",
   "execution_count": 2,
   "id": "8aacca44",
   "metadata": {},
   "outputs": [
    {
     "data": {
      "text/plain": [
       "[100, 200, 300, [100, 200]]"
      ]
     },
     "execution_count": 2,
     "metadata": {},
     "output_type": "execute_result"
    }
   ],
   "source": [
    "list1"
   ]
  },
  {
   "cell_type": "code",
   "execution_count": 3,
   "id": "cfbcae60",
   "metadata": {},
   "outputs": [
    {
     "data": {
      "text/plain": [
       "[100, 200, 300, [100, 200], 'apple']"
      ]
     },
     "execution_count": 3,
     "metadata": {},
     "output_type": "execute_result"
    }
   ],
   "source": [
    "list1.append('apple')\n",
    "list1"
   ]
  },
  {
   "cell_type": "code",
   "execution_count": 4,
   "id": "b508ff0e",
   "metadata": {},
   "outputs": [],
   "source": [
    "list1=[1,2,3,4,5]\n",
    "# sqaure of the list"
   ]
  },
  {
   "cell_type": "code",
   "execution_count": 5,
   "id": "adf2949c",
   "metadata": {},
   "outputs": [
    {
     "name": "stdout",
     "output_type": "stream",
     "text": [
      "[1, 4, 9, 16, 25]\n"
     ]
    }
   ],
   "source": [
    "list1=[1,2,3,4,5]\n",
    "output=[]\n",
    "for i in list1:\n",
    "    output.append(i*i)\n",
    "print(output)"
   ]
  },
  {
   "cell_type": "code",
   "execution_count": 19,
   "id": "594ee115",
   "metadata": {},
   "outputs": [
    {
     "data": {
      "text/plain": [
       "['Hyd', 'Bengaluru', 'Delhi']"
      ]
     },
     "execution_count": 19,
     "metadata": {},
     "output_type": "execute_result"
    }
   ],
   "source": [
    "list2=['hyd','bengaluru','delhi']\n",
    "List2=[]\n",
    "for i in list2:\n",
    "    List2.append(i.capitalize())\n",
    "List2"
   ]
  },
  {
   "cell_type": "code",
   "execution_count": 27,
   "id": "9609493e",
   "metadata": {},
   "outputs": [
    {
     "data": {
      "text/plain": [
       "['Hyd', 'Bengaluru', 'Delhi']"
      ]
     },
     "execution_count": 27,
     "metadata": {},
     "output_type": "execute_result"
    }
   ],
   "source": [
    "list3=['hyd','bengaluru','delhi']\n",
    "List3=[]\n",
    "for i in range(len(list3)):\n",
    "    List3.append(list3[i].capitalize())\n",
    "List3"
   ]
  },
  {
   "cell_type": "code",
   "execution_count": 58,
   "id": "9def68b0",
   "metadata": {},
   "outputs": [
    {
     "data": {
      "text/plain": [
       "['hy#d', 'benga#luru']"
      ]
     },
     "execution_count": 58,
     "metadata": {},
     "output_type": "execute_result"
    }
   ],
   "source": [
    "list4=['hy#d','benga#luru','delhi']\n",
    "out=[]\n",
    "for i in list4:\n",
    "    if '#' in i:\n",
    "        out.append(i)\n",
    "out"
   ]
  },
  {
   "cell_type": "markdown",
   "id": "2825002a",
   "metadata": {},
   "source": [
    "**list comprehension**"
   ]
  },
  {
   "cell_type": "code",
   "execution_count": null,
   "id": "9b3e1cfa",
   "metadata": {},
   "outputs": [],
   "source": [
    "# code in single line======> speed the process\n",
    "list1=[1,2,3,4,5]   #input\n",
    "output=[]\n",
    "for i in list1:\n",
    "    output.append(i*i)\n",
    "print(output)\n",
    "\n",
    "\n",
    "\n"
   ]
  },
  {
   "cell_type": "code",
   "execution_count": 60,
   "id": "02f09de3",
   "metadata": {},
   "outputs": [
    {
     "data": {
      "text/plain": [
       "['Hyd', 'Bengaluru', 'Delhi']"
      ]
     },
     "execution_count": 60,
     "metadata": {},
     "output_type": "execute_result"
    }
   ],
   "source": [
    "list2=['hyd','bengaluru','delhi']\n",
    "List2=[]\n",
    "for i in list2:\n",
    "    List2.append(i.capitalize())\n",
    "List2"
   ]
  },
  {
   "cell_type": "code",
   "execution_count": 63,
   "id": "3a5c8c0e",
   "metadata": {},
   "outputs": [
    {
     "data": {
      "text/plain": [
       "['Hyd', 'Bengaluru', 'Delhi']"
      ]
     },
     "execution_count": 63,
     "metadata": {},
     "output_type": "execute_result"
    }
   ],
   "source": [
    "output2=[i.capitalize() for i in list2]\n",
    "output2"
   ]
  },
  {
   "cell_type": "code",
   "execution_count": null,
   "id": "f7257586",
   "metadata": {},
   "outputs": [],
   "source": [
    "#create the list of 20 numbers from 1 20"
   ]
  },
  {
   "cell_type": "code",
   "execution_count": 72,
   "id": "e212730d",
   "metadata": {},
   "outputs": [
    {
     "name": "stdout",
     "output_type": "stream",
     "text": [
      "1, 2, 3, 4, 5, 6, 7, 8, 9, 10, 11, 12, 13, 14, 15, 16, 17, 18, 19, 20, "
     ]
    },
    {
     "data": {
      "text/plain": [
       "[1, 2, 3, 4, 5, 6, 7, 8, 9, 10, 11, 12, 13, 14, 15, 16, 17, 18, 19, 20]"
      ]
     },
     "execution_count": 72,
     "metadata": {},
     "output_type": "execute_result"
    }
   ],
   "source": [
    "#Method 1\n",
    "for i in range(1,21):\n",
    "    print(i, end=', ')\n",
    "\n",
    "#Method 2\n",
    "listn=[]\n",
    "for i in range(1,21):\n",
    "    listn.append(i)\n",
    "listn"
   ]
  },
  {
   "cell_type": "code",
   "execution_count": 68,
   "id": "dfac1187",
   "metadata": {},
   "outputs": [
    {
     "data": {
      "text/plain": [
       "[1, 2, 3, 4, 5, 6, 7, 8, 9, 10, 11, 12, 13, 14, 15, 16, 17, 18, 19, 20]"
      ]
     },
     "execution_count": 68,
     "metadata": {},
     "output_type": "execute_result"
    }
   ],
   "source": [
    "#Method 3\n",
    "listb=[i for i in range(1,21)]\n",
    "listb"
   ]
  },
  {
   "cell_type": "code",
   "execution_count": 73,
   "id": "8e5b5ffd",
   "metadata": {},
   "outputs": [
    {
     "data": {
      "text/plain": [
       "['hy#d', 'benga#luru']"
      ]
     },
     "execution_count": 73,
     "metadata": {},
     "output_type": "execute_result"
    }
   ],
   "source": [
    "#find #\n",
    "#Method 1\n",
    "list4=['hy#d','benga#luru','delhi']\n",
    "out=[]\n",
    "for i in list4:\n",
    "    if '#' in i:\n",
    "        out.append(i)\n",
    "out"
   ]
  },
  {
   "cell_type": "code",
   "execution_count": 75,
   "id": "647b828e",
   "metadata": {},
   "outputs": [
    {
     "data": {
      "text/plain": [
       "['hy#d', 'benga#luru']"
      ]
     },
     "execution_count": 75,
     "metadata": {},
     "output_type": "execute_result"
    }
   ],
   "source": [
    "#in one line code\n",
    "# stntax   output=[output, for loop, if condtion ]\n",
    "output1=[i for i in list4 if '#' in i]\n",
    "output1"
   ]
  },
  {
   "cell_type": "code",
   "execution_count": 77,
   "id": "6c0c114d",
   "metadata": {},
   "outputs": [
    {
     "name": "stdout",
     "output_type": "stream",
     "text": [
      "ac\n",
      "a\n"
     ]
    }
   ],
   "source": [
    "list4=['abcd','abc','ac','a']\n",
    "#elemnts are less then 3\n",
    "for i in list4:\n",
    "    if len(i)<3:\n",
    "        print(i)"
   ]
  },
  {
   "cell_type": "code",
   "execution_count": 82,
   "id": "387816e4",
   "metadata": {},
   "outputs": [
    {
     "name": "stdout",
     "output_type": "stream",
     "text": [
      "UUU\n",
      "UUU\n"
     ]
    },
    {
     "data": {
      "text/plain": [
       "['ac', 'a']"
      ]
     },
     "execution_count": 82,
     "metadata": {},
     "output_type": "execute_result"
    }
   ],
   "source": [
    "list4=['abcd','abc','ac','a']\n",
    "List4=[]\n",
    "#elemnts are less then 3\n",
    "for i in list4:\n",
    "    if len(i)<3:\n",
    "        List4.append(i)\n",
    "\n",
    "List4"
   ]
  },
  {
   "cell_type": "code",
   "execution_count": 81,
   "id": "6b33a7a1",
   "metadata": {},
   "outputs": [
    {
     "data": {
      "text/plain": [
       "['ac', 'a']"
      ]
     },
     "execution_count": 81,
     "metadata": {},
     "output_type": "execute_result"
    }
   ],
   "source": [
    "outtt=[i for i in list4 if len(i)<3]\n",
    "outtt"
   ]
  },
  {
   "cell_type": "code",
   "execution_count": 85,
   "id": "4f82cda2",
   "metadata": {},
   "outputs": [
    {
     "data": {
      "text/plain": [
       "['Odd: 1', 'Even: 2', 'Odd: 3', 'Even: 4', 'Odd: 5', 'Even: 6']"
      ]
     },
     "execution_count": 85,
     "metadata": {},
     "output_type": "execute_result"
    }
   ],
   "source": [
    "list1=[1,2,3,4,5,6]\n",
    "output=[]\n",
    "for i in list1:\n",
    "    if i%2==0:\n",
    "        output.append(\"Even: {}\".format(i))\n",
    "    else:\n",
    "        output.append(\"Odd: {}\".format(i))\n",
    "output"
   ]
  },
  {
   "cell_type": "code",
   "execution_count": 88,
   "id": "8c131bd9",
   "metadata": {},
   "outputs": [
    {
     "data": {
      "text/plain": [
       "['Odd: 1', 'Even: 2', 'Odd: 3', 'Even: 4', 'Odd: 5', 'Even: 6']"
      ]
     },
     "execution_count": 88,
     "metadata": {},
     "output_type": "execute_result"
    }
   ],
   "source": [
    "# syntax for if and else condition with for loop\n",
    "# [<if_output> if condition else <else output> <for loop>]\n",
    "outt=[\"Even: {}\".format(i) if i%2==0 else \"Odd: {}\".format(i) for i in list1 ]\n",
    "outt"
   ]
  },
  {
   "cell_type": "code",
   "execution_count": 89,
   "id": "601afa65",
   "metadata": {},
   "outputs": [
    {
     "data": {
      "text/plain": [
       "3"
      ]
     },
     "execution_count": 89,
     "metadata": {},
     "output_type": "execute_result"
    }
   ],
   "source": [
    "list1=[1,2,3,'A','B','B','B','C']\n",
    "list1.count(\"B\")"
   ]
  },
  {
   "cell_type": "markdown",
   "id": "e2875805",
   "metadata": {},
   "source": [
    "***extend***"
   ]
  },
  {
   "cell_type": "code",
   "execution_count": 90,
   "id": "2476620a",
   "metadata": {},
   "outputs": [
    {
     "data": {
      "text/plain": [
       "['a', 'b', 'c', 1, 2, 3]"
      ]
     },
     "execution_count": 90,
     "metadata": {},
     "output_type": "execute_result"
    }
   ],
   "source": [
    "list1=['a','b','c']\n",
    "list2=[1,2,3]\n",
    "list1.extend(list2)\n",
    "list1"
   ]
  },
  {
   "cell_type": "code",
   "execution_count": 92,
   "id": "0c918126",
   "metadata": {},
   "outputs": [],
   "source": [
    "list3=[4,5,6]"
   ]
  },
  {
   "cell_type": "code",
   "execution_count": 95,
   "id": "46bfb4fb",
   "metadata": {},
   "outputs": [],
   "source": [
    "list1=list1+list3"
   ]
  },
  {
   "cell_type": "code",
   "execution_count": 6,
   "id": "99ba44bf",
   "metadata": {},
   "outputs": [
    {
     "data": {
      "text/plain": [
       "['Who is PM of India',\n",
       " 'What is the capital of India',\n",
       " 'Who is the president of India']"
      ]
     },
     "execution_count": 6,
     "metadata": {},
     "output_type": "execute_result"
    }
   ],
   "source": [
    "list1"
   ]
  },
  {
   "cell_type": "code",
   "execution_count": 97,
   "id": "b4d506f1",
   "metadata": {},
   "outputs": [],
   "source": [
    "list2=[1,2,3]"
   ]
  },
  {
   "cell_type": "markdown",
   "id": "72917fcc",
   "metadata": {},
   "source": [
    "***append vs extend vs concat***"
   ]
  },
  {
   "cell_type": "markdown",
   "id": "99f8b4b7",
   "metadata": {},
   "source": [
    "- append will ad the elment at last, that element can be any type  \n",
    "    - list 1= [1,2,3]\n",
    "    - list 2 = [ 'a','b']\n",
    "    - list1.append(list2)\n",
    "    - ***Output=[1,2,3,[ 'a','b']]***\n",
    "- Extend will update list by adding new elments, the result als save in sam elist\n",
    "    - list 1= [1,2,3]\n",
    "    - list 2 = [ 'a','b']\n",
    "    - list1.extend(list2)\n",
    "    - ***Output=[1,2,3,'a','b']***\n",
    "- concat will ad two list , but the result will not update in same list\n",
    "    - list 1= [1,2,3]\n",
    "    - list 2 = [ 'a','b']\n",
    "    - list3= list1+list2\n",
    "    - - ***Output=[1,2,3,'a','b']***\n",
    "    \n",
    "    "
   ]
  },
  {
   "cell_type": "markdown",
   "id": "f582006e",
   "metadata": {},
   "source": [
    "### iterator"
   ]
  },
  {
   "cell_type": "markdown",
   "id": "7b2771e1",
   "metadata": {},
   "source": [
    "- iterator word ======. loop\n",
    "- the elments we can print using for loop\n",
    "- string='python' we can print each letter for using for loop\n",
    "- list1=[1,2,3] we can print each elment using for loop"
   ]
  },
  {
   "cell_type": "code",
   "execution_count": 110,
   "id": "22cd5c95",
   "metadata": {},
   "outputs": [
    {
     "data": {
      "text/plain": [
       "<reversed at 0x2c189697400>"
      ]
     },
     "execution_count": 110,
     "metadata": {},
     "output_type": "execute_result"
    }
   ],
   "source": [
    "val=reversed('python')\n",
    "val"
   ]
  },
  {
   "cell_type": "code",
   "execution_count": 111,
   "id": "87f3c0d9",
   "metadata": {},
   "outputs": [
    {
     "name": "stdout",
     "output_type": "stream",
     "text": [
      "n\n",
      "o\n",
      "h\n",
      "t\n",
      "y\n",
      "p\n"
     ]
    }
   ],
   "source": [
    "for i in val:\n",
    "    print(i)"
   ]
  },
  {
   "cell_type": "code",
   "execution_count": 112,
   "id": "6b3e4cba",
   "metadata": {},
   "outputs": [
    {
     "data": {
      "text/plain": [
       "[1, 2, 3, 'p', 'y', 't', 'h', 'o', 'n']"
      ]
     },
     "execution_count": 112,
     "metadata": {},
     "output_type": "execute_result"
    }
   ],
   "source": [
    "list1=[1,2,3]\n",
    "list1.extend('python')\n",
    "list1"
   ]
  },
  {
   "cell_type": "code",
   "execution_count": 113,
   "id": "a131fa8b",
   "metadata": {},
   "outputs": [
    {
     "data": {
      "text/plain": [
       "[1, 2, 3, 'p', 'y', 't', 'h', 'o', 'n', 'python']"
      ]
     },
     "execution_count": 113,
     "metadata": {},
     "output_type": "execute_result"
    }
   ],
   "source": [
    "list1.append('python')\n",
    "list1"
   ]
  },
  {
   "cell_type": "markdown",
   "id": "4ca076b1",
   "metadata": {},
   "source": [
    "***pop-remove-del***"
   ]
  },
  {
   "cell_type": "code",
   "execution_count": 121,
   "id": "8d560919",
   "metadata": {},
   "outputs": [
    {
     "data": {
      "text/plain": [
       "'python'"
      ]
     },
     "execution_count": 121,
     "metadata": {},
     "output_type": "execute_result"
    }
   ],
   "source": [
    "list1=[1, 2, 3, 'p', 'y', 't', 'h', 'o', 'n', 'python']\n",
    "list1.pop()\n",
    "#inside bracket default argument is there index = -1\n",
    "# if you not provide any value it will remove last value"
   ]
  },
  {
   "cell_type": "code",
   "execution_count": 122,
   "id": "ddd5d94c",
   "metadata": {},
   "outputs": [
    {
     "data": {
      "text/plain": [
       "[1, 2, 3, 'p', 'y', 't', 'h', 'o', 'n']"
      ]
     },
     "execution_count": 122,
     "metadata": {},
     "output_type": "execute_result"
    }
   ],
   "source": [
    "list1"
   ]
  },
  {
   "cell_type": "code",
   "execution_count": 123,
   "id": "2f705fca",
   "metadata": {},
   "outputs": [
    {
     "data": {
      "text/plain": [
       "'y'"
      ]
     },
     "execution_count": 123,
     "metadata": {},
     "output_type": "execute_result"
    }
   ],
   "source": [
    "list1.pop(4)"
   ]
  },
  {
   "cell_type": "code",
   "execution_count": 124,
   "id": "24e98e77",
   "metadata": {},
   "outputs": [
    {
     "data": {
      "text/plain": [
       "[1, 2, 3, 'p', 't', 'h', 'o', 'n']"
      ]
     },
     "execution_count": 124,
     "metadata": {},
     "output_type": "execute_result"
    }
   ],
   "source": [
    "list1"
   ]
  },
  {
   "cell_type": "code",
   "execution_count": 130,
   "id": "94fad668",
   "metadata": {},
   "outputs": [
    {
     "data": {
      "text/plain": [
       "[1, 3, 100, 2, 'p', 'y', 't', 'h', 'o', 'n', 'python']"
      ]
     },
     "execution_count": 130,
     "metadata": {},
     "output_type": "execute_result"
    }
   ],
   "source": [
    "list1=[100, 1, 3, 100,2,'p', 'y', 't', 'h', 'o', 'n', 'python']   #Duplicated are allowed\n",
    "list1.remove(100)     #delete first value   #Takes value\n",
    "list1                 #takes one arguments"
   ]
  },
  {
   "cell_type": "code",
   "execution_count": 128,
   "id": "32cb7d3f",
   "metadata": {},
   "outputs": [
    {
     "ename": "TypeError",
     "evalue": "list.remove() takes exactly one argument (0 given)",
     "output_type": "error",
     "traceback": [
      "\u001b[1;31m---------------------------------------------------------------------------\u001b[0m",
      "\u001b[1;31mTypeError\u001b[0m                                 Traceback (most recent call last)",
      "Cell \u001b[1;32mIn[128], line 2\u001b[0m\n\u001b[0;32m      1\u001b[0m list1\u001b[38;5;241m=\u001b[39m[\u001b[38;5;241m100\u001b[39m, \u001b[38;5;241m1\u001b[39m, \u001b[38;5;241m3\u001b[39m, \u001b[38;5;241m100\u001b[39m,\u001b[38;5;241m2\u001b[39m,\u001b[38;5;124m'\u001b[39m\u001b[38;5;124mp\u001b[39m\u001b[38;5;124m'\u001b[39m, \u001b[38;5;124m'\u001b[39m\u001b[38;5;124my\u001b[39m\u001b[38;5;124m'\u001b[39m, \u001b[38;5;124m'\u001b[39m\u001b[38;5;124mt\u001b[39m\u001b[38;5;124m'\u001b[39m, \u001b[38;5;124m'\u001b[39m\u001b[38;5;124mh\u001b[39m\u001b[38;5;124m'\u001b[39m, \u001b[38;5;124m'\u001b[39m\u001b[38;5;124mo\u001b[39m\u001b[38;5;124m'\u001b[39m, \u001b[38;5;124m'\u001b[39m\u001b[38;5;124mn\u001b[39m\u001b[38;5;124m'\u001b[39m, \u001b[38;5;124m'\u001b[39m\u001b[38;5;124mpython\u001b[39m\u001b[38;5;124m'\u001b[39m]   \u001b[38;5;66;03m#Duplicated are allowed\u001b[39;00m\n\u001b[1;32m----> 2\u001b[0m list1\u001b[38;5;241m.\u001b[39mremove()     \u001b[38;5;66;03m#delete first value\u001b[39;00m\n\u001b[0;32m      3\u001b[0m list1\n",
      "\u001b[1;31mTypeError\u001b[0m: list.remove() takes exactly one argument (0 given)"
     ]
    }
   ],
   "source": [
    "list1=[100, 1, 3, 100,2,'p', 'y', 't', 'h', 'o', 'n', 'python']   #Duplicated are allowed\n",
    "list1.remove()     #delete first value\n",
    "list1               #"
   ]
  },
  {
   "cell_type": "code",
   "execution_count": 133,
   "id": "a2040e5b",
   "metadata": {},
   "outputs": [
    {
     "data": {
      "text/plain": [
       "[100, 5, 3, 100, 5, 'y', 't', 'h', 'o', 'n', 'python']"
      ]
     },
     "execution_count": 133,
     "metadata": {},
     "output_type": "execute_result"
    }
   ],
   "source": [
    "list1=[100, 5, 3, 100,5,'p', 'y', 't', 'h', 'o', 'n', 'python']  #del is a keyword\n",
    "del list1[5]         #it takes index\n",
    "list1"
   ]
  },
  {
   "cell_type": "markdown",
   "id": "2877f13e",
   "metadata": {},
   "source": [
    "- index\n",
    "- insert\n",
    "- reverse ============= revesed\n",
    "- sort ================= sorted"
   ]
  },
  {
   "cell_type": "code",
   "execution_count": 136,
   "id": "68f5f8d3",
   "metadata": {},
   "outputs": [
    {
     "data": {
      "text/plain": [
       "[100, 5, 3, 1, 100, 5, 'p', 'y', 't', 'h', 'o', 'n', 'python']"
      ]
     },
     "execution_count": 136,
     "metadata": {},
     "output_type": "execute_result"
    }
   ],
   "source": [
    "list1=[100, 5, 3, 1,100,5,'p', 'y', 't', 'h', 'o', 'n', 'python']\n",
    "list1.index(1)\n",
    "list1"
   ]
  },
  {
   "cell_type": "code",
   "execution_count": 148,
   "id": "c19e1f10",
   "metadata": {},
   "outputs": [
    {
     "data": {
      "text/plain": [
       "0"
      ]
     },
     "execution_count": 148,
     "metadata": {},
     "output_type": "execute_result"
    }
   ],
   "source": [
    "list1=[100,200,300,100,400,500,'python']  #index will give value of index\n",
    "list1.index(100)"
   ]
  },
  {
   "cell_type": "code",
   "execution_count": 151,
   "id": "ae051f69",
   "metadata": {},
   "outputs": [
    {
     "data": {
      "text/plain": [
       "3"
      ]
     },
     "execution_count": 151,
     "metadata": {},
     "output_type": "execute_result"
    }
   ],
   "source": [
    "list1=[100,200,300,100,400,500,'python']  #index will give value of index\n",
    "list1.index(100,1)     #sytax index(<value>, starting value, end value)"
   ]
  },
  {
   "cell_type": "code",
   "execution_count": 153,
   "id": "06140de8",
   "metadata": {},
   "outputs": [
    {
     "data": {
      "text/plain": [
       "[100, 200, 300, 100, 200, 400, 500, 'python']"
      ]
     },
     "execution_count": 153,
     "metadata": {},
     "output_type": "execute_result"
    }
   ],
   "source": [
    "list1=[100,200,300,100,400,500,'python']\n",
    "list1.insert(4,200)   # assign a new value in given index\n",
    "list1"
   ]
  },
  {
   "cell_type": "code",
   "execution_count": 166,
   "id": "e622dec6",
   "metadata": {},
   "outputs": [
    {
     "name": "stdout",
     "output_type": "stream",
     "text": [
      "python\n",
      "500\n",
      "400\n",
      "100\n",
      "300\n",
      "200\n",
      "100\n"
     ]
    }
   ],
   "source": [
    "list1=[100,200,300,100,400,500,'python']\n",
    "for i in reversed(list1):\n",
    "    print(i)"
   ]
  },
  {
   "cell_type": "code",
   "execution_count": 165,
   "id": "84c971ab",
   "metadata": {},
   "outputs": [
    {
     "name": "stdout",
     "output_type": "stream",
     "text": [
      "['python', 500, 400, 100, 300, 200, 100]\n",
      "['python', 500, 400, 100, 300, 200, 100]\n"
     ]
    }
   ],
   "source": [
    "list1=[100,200,300,100,400,500,'python']\n",
    "rev=[]\n",
    "for i in reversed(list1):\n",
    "    rev.append(i)\n",
    "print(rev)\n",
    "out=[i for i in reversed(list1)]\n",
    "print(out)"
   ]
  },
  {
   "cell_type": "code",
   "execution_count": 169,
   "id": "6ab23915",
   "metadata": {},
   "outputs": [
    {
     "ename": "TypeError",
     "evalue": "'<' not supported between instances of 'str' and 'int'",
     "output_type": "error",
     "traceback": [
      "\u001b[1;31m---------------------------------------------------------------------------\u001b[0m",
      "\u001b[1;31mTypeError\u001b[0m                                 Traceback (most recent call last)",
      "Cell \u001b[1;32mIn[169], line 2\u001b[0m\n\u001b[0;32m      1\u001b[0m list1\u001b[38;5;241m=\u001b[39m[\u001b[38;5;241m200\u001b[39m,\u001b[38;5;241m500\u001b[39m,\u001b[38;5;241m100\u001b[39m,\u001b[38;5;241m300\u001b[39m,\u001b[38;5;241m1000\u001b[39m,\u001b[38;5;241m250\u001b[39m,\u001b[38;5;124m'\u001b[39m\u001b[38;5;124mp\u001b[39m\u001b[38;5;124m'\u001b[39m,\u001b[38;5;124m'\u001b[39m\u001b[38;5;124my\u001b[39m\u001b[38;5;124m'\u001b[39m,\u001b[38;5;124m'\u001b[39m\u001b[38;5;124mt\u001b[39m\u001b[38;5;124m'\u001b[39m,\u001b[38;5;124m'\u001b[39m\u001b[38;5;124ma\u001b[39m\u001b[38;5;124m'\u001b[39m]\n\u001b[1;32m----> 2\u001b[0m \u001b[38;5;28;01mfor\u001b[39;00m i \u001b[38;5;129;01min\u001b[39;00m \u001b[38;5;28msorted\u001b[39m(list1):\n\u001b[0;32m      3\u001b[0m     \u001b[38;5;28mprint\u001b[39m(i)\n",
      "\u001b[1;31mTypeError\u001b[0m: '<' not supported between instances of 'str' and 'int'"
     ]
    }
   ],
   "source": [
    "list1=[200,500,100,300,1000,250,'p','y','t','a']\n",
    "for i in sorted(list1):\n",
    "    print(i)"
   ]
  },
  {
   "cell_type": "code",
   "execution_count": 170,
   "id": "61c5895b",
   "metadata": {},
   "outputs": [
    {
     "name": "stdout",
     "output_type": "stream",
     "text": [
      "100\n",
      "200\n",
      "250\n",
      "300\n",
      "500\n",
      "1000\n"
     ]
    }
   ],
   "source": [
    "list1=[200,500,100,300,1000,250]\n",
    "for i in sorted(list1):\n",
    "    print(i)"
   ]
  },
  {
   "cell_type": "code",
   "execution_count": 174,
   "id": "d6b49405",
   "metadata": {},
   "outputs": [
    {
     "name": "stdout",
     "output_type": "stream",
     "text": [
      "[100, 200, 250, 300, 500, 1000]\n"
     ]
    }
   ],
   "source": [
    "list1=[200,500,100,300,1000,250]\n",
    "nlist=[]\n",
    "for i in sorted(list1):\n",
    "    nlist.append(i)\n",
    "print(nlist)"
   ]
  },
  {
   "cell_type": "code",
   "execution_count": 175,
   "id": "9f2c985f",
   "metadata": {},
   "outputs": [
    {
     "data": {
      "text/plain": [
       "[100, 200, 250, 300, 500, 1000]"
      ]
     },
     "execution_count": 175,
     "metadata": {},
     "output_type": "execute_result"
    }
   ],
   "source": [
    "output=[i for i in sorted(list1)]\n",
    "output"
   ]
  },
  {
   "cell_type": "code",
   "execution_count": 176,
   "id": "3c68bcdf",
   "metadata": {},
   "outputs": [
    {
     "name": "stdout",
     "output_type": "stream",
     "text": [
      "['A', 'Awesh Khan', 'Data Science', 'Python', 'Z']\n"
     ]
    }
   ],
   "source": [
    "list1=['A','Z','Awesh Khan','Python','Data Science']\n",
    "nlist=[]\n",
    "for i in sorted(list1):\n",
    "    nlist.append(i)\n",
    "print(nlist)"
   ]
  },
  {
   "cell_type": "code",
   "execution_count": 177,
   "id": "31d65830",
   "metadata": {},
   "outputs": [
    {
     "data": {
      "text/plain": [
       "['A', 'Awesh Khan', 'Data Science', 'Python', 'Z']"
      ]
     },
     "execution_count": 177,
     "metadata": {},
     "output_type": "execute_result"
    }
   ],
   "source": [
    "output=[i for i in sorted(list1)]\n",
    "output"
   ]
  },
  {
   "cell_type": "code",
   "execution_count": 182,
   "id": "95edb571",
   "metadata": {},
   "outputs": [
    {
     "name": "stdout",
     "output_type": "stream",
     "text": [
      "Ram age is 25\n",
      "Robert age is 30\n",
      "Raheem age is 35\n"
     ]
    }
   ],
   "source": [
    "list1=[\"Ram\",\"Robert\",\"Raheem\"]\n",
    "list2=[25,30,35]\n",
    "for i,j in zip (list1,list2):\n",
    "    print(\"{} age is {}\".format(i,j))"
   ]
  },
  {
   "cell_type": "code",
   "execution_count": 183,
   "id": "9015b1ad",
   "metadata": {},
   "outputs": [
    {
     "name": "stdout",
     "output_type": "stream",
     "text": [
      "125\n",
      "230\n",
      "335\n"
     ]
    }
   ],
   "source": [
    "list1=[100,200,300]\n",
    "list2=[25,30,35]\n",
    "for i,j in zip(list1,list2):\n",
    "    print(i+j)"
   ]
  },
  {
   "cell_type": "code",
   "execution_count": 185,
   "id": "c307bd8c",
   "metadata": {},
   "outputs": [
    {
     "data": {
      "text/plain": [
       "[125, 230, 335]"
      ]
     },
     "execution_count": 185,
     "metadata": {},
     "output_type": "execute_result"
    }
   ],
   "source": [
    "list1=[100,200,300]\n",
    "list2=[25,30,35]\n",
    "add=[]\n",
    "for i,j in zip(list1,list2):\n",
    "    add.append(i+j)\n",
    "add"
   ]
  },
  {
   "cell_type": "code",
   "execution_count": 187,
   "id": "a53adf2c",
   "metadata": {},
   "outputs": [
    {
     "data": {
      "text/plain": [
       "[125, 230, 335]"
      ]
     },
     "execution_count": 187,
     "metadata": {},
     "output_type": "execute_result"
    }
   ],
   "source": [
    "add=[i+j for i,j in zip(list1,list2)]\n",
    "add"
   ]
  },
  {
   "cell_type": "code",
   "execution_count": 190,
   "id": "916d0617",
   "metadata": {},
   "outputs": [
    {
     "ename": "SyntaxError",
     "evalue": "invalid syntax (2564556946.py, line 15)",
     "output_type": "error",
     "traceback": [
      "\u001b[1;36m  Cell \u001b[1;32mIn[190], line 15\u001b[1;36m\u001b[0m\n\u001b[1;33m    for i in  range(len(list1):\u001b[0m\n\u001b[1;37m                              ^\u001b[0m\n\u001b[1;31mSyntaxError\u001b[0m\u001b[1;31m:\u001b[0m invalid syntax\n"
     ]
    }
   ],
   "source": [
    "# Take 5 question in list 1\n",
    "# take corresponding \n",
    "#irritate through list1\n",
    "# every question shoul print\n",
    "# aswer = input(\"tell the answe\")\n",
    "# if it is there : marks = marks+1\n",
    "# else: no marks\n",
    "\n",
    "\n",
    "#how many write answer you made, how may answer you got\n",
    "\n",
    "        "
   ]
  },
  {
   "cell_type": "code",
   "execution_count": 212,
   "id": "1cb37d7a",
   "metadata": {},
   "outputs": [
    {
     "name": "stdout",
     "output_type": "stream",
     "text": [
      "Who is PM of india\n",
      "Enter you answer :modi\n",
      "What is capital of india\n",
      "Enter you answer :delhi\n",
      "Who is president of india\n",
      "Enter you answer :at\n",
      "Your total obtain marks is  2\n"
     ]
    }
   ],
   "source": [
    "list1=['Who is PM of india', 'What is capital of india', 'Who is president of india']\n",
    "list2=['Modi','Delhi','Draupadi']\n",
    "marks=0\n",
    "\n",
    "for i in  range(len(list1)):\n",
    "    print(list1[i])\n",
    "    answer=input(\"Enter you answer :\")\n",
    "    if answer.capitalize()==list2[i]:\n",
    "        marks+=1\n",
    "print(\"Your total obtain marks is \",marks)"
   ]
  },
  {
   "cell_type": "code",
   "execution_count": 221,
   "id": "271f1826",
   "metadata": {},
   "outputs": [
    {
     "name": "stdout",
     "output_type": "stream",
     "text": [
      "Who is PM of india\n",
      "Enter you answer :modi\n",
      "What is capital of india\n",
      "Enter you answer :delhi\n",
      "Who is president of india\n",
      "Enter you answer :dra\n",
      "Your total obtain marks is  2\n",
      "Your total wongs ans is  1\n"
     ]
    }
   ],
   "source": [
    "list1=['Who is PM of india', 'What is capital of india', 'Who is president of india']\n",
    "list2=['Modi','Delhi','Draupadi']\n",
    "marks=0\n",
    "wrong=0\n",
    "for i,j in zip(list1,list2):\n",
    "    print(i)\n",
    "    if input(\"Enter you answer :\").capitalize()==j:\n",
    "        marks+=1\n",
    "    else:\n",
    "        wrong+=1\n",
    "print(\"Your total obtain marks is \",marks)\n",
    "print(\"Your total wongs ans is \",wrong)"
   ]
  },
  {
   "cell_type": "code",
   "execution_count": 5,
   "id": "5cb1cdb7",
   "metadata": {},
   "outputs": [
    {
     "name": "stdout",
     "output_type": "stream",
     "text": [
      "Who is PM of India\n",
      "Enter your answer: modi\n",
      "What is the capital of India\n",
      "Enter your answer: delhi\n",
      "Who is the president of India\n",
      "Enter your answer: mm\n",
      "Your total obtained marks are: 2\n"
     ]
    }
   ],
   "source": [
    "list1 = ['Who is PM of India', 'What is the capital of India', 'Who is the president of India']\n",
    "list2 = ['Modi', 'Delhi', 'Draupadi']\n",
    "mark1 = sum(1 for i, j in zip(list1, list2) if input(f\"{i}\\nEnter your answer: \").capitalize() == j)\n",
    "print(\"Your total obtained marks are:\", mark1)\n"
   ]
  },
  {
   "cell_type": "code",
   "execution_count": null,
   "id": "1d408095",
   "metadata": {},
   "outputs": [],
   "source": [
    "list1=['Who is PM of india', 'What is capital of india', 'Who is president of india']\n",
    "list2=['Modi','Delhi','Draupadi']\n",
    "marks=0\n",
    "wrong=0\n",
    "for i,j in zip(list1,list2):\n",
    "    print(i)\n",
    "    if input(\"Enter you answer :\").capitalize()==j:\n",
    "        marks+=1\n",
    "    else:\n",
    "        wrong+=1\n",
    "print(\"Your total obtain marks is \",marks)\n",
    "print(\"Your total wongs ans is \",wrong)"
   ]
  },
  {
   "cell_type": "code",
   "execution_count": 3,
   "id": "4978fc9e",
   "metadata": {},
   "outputs": [
    {
     "name": "stdout",
     "output_type": "stream",
     "text": [
      "Your total obtain marks is  0\n",
      "Your total wrongs ans is  0\n"
     ]
    }
   ],
   "source": [
    "list1=['Who is PM of india', 'What is capital of india', 'Who is president of india']\n",
    "list2=['Modi','Delhi','Draupadi']\n",
    "markss=0\n",
    "wrongs=0\n",
    "marksss=(markss+1 if input(f\"{i} \\nEnter you answer :\").capitalize()==j else len(list1)-markss for i,j in zip(list1,list2) )\n",
    "print(\"Your total obtain marks is \",markss)\n",
    "print(\"Your total wrongs ans is \",wrongs)"
   ]
  },
  {
   "cell_type": "code",
   "execution_count": 232,
   "id": "b47af74c",
   "metadata": {},
   "outputs": [
    {
     "data": {
      "text/plain": [
       "False"
      ]
     },
     "execution_count": 232,
     "metadata": {},
     "output_type": "execute_result"
    }
   ],
   "source": [
    "a = True\n",
    "b = False\n",
    "a and b"
   ]
  },
  {
   "cell_type": "code",
   "execution_count": 233,
   "id": "93a82e85",
   "metadata": {},
   "outputs": [
    {
     "data": {
      "text/plain": [
       "False"
      ]
     },
     "execution_count": 233,
     "metadata": {},
     "output_type": "execute_result"
    }
   ],
   "source": [
    "a&b"
   ]
  },
  {
   "cell_type": "code",
   "execution_count": 234,
   "id": "f2256584",
   "metadata": {},
   "outputs": [
    {
     "data": {
      "text/plain": [
       "True"
      ]
     },
     "execution_count": 234,
     "metadata": {},
     "output_type": "execute_result"
    }
   ],
   "source": [
    "a|b"
   ]
  },
  {
   "cell_type": "code",
   "execution_count": 235,
   "id": "f0db0dfd",
   "metadata": {},
   "outputs": [
    {
     "data": {
      "text/plain": [
       "True"
      ]
     },
     "execution_count": 235,
     "metadata": {},
     "output_type": "execute_result"
    }
   ],
   "source": [
    "b|a"
   ]
  },
  {
   "cell_type": "code",
   "execution_count": 236,
   "id": "07819a4d",
   "metadata": {},
   "outputs": [
    {
     "data": {
      "text/plain": [
       "(12, 34)"
      ]
     },
     "execution_count": 236,
     "metadata": {},
     "output_type": "execute_result"
    }
   ],
   "source": [
    "ab=(12,34)\n",
    "ab\n"
   ]
  },
  {
   "cell_type": "code",
   "execution_count": 237,
   "id": "63b1e06f",
   "metadata": {},
   "outputs": [
    {
     "data": {
      "text/plain": [
       "tuple"
      ]
     },
     "execution_count": 237,
     "metadata": {},
     "output_type": "execute_result"
    }
   ],
   "source": [
    "type(ab)"
   ]
  },
  {
   "cell_type": "code",
   "execution_count": 245,
   "id": "6a86e9db",
   "metadata": {},
   "outputs": [
    {
     "data": {
      "text/plain": [
       "('g', 'gh')"
      ]
     },
     "execution_count": 245,
     "metadata": {},
     "output_type": "execute_result"
    }
   ],
   "source": [
    "ab=(('g'),'g''h')\n",
    "ab"
   ]
  },
  {
   "cell_type": "code",
   "execution_count": 246,
   "id": "8bd88da4",
   "metadata": {},
   "outputs": [
    {
     "data": {
      "text/plain": [
       "tuple"
      ]
     },
     "execution_count": 246,
     "metadata": {},
     "output_type": "execute_result"
    }
   ],
   "source": [
    "type(ab)"
   ]
  },
  {
   "cell_type": "code",
   "execution_count": 248,
   "id": "cda5d9a3",
   "metadata": {},
   "outputs": [
    {
     "ename": "AttributeError",
     "evalue": "'tuple' object has no attribute 'add'",
     "output_type": "error",
     "traceback": [
      "\u001b[1;31m---------------------------------------------------------------------------\u001b[0m",
      "\u001b[1;31mAttributeError\u001b[0m                            Traceback (most recent call last)",
      "Cell \u001b[1;32mIn[248], line 2\u001b[0m\n\u001b[0;32m      1\u001b[0m a\u001b[38;5;241m=\u001b[39m(\u001b[38;5;241m1\u001b[39m,\u001b[38;5;241m2\u001b[39m,\u001b[38;5;28;01mTrue\u001b[39;00m,\u001b[38;5;124m\"\u001b[39m\u001b[38;5;124mPython\u001b[39m\u001b[38;5;124m\"\u001b[39m)\n\u001b[1;32m----> 2\u001b[0m a\u001b[38;5;241m.\u001b[39madd(d)\n",
      "\u001b[1;31mAttributeError\u001b[0m: 'tuple' object has no attribute 'add'"
     ]
    }
   ],
   "source": [
    "a=(1,2,True,\"Python\")\n",
    "a.add(d)"
   ]
  },
  {
   "cell_type": "code",
   "execution_count": 258,
   "id": "eecc58ca",
   "metadata": {},
   "outputs": [
    {
     "name": "stdout",
     "output_type": "stream",
     "text": [
      "Enter a string: iiiiiiiiiiiiiiIIIII\n",
      "It's a palindrome!\n"
     ]
    }
   ],
   "source": [
    "\n",
    "str1 = input(\"Enter a string: \")\n",
    "\n",
    "str1 = str1.lower()\n",
    "\n",
    "if str1 == str1[::-1]:\n",
    "    print(\"It's a palindrome!\")\n",
    "else:\n",
    "    print(\"It's not a palindrome.\")"
   ]
  },
  {
   "cell_type": "code",
   "execution_count": 261,
   "id": "685e25a2",
   "metadata": {},
   "outputs": [],
   "source": [
    "l1=[1,2,3,44,5]\n",
    "i=0\n",
    "while True:\n",
    "    l1[i]=l1[i]+100\n",
    "    i+=1\n",
    "    if i==len(l1):\n",
    "        break"
   ]
  },
  {
   "cell_type": "code",
   "execution_count": 262,
   "id": "549500bf",
   "metadata": {},
   "outputs": [
    {
     "data": {
      "text/plain": [
       "[101, 102, 103, 144, 105]"
      ]
     },
     "execution_count": 262,
     "metadata": {},
     "output_type": "execute_result"
    }
   ],
   "source": [
    "l1"
   ]
  },
  {
   "cell_type": "code",
   "execution_count": 263,
   "id": "10addd5f",
   "metadata": {},
   "outputs": [
    {
     "ename": "SyntaxError",
     "evalue": "invalid syntax (2140345444.py, line 1)",
     "output_type": "error",
     "traceback": [
      "\u001b[1;36m  Cell \u001b[1;32mIn[263], line 1\u001b[1;36m\u001b[0m\n\u001b[1;33m    output=[i+100 while True if i==len(l1)]\u001b[0m\n\u001b[1;37m                  ^\u001b[0m\n\u001b[1;31mSyntaxError\u001b[0m\u001b[1;31m:\u001b[0m invalid syntax\n"
     ]
    }
   ],
   "source": [
    "output=[i+100 while True if i==len(l1)]"
   ]
  },
  {
   "cell_type": "code",
   "execution_count": null,
   "id": "7a1ba595",
   "metadata": {},
   "outputs": [],
   "source": []
  }
 ],
 "metadata": {
  "kernelspec": {
   "display_name": "Python 3 (ipykernel)",
   "language": "python",
   "name": "python3"
  },
  "language_info": {
   "codemirror_mode": {
    "name": "ipython",
    "version": 3
   },
   "file_extension": ".py",
   "mimetype": "text/x-python",
   "name": "python",
   "nbconvert_exporter": "python",
   "pygments_lexer": "ipython3",
   "version": "3.11.5"
  }
 },
 "nbformat": 4,
 "nbformat_minor": 5
}
