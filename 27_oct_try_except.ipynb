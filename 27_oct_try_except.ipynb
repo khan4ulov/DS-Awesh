{
 "cells": [
  {
   "cell_type": "code",
   "execution_count": 1,
   "id": "8bd86be5",
   "metadata": {},
   "outputs": [
    {
     "name": "stdout",
     "output_type": "stream",
     "text": [
      "enter a number :24\n",
      "enter a number :26\n",
      "50\n"
     ]
    }
   ],
   "source": [
    "num1 = eval(input(\"enter a number :\"))\n",
    "num2 = eval(input(\"enter a number :\"))\n",
    "add = num1+num2\n",
    "print(add)"
   ]
  },
  {
   "cell_type": "code",
   "execution_count": 2,
   "id": "a61cc9c5",
   "metadata": {},
   "outputs": [
    {
     "name": "stdout",
     "output_type": "stream",
     "text": [
      "enter a number :24\n",
      "enter a number :24\n"
     ]
    },
    {
     "ename": "NameError",
     "evalue": "name 'num3' is not defined",
     "output_type": "error",
     "traceback": [
      "\u001b[1;31m---------------------------------------------------------------------------\u001b[0m",
      "\u001b[1;31mNameError\u001b[0m                                 Traceback (most recent call last)",
      "Cell \u001b[1;32mIn[2], line 4\u001b[0m\n\u001b[0;32m      2\u001b[0m num1 \u001b[38;5;241m=\u001b[39m \u001b[38;5;28meval\u001b[39m(\u001b[38;5;28minput\u001b[39m(\u001b[38;5;124m\"\u001b[39m\u001b[38;5;124menter a number :\u001b[39m\u001b[38;5;124m\"\u001b[39m))\n\u001b[0;32m      3\u001b[0m num2 \u001b[38;5;241m=\u001b[39m \u001b[38;5;28meval\u001b[39m(\u001b[38;5;28minput\u001b[39m(\u001b[38;5;124m\"\u001b[39m\u001b[38;5;124menter a number :\u001b[39m\u001b[38;5;124m\"\u001b[39m))\n\u001b[1;32m----> 4\u001b[0m add \u001b[38;5;241m=\u001b[39m num1\u001b[38;5;241m+\u001b[39mnum3\n\u001b[0;32m      5\u001b[0m \u001b[38;5;28mprint\u001b[39m(add)\n",
      "\u001b[1;31mNameError\u001b[0m: name 'num3' is not defined"
     ]
    }
   ],
   "source": [
    "#error-1 : name error num 3 not defined\n",
    "\n",
    "num1 = eval(input(\"enter a number :\"))\n",
    "num2 = eval(input(\"enter a number :\"))\n",
    "add = num1+num3\n",
    "print(add)\n",
    "#check num3 is existed or not"
   ]
  },
  {
   "cell_type": "code",
   "execution_count": 18,
   "id": "c4986b53",
   "metadata": {},
   "outputs": [
    {
     "name": "stdout",
     "output_type": "stream",
     "text": [
      "enter a number :100\n",
      "enter a number :10\n",
      "10.0\n"
     ]
    }
   ],
   "source": [
    "#error-2 : syntax error\n",
    "num1 = eval(input(\"enter a number :\"))\n",
    "num2 = eval(input(\"enter a number :\"))\n",
    "add = (num1/num2)\n",
    "print(add)"
   ]
  },
  {
   "cell_type": "markdown",
   "id": "7fb5ca33",
   "metadata": {},
   "source": [
    "# Exception handling  \n",
    "use : - if any error is there so code will run  \n",
    "    **try           except**\n",
    "- there are two blocks\n",
    "- one try block  \n",
    "- another is exception block\n",
    "- your code will be there in try block\n",
    "- error capture will happens in except block  \n",
    "- indentation has min 4 charcters\n"
   ]
  },
  {
   "cell_type": "markdown",
   "id": "65a8b68c",
   "metadata": {},
   "source": []
  },
  {
   "cell_type": "code",
   "execution_count": 20,
   "id": "b2adab5a",
   "metadata": {},
   "outputs": [
    {
     "name": "stdout",
     "output_type": "stream",
     "text": [
      "enter a number :122\n",
      "enter a number :2\n",
      "61.0\n"
     ]
    }
   ],
   "source": [
    "try:\n",
    "    num1 = eval(input(\"enter a number :\"))\n",
    "    num2 = eval(input(\"enter a number :\"))\n",
    "    add = (num1/num2)\n",
    "    print(add)\n",
    "except:\n",
    "    print(\"well done\")"
   ]
  },
  {
   "cell_type": "code",
   "execution_count": 45,
   "id": "d3991444",
   "metadata": {},
   "outputs": [
    {
     "name": "stdout",
     "output_type": "stream",
     "text": [
      "try anumber between 0 to 10054\n",
      "please enter a num33\n",
      "33\n"
     ]
    }
   ],
   "source": [
    "try:\n",
    "    a = int(input(\"try anumber between 0 to 100\"))\n",
    "    try:\n",
    "        num1 = eval(input(\"please enter a num\"))\n",
    "        print(num1)\n",
    "    except:\n",
    "        print(\"Please enter a number\")\n",
    "except:\n",
    "    print(\"Yoy enterd a wrong no please try again\")"
   ]
  },
  {
   "cell_type": "code",
   "execution_count": null,
   "id": "cd47be6a",
   "metadata": {},
   "outputs": [],
   "source": [
    "try:\n",
    "    a = int(input(\"try anumber between 0 to 100\"))\n",
    "    try:\n",
    "        num1 = eval(input(\"please enter a num\"))\n",
    "        print(num1)\n",
    "    except:\n",
    "        print(\"Please enter a number\")\n",
    "except:\n",
    "    print(\"Yoy enterd a wrong no please try again\")"
   ]
  },
  {
   "cell_type": "code",
   "execution_count": 46,
   "id": "6d04790f",
   "metadata": {},
   "outputs": [
    {
     "name": "stdout",
     "output_type": "stream",
     "text": [
      "please enter a number23\n",
      "please enter a number23\n",
      "please enter a number33\n",
      "name 'd' is not defined\n"
     ]
    }
   ],
   "source": [
    "try:\n",
    "    a = eval(input(\"please enter a number\"))\n",
    "    b = eval(input(\"please enter a number\"))\n",
    "    c = eval(input(\"please enter a number\"))\n",
    "    add = a+b+c+d\n",
    "    print(add)\n",
    "except Exception as e:\n",
    "    print(e)"
   ]
  },
  {
   "cell_type": "code",
   "execution_count": 50,
   "id": "257f7abf",
   "metadata": {},
   "outputs": [
    {
     "name": "stdout",
     "output_type": "stream",
     "text": [
      "please enter a number34\n",
      "please enter a number454\n",
      "please enter a number43\n",
      "531\n"
     ]
    }
   ],
   "source": [
    "try:\n",
    "    a = eval(input(\"please enter a number\"))\n",
    "    b = eval(input(\"please enter a number\"))\n",
    "    c = eval(input(\"please enter a number\"))\n",
    "    add = a+b+c\n",
    "    print(add)\n",
    "except Exception as en:\n",
    "    print(en)"
   ]
  },
  {
   "cell_type": "code",
   "execution_count": 53,
   "id": "1356943e",
   "metadata": {},
   "outputs": [
    {
     "name": "stdout",
     "output_type": "stream",
     "text": [
      "please enter a numbeer :dd\n",
      "Please enter a Valid Number\n"
     ]
    }
   ],
   "source": [
    "try:\n",
    "    a = eval(input(\"please enter a numbeer :\"))\n",
    "    print(a*a)\n",
    "except:\n",
    "    print(\"Please enter a Valid Number\")"
   ]
  },
  {
   "cell_type": "code",
   "execution_count": 58,
   "id": "aae3d49e",
   "metadata": {},
   "outputs": [
    {
     "name": "stdout",
     "output_type": "stream",
     "text": [
      "please enter a numbeer :e\n",
      "1000000\n"
     ]
    }
   ],
   "source": [
    "try:\n",
    "    e = 1000\n",
    "    a = eval(input(\"please enter a numbeer :\"))\n",
    "    print(a*a)\n",
    "except Exception as d:\n",
    "    print(d)"
   ]
  },
  {
   "cell_type": "code",
   "execution_count": 59,
   "id": "ac8f7c26",
   "metadata": {},
   "outputs": [
    {
     "name": "stdout",
     "output_type": "stream",
     "text": [
      "please enter a numbeer :e\n",
      "1000000\n"
     ]
    }
   ],
   "source": [
    "try:\n",
    "    a = eval(input(\"please enter a numbeer :\"))\n",
    "    print(a*a)\n",
    "except Exception as d:\n",
    "    print(d)"
   ]
  },
  {
   "cell_type": "code",
   "execution_count": 60,
   "id": "6b0439b9",
   "metadata": {},
   "outputs": [
    {
     "data": {
      "text/plain": [
       "(None, None, None)"
      ]
     },
     "execution_count": 60,
     "metadata": {},
     "output_type": "execute_result"
    }
   ],
   "source": [
    "import sys\n",
    "sys.exc_info()"
   ]
  },
  {
   "cell_type": "code",
   "execution_count": 61,
   "id": "acd6cca9",
   "metadata": {},
   "outputs": [
    {
     "name": "stdout",
     "output_type": "stream",
     "text": [
      "Help on tuple object:\n",
      "\n",
      "class tuple(object)\n",
      " |  tuple(iterable=(), /)\n",
      " |  \n",
      " |  Built-in immutable sequence.\n",
      " |  \n",
      " |  If no argument is given, the constructor returns an empty tuple.\n",
      " |  If iterable is specified the tuple is initialized from iterable's items.\n",
      " |  \n",
      " |  If the argument is a tuple, the return value is the same object.\n",
      " |  \n",
      " |  Built-in subclasses:\n",
      " |      asyncgen_hooks\n",
      " |      UnraisableHookArgs\n",
      " |  \n",
      " |  Methods defined here:\n",
      " |  \n",
      " |  __add__(self, value, /)\n",
      " |      Return self+value.\n",
      " |  \n",
      " |  __contains__(self, key, /)\n",
      " |      Return key in self.\n",
      " |  \n",
      " |  __eq__(self, value, /)\n",
      " |      Return self==value.\n",
      " |  \n",
      " |  __ge__(self, value, /)\n",
      " |      Return self>=value.\n",
      " |  \n",
      " |  __getattribute__(self, name, /)\n",
      " |      Return getattr(self, name).\n",
      " |  \n",
      " |  __getitem__(self, key, /)\n",
      " |      Return self[key].\n",
      " |  \n",
      " |  __getnewargs__(self, /)\n",
      " |  \n",
      " |  __gt__(self, value, /)\n",
      " |      Return self>value.\n",
      " |  \n",
      " |  __hash__(self, /)\n",
      " |      Return hash(self).\n",
      " |  \n",
      " |  __iter__(self, /)\n",
      " |      Implement iter(self).\n",
      " |  \n",
      " |  __le__(self, value, /)\n",
      " |      Return self<=value.\n",
      " |  \n",
      " |  __len__(self, /)\n",
      " |      Return len(self).\n",
      " |  \n",
      " |  __lt__(self, value, /)\n",
      " |      Return self<value.\n",
      " |  \n",
      " |  __mul__(self, value, /)\n",
      " |      Return self*value.\n",
      " |  \n",
      " |  __ne__(self, value, /)\n",
      " |      Return self!=value.\n",
      " |  \n",
      " |  __repr__(self, /)\n",
      " |      Return repr(self).\n",
      " |  \n",
      " |  __rmul__(self, value, /)\n",
      " |      Return value*self.\n",
      " |  \n",
      " |  count(self, value, /)\n",
      " |      Return number of occurrences of value.\n",
      " |  \n",
      " |  index(self, value, start=0, stop=9223372036854775807, /)\n",
      " |      Return first index of value.\n",
      " |      \n",
      " |      Raises ValueError if the value is not present.\n",
      " |  \n",
      " |  ----------------------------------------------------------------------\n",
      " |  Class methods defined here:\n",
      " |  \n",
      " |  __class_getitem__(...) from builtins.type\n",
      " |      See PEP 585\n",
      " |  \n",
      " |  ----------------------------------------------------------------------\n",
      " |  Static methods defined here:\n",
      " |  \n",
      " |  __new__(*args, **kwargs) from builtins.type\n",
      " |      Create and return a new object.  See help(type) for accurate signature.\n",
      "\n"
     ]
    }
   ],
   "source": [
    "help(sys.exc_info())"
   ]
  },
  {
   "cell_type": "code",
   "execution_count": 63,
   "id": "a3021c88",
   "metadata": {},
   "outputs": [
    {
     "data": {
      "text/plain": [
       "(None, None, None)"
      ]
     },
     "execution_count": 63,
     "metadata": {},
     "output_type": "execute_result"
    }
   ],
   "source": [
    "sys.exc_info()"
   ]
  },
  {
   "cell_type": "code",
   "execution_count": 64,
   "id": "f827f1af",
   "metadata": {},
   "outputs": [
    {
     "name": "stdout",
     "output_type": "stream",
     "text": [
      "please enter a numbeer :ee\n",
      "name 'ee' is not defined\n",
      "hi\n"
     ]
    }
   ],
   "source": [
    "try:\n",
    "    a = eval(input(\"please enter a numbeer :\"))\n",
    "    print(a*a)\n",
    "except Exception as d:\n",
    "    print(d)\n",
    "    print(\"hi\")"
   ]
  },
  {
   "cell_type": "code",
   "execution_count": 69,
   "id": "03a37128",
   "metadata": {},
   "outputs": [
    {
     "name": "stdout",
     "output_type": "stream",
     "text": [
      "please enter a numbeer :dd\n",
      "Hi\n",
      "name 'dd' is not defined\n",
      "hi\n"
     ]
    }
   ],
   "source": [
    "try:\n",
    "    a = eval(input(\"please enter a numbeer :\"))\n",
    "    print(a*a)\n",
    "except Exception as d:\n",
    "    print(\"Hi\")\n",
    "    print(d)\n",
    "    print(\"hi\")"
   ]
  },
  {
   "cell_type": "code",
   "execution_count": 70,
   "id": "decc5a5d",
   "metadata": {},
   "outputs": [
    {
     "name": "stdout",
     "output_type": "stream",
     "text": [
      "please enter a numbeer :33\n",
      "1089\n",
      "python\n",
      "1\n",
      "33\n"
     ]
    }
   ],
   "source": [
    "try:\n",
    "    a = eval(input(\"please enter a numbeer :\"))\n",
    "    print(a*a)\n",
    "except Exception as d:\n",
    "    print(\"Hi\")\n",
    "    print(d)\n",
    "    print(\"hi\")\n",
    "print(\"python\")\n",
    "print(1)\n",
    "print(a)"
   ]
  },
  {
   "cell_type": "code",
   "execution_count": 73,
   "id": "8c84667f",
   "metadata": {},
   "outputs": [
    {
     "name": "stdout",
     "output_type": "stream",
     "text": [
      "please enter a numbeer :231\n",
      "1089\n",
      "python\n",
      "1\n",
      "231\n"
     ]
    }
   ],
   "source": [
    "try:\n",
    "    xx = eval(input(\"please enter a numbeer :\"))\n",
    "    print(a*a)\n",
    "except Exception as d:\n",
    "    print(\"Hi\")\n",
    "    print(d)\n",
    "    print(\"hi\")\n",
    "print(\"python\")\n",
    "print(1)\n",
    "print(xx)"
   ]
  },
  {
   "cell_type": "code",
   "execution_count": 77,
   "id": "2e80bf9e",
   "metadata": {},
   "outputs": [
    {
     "name": "stdout",
     "output_type": "stream",
     "text": [
      "please enter a numberee\n",
      "invalid literal for int() with base 10: 'ee'\n",
      "Please enter a number\n"
     ]
    }
   ],
   "source": [
    "try:\n",
    "    a =  input(\"please enter a number\")\n",
    "    print(int(a))\n",
    "except Exception as e:\n",
    "    print(e)\n",
    "    print(\"Please enter a number\")"
   ]
  },
  {
   "cell_type": "code",
   "execution_count": 78,
   "id": "b29afb44",
   "metadata": {},
   "outputs": [
    {
     "ename": "SyntaxError",
     "evalue": "invalid syntax (459247396.py, line 1)",
     "output_type": "error",
     "traceback": [
      "\u001b[1;36m  Cell \u001b[1;32mIn[78], line 1\u001b[1;36m\u001b[0m\n\u001b[1;33m    if:\u001b[0m\n\u001b[1;37m      ^\u001b[0m\n\u001b[1;31mSyntaxError\u001b[0m\u001b[1;31m:\u001b[0m invalid syntax\n"
     ]
    }
   ],
   "source": []
  },
  {
   "cell_type": "code",
   "execution_count": 84,
   "id": "d939bfb1",
   "metadata": {},
   "outputs": [
    {
     "name": "stdout",
     "output_type": "stream",
     "text": [
      "please enter a number :25\n",
      "625\n"
     ]
    }
   ],
   "source": [
    "try:\n",
    "    a =  input(\"please enter a number :\")\n",
    "    try:\n",
    "        b = int(a)\n",
    "        c = b*b\n",
    "        print(c)\n",
    "    except:\n",
    "        print(a)\n",
    "except Exception as e:\n",
    "    print(e)"
   ]
  },
  {
   "cell_type": "code",
   "execution_count": 87,
   "id": "53b8b92d",
   "metadata": {},
   "outputs": [
    {
     "name": "stdout",
     "output_type": "stream",
     "text": [
      "enter2\n",
      "djd\n"
     ]
    }
   ],
   "source": [
    "a = eval(input(\"enter\"))\n",
    "try:\n",
    "    if(a>18):\n",
    "        print(\"You can drive age is\",a)\n",
    "    else:\n",
    "        print(\"djd\")\n",
    "except:\n",
    "    print(\"W\")"
   ]
  },
  {
   "cell_type": "code",
   "execution_count": null,
   "id": "835e3e61",
   "metadata": {},
   "outputs": [],
   "source": []
  },
  {
   "cell_type": "code",
   "execution_count": null,
   "id": "afa054f2",
   "metadata": {},
   "outputs": [],
   "source": []
  },
  {
   "cell_type": "code",
   "execution_count": null,
   "id": "3996805c",
   "metadata": {},
   "outputs": [],
   "source": []
  },
  {
   "cell_type": "code",
   "execution_count": null,
   "id": "01a00fa7",
   "metadata": {},
   "outputs": [],
   "source": []
  },
  {
   "cell_type": "code",
   "execution_count": null,
   "id": "1a64c5e8",
   "metadata": {},
   "outputs": [],
   "source": []
  },
  {
   "cell_type": "code",
   "execution_count": null,
   "id": "c24e40fa",
   "metadata": {},
   "outputs": [],
   "source": []
  },
  {
   "cell_type": "code",
   "execution_count": null,
   "id": "ecfcc68c",
   "metadata": {},
   "outputs": [],
   "source": []
  }
 ],
 "metadata": {
  "kernelspec": {
   "display_name": "Python 3 (ipykernel)",
   "language": "python",
   "name": "python3"
  },
  "language_info": {
   "codemirror_mode": {
    "name": "ipython",
    "version": 3
   },
   "file_extension": ".py",
   "mimetype": "text/x-python",
   "name": "python",
   "nbconvert_exporter": "python",
   "pygments_lexer": "ipython3",
   "version": "3.11.5"
  }
 },
 "nbformat": 4,
 "nbformat_minor": 5
}
